{
 "cells": [
  {
   "cell_type": "markdown",
   "metadata": {
    "id": "E0vqbgi9ay0H"
   },
   "source": [
    "# Яндекс.Музыка"
   ]
  },
  {
   "cell_type": "markdown",
   "metadata": {
    "id": "VUC88oWjTJw2"
   },
   "source": [
    "Сравнение Москвы и Петербурга окружено мифами. Например:\n",
    " * Москва — мегаполис, подчинённый жёсткому ритму рабочей недели;\n",
    " * Петербург — культурная столица, со своими вкусами.\n",
    "\n",
    "На данных Яндекс.Музыки вы сравните поведение пользователей двух столиц.\n",
    "\n",
    "**Цель исследования** — проверьте три гипотезы:\n",
    "1. Активность пользователей зависит от дня недели. Причём в Москве и Петербурге это проявляется по-разному.\n",
    "2. В понедельник утром в Москве преобладают одни жанры, а в Петербурге — другие. Так же и вечером пятницы преобладают разные жанры — в зависимости от города. \n",
    "3. Москва и Петербург предпочитают разные жанры музыки. В Москве чаще слушают поп-музыку, в Петербурге — русский рэп.\n",
    "\n",
    "**Ход исследования**\n",
    "\n",
    "Данные о поведении пользователей вы получите из файла `yandex_music_project.csv`. О качестве данных ничего не известно. Поэтому перед проверкой гипотез понадобится обзор данных. \n",
    "\n",
    "Вы проверите данные на ошибки и оцените их влияние на исследование. Затем, на этапе предобработки вы поищете возможность исправить самые критичные ошибки данных.\n",
    " \n",
    "Таким образом, исследование пройдёт в три этапа:\n",
    " 1. Обзор данных.\n",
    " 2. Предобработка данных.\n",
    " 3. Проверка гипотез.\n",
    "\n"
   ]
  },
  {
   "cell_type": "markdown",
   "metadata": {
    "id": "Ml1hmfXC_Zcs"
   },
   "source": [
    "## Обзор данных\n",
    "\n",
    "Составьте первое представление о данных Яндекс.Музыки.\n",
    "\n",
    "\n"
   ]
  },
  {
   "cell_type": "markdown",
   "metadata": {
    "id": "57eAOGIz_Zcs"
   },
   "source": [
    "Основной инструмент аналитика — `pandas`. Импортируйте эту библиотеку."
   ]
  },
  {
   "cell_type": "code",
   "execution_count": 1,
   "metadata": {
    "id": "AXN7PHPN_Zcs"
   },
   "outputs": [],
   "source": [
    "# импорт библиотеки pandas\n",
    "import pandas as pd"
   ]
  },
  {
   "cell_type": "markdown",
   "metadata": {
    "id": "SG23P8tt_Zcs"
   },
   "source": [
    "\n",
    "Прочитайте файл `yandex_music_project.csv` из папки `/datasets` и сохраните его в переменной `df`:"
   ]
  },
  {
   "cell_type": "code",
   "execution_count": 5,
   "metadata": {
    "id": "fFVu7vqh_Zct"
   },
   "outputs": [],
   "source": [
    "# чтение файла с данными и сохранение в df\n",
    "df = pd.read_csv('yandex_music_project.csv')\n",
    "df.to_csv('yandex_music_project.csv', index=False)"
   ]
  },
  {
   "cell_type": "markdown",
   "metadata": {
    "id": "rDoOMd3uTqnZ"
   },
   "source": [
    "\n",
    "Выведите на экран первые десять строк таблицы:"
   ]
  },
  {
   "cell_type": "code",
   "execution_count": 6,
   "metadata": {
    "id": "oWTVX3gW_Zct",
    "scrolled": true
   },
   "outputs": [
    {
     "data": {
      "text/html": [
       "<div>\n",
       "<style scoped>\n",
       "    .dataframe tbody tr th:only-of-type {\n",
       "        vertical-align: middle;\n",
       "    }\n",
       "\n",
       "    .dataframe tbody tr th {\n",
       "        vertical-align: top;\n",
       "    }\n",
       "\n",
       "    .dataframe thead th {\n",
       "        text-align: right;\n",
       "    }\n",
       "</style>\n",
       "<table border=\"1\" class=\"dataframe\">\n",
       "  <thead>\n",
       "    <tr style=\"text-align: right;\">\n",
       "      <th></th>\n",
       "      <th>userID</th>\n",
       "      <th>Track</th>\n",
       "      <th>artist</th>\n",
       "      <th>genre</th>\n",
       "      <th>City</th>\n",
       "      <th>time</th>\n",
       "      <th>Day</th>\n",
       "    </tr>\n",
       "  </thead>\n",
       "  <tbody>\n",
       "    <tr>\n",
       "      <th>0</th>\n",
       "      <td>FFB692EC</td>\n",
       "      <td>Kamigata To Boots</td>\n",
       "      <td>The Mass Missile</td>\n",
       "      <td>rock</td>\n",
       "      <td>Saint-Petersburg</td>\n",
       "      <td>20:28:33</td>\n",
       "      <td>Wednesday</td>\n",
       "    </tr>\n",
       "    <tr>\n",
       "      <th>1</th>\n",
       "      <td>55204538</td>\n",
       "      <td>Delayed Because of Accident</td>\n",
       "      <td>Andreas Rönnberg</td>\n",
       "      <td>rock</td>\n",
       "      <td>Moscow</td>\n",
       "      <td>14:07:09</td>\n",
       "      <td>Friday</td>\n",
       "    </tr>\n",
       "    <tr>\n",
       "      <th>2</th>\n",
       "      <td>20EC38</td>\n",
       "      <td>Funiculì funiculà</td>\n",
       "      <td>Mario Lanza</td>\n",
       "      <td>pop</td>\n",
       "      <td>Saint-Petersburg</td>\n",
       "      <td>20:58:07</td>\n",
       "      <td>Wednesday</td>\n",
       "    </tr>\n",
       "    <tr>\n",
       "      <th>3</th>\n",
       "      <td>A3DD03C9</td>\n",
       "      <td>Dragons in the Sunset</td>\n",
       "      <td>Fire + Ice</td>\n",
       "      <td>folk</td>\n",
       "      <td>Saint-Petersburg</td>\n",
       "      <td>08:37:09</td>\n",
       "      <td>Monday</td>\n",
       "    </tr>\n",
       "    <tr>\n",
       "      <th>4</th>\n",
       "      <td>E2DC1FAE</td>\n",
       "      <td>Soul People</td>\n",
       "      <td>Space Echo</td>\n",
       "      <td>dance</td>\n",
       "      <td>Moscow</td>\n",
       "      <td>08:34:34</td>\n",
       "      <td>Monday</td>\n",
       "    </tr>\n",
       "    <tr>\n",
       "      <th>5</th>\n",
       "      <td>842029A1</td>\n",
       "      <td>Преданная</td>\n",
       "      <td>IMPERVTOR</td>\n",
       "      <td>rusrap</td>\n",
       "      <td>Saint-Petersburg</td>\n",
       "      <td>13:09:41</td>\n",
       "      <td>Friday</td>\n",
       "    </tr>\n",
       "    <tr>\n",
       "      <th>6</th>\n",
       "      <td>4CB90AA5</td>\n",
       "      <td>True</td>\n",
       "      <td>Roman Messer</td>\n",
       "      <td>dance</td>\n",
       "      <td>Moscow</td>\n",
       "      <td>13:00:07</td>\n",
       "      <td>Wednesday</td>\n",
       "    </tr>\n",
       "    <tr>\n",
       "      <th>7</th>\n",
       "      <td>F03E1C1F</td>\n",
       "      <td>Feeling This Way</td>\n",
       "      <td>Polina Griffith</td>\n",
       "      <td>dance</td>\n",
       "      <td>Moscow</td>\n",
       "      <td>20:47:49</td>\n",
       "      <td>Wednesday</td>\n",
       "    </tr>\n",
       "    <tr>\n",
       "      <th>8</th>\n",
       "      <td>8FA1D3BE</td>\n",
       "      <td>И вновь продолжается бой</td>\n",
       "      <td>NaN</td>\n",
       "      <td>ruspop</td>\n",
       "      <td>Moscow</td>\n",
       "      <td>09:17:40</td>\n",
       "      <td>Friday</td>\n",
       "    </tr>\n",
       "    <tr>\n",
       "      <th>9</th>\n",
       "      <td>E772D5C0</td>\n",
       "      <td>Pessimist</td>\n",
       "      <td>NaN</td>\n",
       "      <td>dance</td>\n",
       "      <td>Saint-Petersburg</td>\n",
       "      <td>21:20:49</td>\n",
       "      <td>Wednesday</td>\n",
       "    </tr>\n",
       "  </tbody>\n",
       "</table>\n",
       "</div>"
      ],
      "text/plain": [
       "     userID                        Track            artist   genre  \\\n",
       "0  FFB692EC            Kamigata To Boots  The Mass Missile    rock   \n",
       "1  55204538  Delayed Because of Accident  Andreas Rönnberg    rock   \n",
       "2    20EC38            Funiculì funiculà       Mario Lanza     pop   \n",
       "3  A3DD03C9        Dragons in the Sunset        Fire + Ice    folk   \n",
       "4  E2DC1FAE                  Soul People        Space Echo   dance   \n",
       "5  842029A1                    Преданная         IMPERVTOR  rusrap   \n",
       "6  4CB90AA5                         True      Roman Messer   dance   \n",
       "7  F03E1C1F             Feeling This Way   Polina Griffith   dance   \n",
       "8  8FA1D3BE     И вновь продолжается бой               NaN  ruspop   \n",
       "9  E772D5C0                    Pessimist               NaN   dance   \n",
       "\n",
       "             City        time        Day  \n",
       "0  Saint-Petersburg  20:28:33  Wednesday  \n",
       "1            Moscow  14:07:09     Friday  \n",
       "2  Saint-Petersburg  20:58:07  Wednesday  \n",
       "3  Saint-Petersburg  08:37:09     Monday  \n",
       "4            Moscow  08:34:34     Monday  \n",
       "5  Saint-Petersburg  13:09:41     Friday  \n",
       "6            Moscow  13:00:07  Wednesday  \n",
       "7            Moscow  20:47:49  Wednesday  \n",
       "8            Moscow  09:17:40     Friday  \n",
       "9  Saint-Petersburg  21:20:49  Wednesday  "
      ]
     },
     "execution_count": 6,
     "metadata": {},
     "output_type": "execute_result"
    }
   ],
   "source": [
    "# получение первых 10 строк таблицы df\n",
    "df.head(10)"
   ]
  },
  {
   "cell_type": "markdown",
   "metadata": {
    "id": "EO73Kwic_Zct"
   },
   "source": [
    "Одной командой получить общую информацию о таблице:"
   ]
  },
  {
   "cell_type": "code",
   "execution_count": 4,
   "metadata": {
    "id": "DSf2kIb-_Zct"
   },
   "outputs": [
    {
     "name": "stdout",
     "output_type": "stream",
     "text": [
      "<class 'pandas.core.frame.DataFrame'>\n",
      "RangeIndex: 65079 entries, 0 to 65078\n",
      "Data columns (total 7 columns):\n",
      "  userID    65079 non-null object\n",
      "Track       63848 non-null object\n",
      "artist      57876 non-null object\n",
      "genre       63881 non-null object\n",
      "  City      65079 non-null object\n",
      "time        65079 non-null object\n",
      "Day         65079 non-null object\n",
      "dtypes: object(7)\n",
      "memory usage: 3.5+ MB\n"
     ]
    }
   ],
   "source": [
    "df.info()\n",
    "# получение общей информации о данных в таблице df"
   ]
  },
  {
   "cell_type": "markdown",
   "metadata": {
    "id": "TaQ2Iwbr_Zct"
   },
   "source": [
    "Итак, в таблице семь столбцов. Тип данных во всех столбцах — `object`.\n",
    "\n",
    "Согласно документации к данным:\n",
    "* `userID` — идентификатор пользователя;\n",
    "* `Track` — название трека;  \n",
    "* `artist` — имя исполнителя;\n",
    "* `genre` — название жанра;\n",
    "* `City` — город пользователя;\n",
    "* `time` — время начала прослушивания;\n",
    "* `Day` — день недели.\n",
    "\n",
    "В названиях колонок видны три нарушения стиля:\n",
    "1. Строчные буквы сочетаются с прописными.\n",
    "2. Встречаются пробелы.\n",
    "3. Найдите ещё одну проблему в названии колонок и опишите её в этом пункте.\n",
    "\n",
    "\n",
    "\n",
    "Количество значений в столбцах различается. Значит, в данных есть пропущенные значения.\n"
   ]
  },
  {
   "cell_type": "markdown",
   "metadata": {
    "id": "MCB6-dXG_Zct"
   },
   "source": [
    "**Выводы**\n",
    "\n",
    "В каждой строке таблицы — данные о прослушанном треке. Часть колонок описывает саму композицию: название, исполнителя и жанр. Остальные данные рассказывают о пользователе: из какого он города, когда он слушал музыку. \n",
    "\n",
    "Предварительно можно утверждать, что, данных достаточно для проверки гипотез. Но встречаются пропуски в данных, а в названиях колонок — расхождения с хорошим стилем.\n",
    "\n",
    "Чтобы двигаться дальше, нужно устранить проблемы в данных."
   ]
  },
  {
   "cell_type": "markdown",
   "metadata": {
    "id": "SjYF6Ub9_Zct"
   },
   "source": [
    "## Предобработка данных\n",
    "Исправьте стиль в заголовках столбцов, исключите пропуски. Затем проверьте данные на дубликаты."
   ]
  },
  {
   "cell_type": "markdown",
   "metadata": {
    "id": "dIaKXr29_Zct"
   },
   "source": [
    "### Стиль заголовков\n",
    "Выведите на экран названия столбцов:"
   ]
  },
  {
   "cell_type": "code",
   "execution_count": 5,
   "metadata": {
    "id": "oKOTdF_Q_Zct"
   },
   "outputs": [
    {
     "data": {
      "text/plain": [
       "Index(['  userID', 'Track', 'artist', 'genre', '  City  ', 'time', 'Day'], dtype='object')"
      ]
     },
     "execution_count": 5,
     "metadata": {},
     "output_type": "execute_result"
    }
   ],
   "source": [
    "# перечень названий столбцов таблицы df\n",
    "df.columns"
   ]
  },
  {
   "cell_type": "markdown",
   "metadata": {
    "id": "FPZA3ki8xe7T"
   },
   "source": []
  },
  {
   "cell_type": "markdown",
   "metadata": {
    "id": "zj5534cv_Zct"
   },
   "source": [
    "Приведите названия в соответствие с хорошим стилем:\n",
    "* несколько слов в названии запишите в «змеином_регистре»,\n",
    "* все символы сделайте строчными,\n",
    "* устраните пробелы.\n",
    "\n",
    "Для этого переименуйте колонки так:\n",
    "* `'  userID'` → `'user_id'`;\n",
    "* `'Track'` → `'track'`;\n",
    "* `'  City  '` → `'city'`;\n",
    "* `'Day'` → `'day'`."
   ]
  },
  {
   "cell_type": "code",
   "execution_count": 6,
   "metadata": {
    "id": "ISlFqs5y_Zct"
   },
   "outputs": [],
   "source": [
    "# переименование столбцов\n",
    "df = df.rename(columns = {'  userID':'user_id' , 'Track':'track' , '  City  ':'city' , 'Day' : 'day'})"
   ]
  },
  {
   "cell_type": "markdown",
   "metadata": {
    "id": "1dqbh00J_Zct"
   },
   "source": [
    "Проверьте результат. Для этого ещё раз выведите на экран названия столбцов:"
   ]
  },
  {
   "cell_type": "code",
   "execution_count": 7,
   "metadata": {
    "id": "d4NOAmTW_Zct"
   },
   "outputs": [
    {
     "data": {
      "text/plain": [
       "Index(['user_id', 'track', 'artist', 'genre', 'city', 'time', 'day'], dtype='object')"
      ]
     },
     "execution_count": 7,
     "metadata": {},
     "output_type": "execute_result"
    }
   ],
   "source": [
    "# проверка результатов - перечень названий столбцов\n",
    "df.columns"
   ]
  },
  {
   "cell_type": "markdown",
   "metadata": {
    "id": "5ISfbcfY_Zct"
   },
   "source": [
    "### Пропуски значений\n",
    "Сначала посчитайте, сколько в таблице пропущенных значений. Для этого достаточно двух методов `pandas`:"
   ]
  },
  {
   "cell_type": "code",
   "execution_count": 8,
   "metadata": {
    "id": "RskX29qr_Zct"
   },
   "outputs": [
    {
     "data": {
      "text/plain": [
       "user_id       0\n",
       "track      1231\n",
       "artist     7203\n",
       "genre      1198\n",
       "city          0\n",
       "time          0\n",
       "day           0\n",
       "dtype: int64"
      ]
     },
     "execution_count": 8,
     "metadata": {},
     "output_type": "execute_result"
    }
   ],
   "source": [
    "# подсчёт пропусков\n",
    "df.isna().sum()"
   ]
  },
  {
   "cell_type": "markdown",
   "metadata": {
    "id": "qubhgnlO_Zct"
   },
   "source": [
    "Не все пропущенные значения влияют на исследование. Так в `track` и `artist` пропуски не важны для вашей работы. Достаточно заменить их явными обозначениями.\n",
    "\n",
    "Но пропуски в `genre` могут помешать сравнению музыкальных вкусов в Москве и Санкт-Петербурге. На практике было бы правильно установить причину пропусков и восстановить данные. Такой возможности нет в учебном проекте. Придётся:\n",
    "* заполнить и эти пропуски явными обозначениями,\n",
    "* оценить, насколько они повредят расчётам. "
   ]
  },
  {
   "cell_type": "markdown",
   "metadata": {
    "id": "fSv2laPA_Zct"
   },
   "source": [
    "Замените пропущенные значения в столбцах `track`, `artist` и `genre` на строку `'unknown'`. Для этого создайте список `columns_to_replace`, переберите его элементы циклом `for` и для каждого столбца выполните замену пропущенных значений:"
   ]
  },
  {
   "cell_type": "code",
   "execution_count": 9,
   "metadata": {
    "id": "KplB5qWs_Zct"
   },
   "outputs": [],
   "source": [
    "# перебор названий столбцов в цикле и замена пропущенных значений на 'unknown'\n",
    "columns_to_replace = ['track', 'artist', 'genre']\n",
    "for column in columns_to_replace:\n",
    "    df[column] = df[column].fillna('unknown')\n"
   ]
  },
  {
   "cell_type": "markdown",
   "metadata": {
    "id": "Ilsm-MZo_Zct"
   },
   "source": [
    "Убедитесь, что в таблице не осталось пропусков. Для этого ещё раз посчитайте пропущенные значения."
   ]
  },
  {
   "cell_type": "code",
   "execution_count": 10,
   "metadata": {
    "id": "Tq4nYRX4_Zct"
   },
   "outputs": [
    {
     "data": {
      "text/plain": [
       "user_id    0\n",
       "track      0\n",
       "artist     0\n",
       "genre      0\n",
       "city       0\n",
       "time       0\n",
       "day        0\n",
       "dtype: int64"
      ]
     },
     "execution_count": 10,
     "metadata": {},
     "output_type": "execute_result"
    }
   ],
   "source": [
    "# подсчёт пропусков\n",
    "df.isna().sum()"
   ]
  },
  {
   "cell_type": "markdown",
   "metadata": {
    "id": "BWKRtBJ3_Zct"
   },
   "source": [
    "### Дубликаты\n",
    "Посчитайте явные дубликаты в таблице одной командой:"
   ]
  },
  {
   "cell_type": "code",
   "execution_count": 11,
   "metadata": {
    "id": "36eES_S0_Zct"
   },
   "outputs": [
    {
     "data": {
      "text/plain": [
       "3826"
      ]
     },
     "execution_count": 11,
     "metadata": {},
     "output_type": "execute_result"
    }
   ],
   "source": [
    "# подсчёт явных дубликатов\n",
    "df.duplicated().sum()"
   ]
  },
  {
   "cell_type": "markdown",
   "metadata": {
    "id": "Ot25h6XR_Zct"
   },
   "source": [
    "Вызовите специальный метод `pandas`, чтобы удалить явные дубликаты:"
   ]
  },
  {
   "cell_type": "code",
   "execution_count": 12,
   "metadata": {
    "id": "exFHq6tt_Zct"
   },
   "outputs": [],
   "source": [
    "# удаление явных дубликатов (с удалением старых индексов и формированием новых)\n",
    "df = df.drop_duplicates().reset_index(drop=True)"
   ]
  },
  {
   "cell_type": "markdown",
   "metadata": {
    "id": "Im2YwBEG_Zct"
   },
   "source": [
    "Ещё раз посчитайте явные дубликаты в таблице — убедитесь, что полностью от них избавились:"
   ]
  },
  {
   "cell_type": "code",
   "execution_count": 13,
   "metadata": {
    "id": "-8PuNWQ0_Zct"
   },
   "outputs": [
    {
     "data": {
      "text/plain": [
       "0"
      ]
     },
     "execution_count": 13,
     "metadata": {},
     "output_type": "execute_result"
    }
   ],
   "source": [
    "# проверка на отсутствие дубликатов\n",
    "df.duplicated().sum()"
   ]
  },
  {
   "cell_type": "markdown",
   "metadata": {
    "id": "QlFBsxAr_Zct"
   },
   "source": [
    "Теперь избавьтесь от неявных дубликатов в колонке `genre`. Например, название одного и того же жанра может быть записано немного по-разному. Такие ошибки тоже повлияют на результат исследования."
   ]
  },
  {
   "cell_type": "markdown",
   "metadata": {
    "id": "eSjWwsOh_Zct"
   },
   "source": [
    "Выведите на экран список уникальных названий жанров, отсортированный в алфавитном порядке. Для этого:\n",
    "* извлеките нужный столбец датафрейма, \n",
    "* примените к нему метод сортировки,\n",
    "* для отсортированного столбца вызовите метод, который вернёт уникальные значения из столбца."
   ]
  },
  {
   "cell_type": "code",
   "execution_count": 14,
   "metadata": {
    "id": "JIUcqzZN_Zct"
   },
   "outputs": [
    {
     "data": {
      "text/plain": [
       "['acid',\n",
       " 'acoustic',\n",
       " 'action',\n",
       " 'adult',\n",
       " 'africa',\n",
       " 'afrikaans',\n",
       " 'alternative',\n",
       " 'alternativepunk',\n",
       " 'ambient',\n",
       " 'americana',\n",
       " 'animated',\n",
       " 'anime',\n",
       " 'arabesk',\n",
       " 'arabic',\n",
       " 'arena',\n",
       " 'argentinetango',\n",
       " 'art',\n",
       " 'audiobook',\n",
       " 'author',\n",
       " 'avantgarde',\n",
       " 'axé',\n",
       " 'baile',\n",
       " 'balkan',\n",
       " 'beats',\n",
       " 'bigroom',\n",
       " 'black',\n",
       " 'bluegrass',\n",
       " 'blues',\n",
       " 'bollywood',\n",
       " 'bossa',\n",
       " 'brazilian',\n",
       " 'breakbeat',\n",
       " 'breaks',\n",
       " 'broadway',\n",
       " 'cantautori',\n",
       " 'cantopop',\n",
       " 'canzone',\n",
       " 'caribbean',\n",
       " 'caucasian',\n",
       " 'celtic',\n",
       " 'chamber',\n",
       " 'chanson',\n",
       " 'children',\n",
       " 'chill',\n",
       " 'chinese',\n",
       " 'choral',\n",
       " 'christian',\n",
       " 'christmas',\n",
       " 'classical',\n",
       " 'classicmetal',\n",
       " 'club',\n",
       " 'colombian',\n",
       " 'comedy',\n",
       " 'conjazz',\n",
       " 'contemporary',\n",
       " 'country',\n",
       " 'cuban',\n",
       " 'dance',\n",
       " 'dancehall',\n",
       " 'dancepop',\n",
       " 'dark',\n",
       " 'death',\n",
       " 'deep',\n",
       " 'deutschrock',\n",
       " 'deutschspr',\n",
       " 'dirty',\n",
       " 'disco',\n",
       " 'dnb',\n",
       " 'documentary',\n",
       " 'downbeat',\n",
       " 'downtempo',\n",
       " 'drum',\n",
       " 'dub',\n",
       " 'dubstep',\n",
       " 'eastern',\n",
       " 'easy',\n",
       " 'electronic',\n",
       " 'electropop',\n",
       " 'emo',\n",
       " 'entehno',\n",
       " 'epicmetal',\n",
       " 'estrada',\n",
       " 'ethnic',\n",
       " 'eurofolk',\n",
       " 'european',\n",
       " 'experimental',\n",
       " 'extrememetal',\n",
       " 'fado',\n",
       " 'fairytail',\n",
       " 'film',\n",
       " 'fitness',\n",
       " 'flamenco',\n",
       " 'folk',\n",
       " 'folklore',\n",
       " 'folkmetal',\n",
       " 'folkrock',\n",
       " 'folktronica',\n",
       " 'forró',\n",
       " 'frankreich',\n",
       " 'französisch',\n",
       " 'french',\n",
       " 'funk',\n",
       " 'future',\n",
       " 'gangsta',\n",
       " 'garage',\n",
       " 'german',\n",
       " 'ghazal',\n",
       " 'gitarre',\n",
       " 'glitch',\n",
       " 'gospel',\n",
       " 'gothic',\n",
       " 'grime',\n",
       " 'grunge',\n",
       " 'gypsy',\n",
       " 'handsup',\n",
       " \"hard'n'heavy\",\n",
       " 'hardcore',\n",
       " 'hardstyle',\n",
       " 'hardtechno',\n",
       " 'hip',\n",
       " 'hip-hop',\n",
       " 'hiphop',\n",
       " 'historisch',\n",
       " 'holiday',\n",
       " 'hop',\n",
       " 'horror',\n",
       " 'house',\n",
       " 'hymn',\n",
       " 'idm',\n",
       " 'independent',\n",
       " 'indian',\n",
       " 'indie',\n",
       " 'indipop',\n",
       " 'industrial',\n",
       " 'inspirational',\n",
       " 'instrumental',\n",
       " 'international',\n",
       " 'irish',\n",
       " 'jam',\n",
       " 'japanese',\n",
       " 'jazz',\n",
       " 'jewish',\n",
       " 'jpop',\n",
       " 'jungle',\n",
       " 'k-pop',\n",
       " 'karadeniz',\n",
       " 'karaoke',\n",
       " 'kayokyoku',\n",
       " 'korean',\n",
       " 'laiko',\n",
       " 'latin',\n",
       " 'latino',\n",
       " 'leftfield',\n",
       " 'local',\n",
       " 'lounge',\n",
       " 'loungeelectronic',\n",
       " 'lovers',\n",
       " 'malaysian',\n",
       " 'mandopop',\n",
       " 'marschmusik',\n",
       " 'meditative',\n",
       " 'mediterranean',\n",
       " 'melodic',\n",
       " 'metal',\n",
       " 'metalcore',\n",
       " 'mexican',\n",
       " 'middle',\n",
       " 'minimal',\n",
       " 'miscellaneous',\n",
       " 'modern',\n",
       " 'mood',\n",
       " 'mpb',\n",
       " 'muslim',\n",
       " 'native',\n",
       " 'neoklassik',\n",
       " 'neue',\n",
       " 'new',\n",
       " 'newage',\n",
       " 'newwave',\n",
       " 'nu',\n",
       " 'nujazz',\n",
       " 'numetal',\n",
       " 'oceania',\n",
       " 'old',\n",
       " 'opera',\n",
       " 'orchestral',\n",
       " 'other',\n",
       " 'piano',\n",
       " 'podcasts',\n",
       " 'pop',\n",
       " 'popdance',\n",
       " 'popelectronic',\n",
       " 'popeurodance',\n",
       " 'poprussian',\n",
       " 'post',\n",
       " 'posthardcore',\n",
       " 'postrock',\n",
       " 'power',\n",
       " 'progmetal',\n",
       " 'progressive',\n",
       " 'psychedelic',\n",
       " 'punjabi',\n",
       " 'punk',\n",
       " 'quebecois',\n",
       " 'ragga',\n",
       " 'ram',\n",
       " 'rancheras',\n",
       " 'rap',\n",
       " 'rave',\n",
       " 'reggae',\n",
       " 'reggaeton',\n",
       " 'regional',\n",
       " 'relax',\n",
       " 'religious',\n",
       " 'retro',\n",
       " 'rhythm',\n",
       " 'rnb',\n",
       " 'rnr',\n",
       " 'rock',\n",
       " 'rockabilly',\n",
       " 'rockalternative',\n",
       " 'rockindie',\n",
       " 'rockother',\n",
       " 'romance',\n",
       " 'roots',\n",
       " 'ruspop',\n",
       " 'rusrap',\n",
       " 'rusrock',\n",
       " 'russian',\n",
       " 'salsa',\n",
       " 'samba',\n",
       " 'scenic',\n",
       " 'schlager',\n",
       " 'self',\n",
       " 'sertanejo',\n",
       " 'shanson',\n",
       " 'shoegazing',\n",
       " 'showtunes',\n",
       " 'singer',\n",
       " 'ska',\n",
       " 'skarock',\n",
       " 'slow',\n",
       " 'smooth',\n",
       " 'soft',\n",
       " 'soul',\n",
       " 'soulful',\n",
       " 'sound',\n",
       " 'soundtrack',\n",
       " 'southern',\n",
       " 'specialty',\n",
       " 'speech',\n",
       " 'spiritual',\n",
       " 'sport',\n",
       " 'stonerrock',\n",
       " 'surf',\n",
       " 'swing',\n",
       " 'synthpop',\n",
       " 'synthrock',\n",
       " 'sängerportrait',\n",
       " 'tango',\n",
       " 'tanzorchester',\n",
       " 'taraftar',\n",
       " 'tatar',\n",
       " 'tech',\n",
       " 'techno',\n",
       " 'teen',\n",
       " 'thrash',\n",
       " 'top',\n",
       " 'traditional',\n",
       " 'tradjazz',\n",
       " 'trance',\n",
       " 'tribal',\n",
       " 'trip',\n",
       " 'triphop',\n",
       " 'tropical',\n",
       " 'türk',\n",
       " 'türkçe',\n",
       " 'ukrrock',\n",
       " 'unknown',\n",
       " 'urban',\n",
       " 'uzbek',\n",
       " 'variété',\n",
       " 'vi',\n",
       " 'videogame',\n",
       " 'vocal',\n",
       " 'western',\n",
       " 'world',\n",
       " 'worldbeat',\n",
       " 'ïîï',\n",
       " 'электроника']"
      ]
     },
     "execution_count": 14,
     "metadata": {},
     "output_type": "execute_result"
    }
   ],
   "source": [
    "# Просмотр уникальных названий жанров\n",
    "sorted(df['genre'].unique())\n"
   ]
  },
  {
   "cell_type": "markdown",
   "metadata": {
    "id": "qej-Qmuo_Zct"
   },
   "source": [
    "Просмотрите список и найдите неявные дубликаты названия `hiphop`. Это могут быть названия с ошибками или альтернативные названия того же жанра.\n",
    "\n",
    "Вы увидите следующие неявные дубликаты:\n",
    "* *hip*,\n",
    "* *hop*,\n",
    "* *hip-hop*.\n",
    "\n",
    "Чтобы очистить от них таблицу, напишите функцию `replace_wrong_genres()` с двумя параметрами: \n",
    "* `wrong_genres` — список дубликатов,\n",
    "* `correct_genre` — строка с правильным значением.\n",
    "\n",
    "Функция должна исправить колонку `genre` в таблице `df`: заменить каждое значение из списка `wrong_genres` на значение из `correct_genre`."
   ]
  },
  {
   "cell_type": "code",
   "execution_count": 15,
   "metadata": {
    "id": "ErNDkmns_Zct"
   },
   "outputs": [],
   "source": [
    "# Функция для замены неявных дубликатов\n",
    "def replace_wrong_genres(wrong_genres,correct_genre):\n",
    "    for wrong_genre in wrong_genres:\n",
    "        df['genre'] = df['genre'].replace(wrong_genres,correct_genre)\n",
    "        \n"
   ]
  },
  {
   "cell_type": "markdown",
   "metadata": {
    "id": "aDoBJxbA_Zct"
   },
   "source": [
    "Вызовите `replace_wrong_genres()` и передайте ей такие аргументы, чтобы она устранила неявные дубликаты: вместо `hip`, `hop` и `hip-hop` в таблице должно быть значение `hiphop`:"
   ]
  },
  {
   "cell_type": "code",
   "execution_count": 16,
   "metadata": {
    "id": "YN5i2hpmSo09"
   },
   "outputs": [
    {
     "data": {
      "text/html": [
       "<div>\n",
       "<style scoped>\n",
       "    .dataframe tbody tr th:only-of-type {\n",
       "        vertical-align: middle;\n",
       "    }\n",
       "\n",
       "    .dataframe tbody tr th {\n",
       "        vertical-align: top;\n",
       "    }\n",
       "\n",
       "    .dataframe thead th {\n",
       "        text-align: right;\n",
       "    }\n",
       "</style>\n",
       "<table border=\"1\" class=\"dataframe\">\n",
       "  <thead>\n",
       "    <tr style=\"text-align: right;\">\n",
       "      <th></th>\n",
       "      <th>user_id</th>\n",
       "      <th>track</th>\n",
       "      <th>artist</th>\n",
       "      <th>genre</th>\n",
       "      <th>city</th>\n",
       "      <th>time</th>\n",
       "      <th>day</th>\n",
       "    </tr>\n",
       "  </thead>\n",
       "  <tbody>\n",
       "    <tr>\n",
       "      <td>0</td>\n",
       "      <td>FFB692EC</td>\n",
       "      <td>Kamigata To Boots</td>\n",
       "      <td>The Mass Missile</td>\n",
       "      <td>rock</td>\n",
       "      <td>Saint-Petersburg</td>\n",
       "      <td>20:28:33</td>\n",
       "      <td>Wednesday</td>\n",
       "    </tr>\n",
       "    <tr>\n",
       "      <td>1</td>\n",
       "      <td>55204538</td>\n",
       "      <td>Delayed Because of Accident</td>\n",
       "      <td>Andreas Rönnberg</td>\n",
       "      <td>rock</td>\n",
       "      <td>Moscow</td>\n",
       "      <td>14:07:09</td>\n",
       "      <td>Friday</td>\n",
       "    </tr>\n",
       "    <tr>\n",
       "      <td>2</td>\n",
       "      <td>20EC38</td>\n",
       "      <td>Funiculì funiculà</td>\n",
       "      <td>Mario Lanza</td>\n",
       "      <td>pop</td>\n",
       "      <td>Saint-Petersburg</td>\n",
       "      <td>20:58:07</td>\n",
       "      <td>Wednesday</td>\n",
       "    </tr>\n",
       "    <tr>\n",
       "      <td>3</td>\n",
       "      <td>A3DD03C9</td>\n",
       "      <td>Dragons in the Sunset</td>\n",
       "      <td>Fire + Ice</td>\n",
       "      <td>folk</td>\n",
       "      <td>Saint-Petersburg</td>\n",
       "      <td>08:37:09</td>\n",
       "      <td>Monday</td>\n",
       "    </tr>\n",
       "    <tr>\n",
       "      <td>4</td>\n",
       "      <td>E2DC1FAE</td>\n",
       "      <td>Soul People</td>\n",
       "      <td>Space Echo</td>\n",
       "      <td>dance</td>\n",
       "      <td>Moscow</td>\n",
       "      <td>08:34:34</td>\n",
       "      <td>Monday</td>\n",
       "    </tr>\n",
       "    <tr>\n",
       "      <td>...</td>\n",
       "      <td>...</td>\n",
       "      <td>...</td>\n",
       "      <td>...</td>\n",
       "      <td>...</td>\n",
       "      <td>...</td>\n",
       "      <td>...</td>\n",
       "      <td>...</td>\n",
       "    </tr>\n",
       "    <tr>\n",
       "      <td>61248</td>\n",
       "      <td>729CBB09</td>\n",
       "      <td>My Name</td>\n",
       "      <td>McLean</td>\n",
       "      <td>rnb</td>\n",
       "      <td>Moscow</td>\n",
       "      <td>13:32:28</td>\n",
       "      <td>Wednesday</td>\n",
       "    </tr>\n",
       "    <tr>\n",
       "      <td>61249</td>\n",
       "      <td>D08D4A55</td>\n",
       "      <td>Maybe One Day (feat. Black Spade)</td>\n",
       "      <td>Blu &amp; Exile</td>\n",
       "      <td>hip</td>\n",
       "      <td>Saint-Petersburg</td>\n",
       "      <td>10:00:00</td>\n",
       "      <td>Monday</td>\n",
       "    </tr>\n",
       "    <tr>\n",
       "      <td>61250</td>\n",
       "      <td>C5E3A0D5</td>\n",
       "      <td>Jalopiina</td>\n",
       "      <td>unknown</td>\n",
       "      <td>industrial</td>\n",
       "      <td>Moscow</td>\n",
       "      <td>20:09:26</td>\n",
       "      <td>Friday</td>\n",
       "    </tr>\n",
       "    <tr>\n",
       "      <td>61251</td>\n",
       "      <td>321D0506</td>\n",
       "      <td>Freight Train</td>\n",
       "      <td>Chas McDevitt</td>\n",
       "      <td>rock</td>\n",
       "      <td>Moscow</td>\n",
       "      <td>21:43:59</td>\n",
       "      <td>Friday</td>\n",
       "    </tr>\n",
       "    <tr>\n",
       "      <td>61252</td>\n",
       "      <td>3A64EF84</td>\n",
       "      <td>Tell Me Sweet Little Lies</td>\n",
       "      <td>Monica Lopez</td>\n",
       "      <td>country</td>\n",
       "      <td>Moscow</td>\n",
       "      <td>21:59:46</td>\n",
       "      <td>Friday</td>\n",
       "    </tr>\n",
       "  </tbody>\n",
       "</table>\n",
       "<p>61253 rows × 7 columns</p>\n",
       "</div>"
      ],
      "text/plain": [
       "        user_id                              track            artist  \\\n",
       "0      FFB692EC                  Kamigata To Boots  The Mass Missile   \n",
       "1      55204538        Delayed Because of Accident  Andreas Rönnberg   \n",
       "2        20EC38                  Funiculì funiculà       Mario Lanza   \n",
       "3      A3DD03C9              Dragons in the Sunset        Fire + Ice   \n",
       "4      E2DC1FAE                        Soul People        Space Echo   \n",
       "...         ...                                ...               ...   \n",
       "61248  729CBB09                            My Name            McLean   \n",
       "61249  D08D4A55  Maybe One Day (feat. Black Spade)       Blu & Exile   \n",
       "61250  C5E3A0D5                          Jalopiina           unknown   \n",
       "61251  321D0506                      Freight Train     Chas McDevitt   \n",
       "61252  3A64EF84          Tell Me Sweet Little Lies      Monica Lopez   \n",
       "\n",
       "            genre              city      time        day  \n",
       "0            rock  Saint-Petersburg  20:28:33  Wednesday  \n",
       "1            rock            Moscow  14:07:09     Friday  \n",
       "2             pop  Saint-Petersburg  20:58:07  Wednesday  \n",
       "3            folk  Saint-Petersburg  08:37:09     Monday  \n",
       "4           dance            Moscow  08:34:34     Monday  \n",
       "...           ...               ...       ...        ...  \n",
       "61248         rnb            Moscow  13:32:28  Wednesday  \n",
       "61249         hip  Saint-Petersburg  10:00:00     Monday  \n",
       "61250  industrial            Moscow  20:09:26     Friday  \n",
       "61251        rock            Moscow  21:43:59     Friday  \n",
       "61252     country            Moscow  21:59:46     Friday  \n",
       "\n",
       "[61253 rows x 7 columns]"
      ]
     },
     "execution_count": 16,
     "metadata": {},
     "output_type": "execute_result"
    }
   ],
   "source": [
    "# Устранение неявных дубликатов\n",
    "def replace_wrong_genres(wrong_genres,correct_genre):\n",
    "    for wrong_genre in wrong_genres:\n",
    "        df['genre'] = df['genre'].replace(wrong_genre,correct_genre)\n",
    "        \n",
    "duplicates = ['hip', 'hop', 'hip-hop']\n",
    "genre = 'hiphop'\n",
    "\n",
    "df"
   ]
  },
  {
   "cell_type": "markdown",
   "metadata": {
    "id": "zQKF16_RG15m"
   },
   "source": [
    "Проверьте, что заменили неправильные названия:\n",
    "\n",
    "*   hip\n",
    "*   hop\n",
    "*   hip-hop\n",
    "\n",
    "Выведите отсортированный список уникальных значений столбца `genre`:"
   ]
  },
  {
   "cell_type": "code",
   "execution_count": 17,
   "metadata": {
    "id": "wvixALnFG15m"
   },
   "outputs": [
    {
     "data": {
      "text/html": [
       "<div>\n",
       "<style scoped>\n",
       "    .dataframe tbody tr th:only-of-type {\n",
       "        vertical-align: middle;\n",
       "    }\n",
       "\n",
       "    .dataframe tbody tr th {\n",
       "        vertical-align: top;\n",
       "    }\n",
       "\n",
       "    .dataframe thead th {\n",
       "        text-align: right;\n",
       "    }\n",
       "</style>\n",
       "<table border=\"1\" class=\"dataframe\">\n",
       "  <thead>\n",
       "    <tr style=\"text-align: right;\">\n",
       "      <th></th>\n",
       "      <th>user_id</th>\n",
       "      <th>track</th>\n",
       "      <th>artist</th>\n",
       "      <th>genre</th>\n",
       "      <th>city</th>\n",
       "      <th>time</th>\n",
       "      <th>day</th>\n",
       "    </tr>\n",
       "  </thead>\n",
       "  <tbody>\n",
       "    <tr>\n",
       "      <td>0</td>\n",
       "      <td>FFB692EC</td>\n",
       "      <td>Kamigata To Boots</td>\n",
       "      <td>The Mass Missile</td>\n",
       "      <td>rock</td>\n",
       "      <td>Saint-Petersburg</td>\n",
       "      <td>20:28:33</td>\n",
       "      <td>Wednesday</td>\n",
       "    </tr>\n",
       "    <tr>\n",
       "      <td>1</td>\n",
       "      <td>55204538</td>\n",
       "      <td>Delayed Because of Accident</td>\n",
       "      <td>Andreas Rönnberg</td>\n",
       "      <td>rock</td>\n",
       "      <td>Moscow</td>\n",
       "      <td>14:07:09</td>\n",
       "      <td>Friday</td>\n",
       "    </tr>\n",
       "    <tr>\n",
       "      <td>2</td>\n",
       "      <td>20EC38</td>\n",
       "      <td>Funiculì funiculà</td>\n",
       "      <td>Mario Lanza</td>\n",
       "      <td>pop</td>\n",
       "      <td>Saint-Petersburg</td>\n",
       "      <td>20:58:07</td>\n",
       "      <td>Wednesday</td>\n",
       "    </tr>\n",
       "    <tr>\n",
       "      <td>3</td>\n",
       "      <td>A3DD03C9</td>\n",
       "      <td>Dragons in the Sunset</td>\n",
       "      <td>Fire + Ice</td>\n",
       "      <td>folk</td>\n",
       "      <td>Saint-Petersburg</td>\n",
       "      <td>08:37:09</td>\n",
       "      <td>Monday</td>\n",
       "    </tr>\n",
       "    <tr>\n",
       "      <td>4</td>\n",
       "      <td>E2DC1FAE</td>\n",
       "      <td>Soul People</td>\n",
       "      <td>Space Echo</td>\n",
       "      <td>dance</td>\n",
       "      <td>Moscow</td>\n",
       "      <td>08:34:34</td>\n",
       "      <td>Monday</td>\n",
       "    </tr>\n",
       "    <tr>\n",
       "      <td>...</td>\n",
       "      <td>...</td>\n",
       "      <td>...</td>\n",
       "      <td>...</td>\n",
       "      <td>...</td>\n",
       "      <td>...</td>\n",
       "      <td>...</td>\n",
       "      <td>...</td>\n",
       "    </tr>\n",
       "    <tr>\n",
       "      <td>61248</td>\n",
       "      <td>729CBB09</td>\n",
       "      <td>My Name</td>\n",
       "      <td>McLean</td>\n",
       "      <td>rnb</td>\n",
       "      <td>Moscow</td>\n",
       "      <td>13:32:28</td>\n",
       "      <td>Wednesday</td>\n",
       "    </tr>\n",
       "    <tr>\n",
       "      <td>61249</td>\n",
       "      <td>D08D4A55</td>\n",
       "      <td>Maybe One Day (feat. Black Spade)</td>\n",
       "      <td>Blu &amp; Exile</td>\n",
       "      <td>hip</td>\n",
       "      <td>Saint-Petersburg</td>\n",
       "      <td>10:00:00</td>\n",
       "      <td>Monday</td>\n",
       "    </tr>\n",
       "    <tr>\n",
       "      <td>61250</td>\n",
       "      <td>C5E3A0D5</td>\n",
       "      <td>Jalopiina</td>\n",
       "      <td>unknown</td>\n",
       "      <td>industrial</td>\n",
       "      <td>Moscow</td>\n",
       "      <td>20:09:26</td>\n",
       "      <td>Friday</td>\n",
       "    </tr>\n",
       "    <tr>\n",
       "      <td>61251</td>\n",
       "      <td>321D0506</td>\n",
       "      <td>Freight Train</td>\n",
       "      <td>Chas McDevitt</td>\n",
       "      <td>rock</td>\n",
       "      <td>Moscow</td>\n",
       "      <td>21:43:59</td>\n",
       "      <td>Friday</td>\n",
       "    </tr>\n",
       "    <tr>\n",
       "      <td>61252</td>\n",
       "      <td>3A64EF84</td>\n",
       "      <td>Tell Me Sweet Little Lies</td>\n",
       "      <td>Monica Lopez</td>\n",
       "      <td>country</td>\n",
       "      <td>Moscow</td>\n",
       "      <td>21:59:46</td>\n",
       "      <td>Friday</td>\n",
       "    </tr>\n",
       "  </tbody>\n",
       "</table>\n",
       "<p>61253 rows × 7 columns</p>\n",
       "</div>"
      ],
      "text/plain": [
       "        user_id                              track            artist  \\\n",
       "0      FFB692EC                  Kamigata To Boots  The Mass Missile   \n",
       "1      55204538        Delayed Because of Accident  Andreas Rönnberg   \n",
       "2        20EC38                  Funiculì funiculà       Mario Lanza   \n",
       "3      A3DD03C9              Dragons in the Sunset        Fire + Ice   \n",
       "4      E2DC1FAE                        Soul People        Space Echo   \n",
       "...         ...                                ...               ...   \n",
       "61248  729CBB09                            My Name            McLean   \n",
       "61249  D08D4A55  Maybe One Day (feat. Black Spade)       Blu & Exile   \n",
       "61250  C5E3A0D5                          Jalopiina           unknown   \n",
       "61251  321D0506                      Freight Train     Chas McDevitt   \n",
       "61252  3A64EF84          Tell Me Sweet Little Lies      Monica Lopez   \n",
       "\n",
       "            genre              city      time        day  \n",
       "0            rock  Saint-Petersburg  20:28:33  Wednesday  \n",
       "1            rock            Moscow  14:07:09     Friday  \n",
       "2             pop  Saint-Petersburg  20:58:07  Wednesday  \n",
       "3            folk  Saint-Petersburg  08:37:09     Monday  \n",
       "4           dance            Moscow  08:34:34     Monday  \n",
       "...           ...               ...       ...        ...  \n",
       "61248         rnb            Moscow  13:32:28  Wednesday  \n",
       "61249         hip  Saint-Petersburg  10:00:00     Monday  \n",
       "61250  industrial            Moscow  20:09:26     Friday  \n",
       "61251        rock            Moscow  21:43:59     Friday  \n",
       "61252     country            Moscow  21:59:46     Friday  \n",
       "\n",
       "[61253 rows x 7 columns]"
      ]
     },
     "execution_count": 17,
     "metadata": {},
     "output_type": "execute_result"
    }
   ],
   "source": [
    "# Проверка на неявные дубликаты\n",
    "sorted(df['genre'].unique())\n",
    "df"
   ]
  },
  {
   "cell_type": "markdown",
   "metadata": {
    "id": "jz6a9-7HQUDd"
   },
   "source": [
    "**Выводы**\n",
    "\n",
    "Предобработка обнаружила три проблемы в данных:\n",
    "\n",
    "- нарушения в стиле заголовков,\n",
    "- пропущенные значения,\n",
    "- дубликаты — явные и неявные.\n",
    "\n",
    "Вы исправили заголовки, чтобы упростить работу с таблицей. Без дубликатов исследование станет более точным.\n",
    "\n",
    "Пропущенные значения вы заменили на `'unknown'`. Ещё предстоит увидеть, не повредят ли исследованию пропуски в колонке `genre`.\n",
    "\n",
    "Теперь можно перейти к проверке гипотез. "
   ]
  },
  {
   "cell_type": "markdown",
   "metadata": {
    "id": "WttZHXH0SqKk"
   },
   "source": [
    "## Проверка гипотез"
   ]
  },
  {
   "cell_type": "markdown",
   "metadata": {
    "id": "Im936VVi_Zcu"
   },
   "source": [
    "### Сравнение поведения пользователей двух столиц"
   ]
  },
  {
   "cell_type": "markdown",
   "metadata": {
    "id": "nwt_MuaL_Zcu"
   },
   "source": [
    "Первая гипотеза утверждает, что пользователи по-разному слушают музыку в Москве и Санкт-Петербурге. Проверьте это предположение по данным о трёх днях недели — понедельнике, среде и пятнице. Для этого:\n",
    "\n",
    "* Разделите пользователей Москвы и Санкт-Петербурга\n",
    "* Сравните, сколько треков послушала каждая группа пользователей в понедельник, среду и пятницу.\n"
   ]
  },
  {
   "cell_type": "markdown",
   "metadata": {
    "id": "8Dw_YMmT_Zcu"
   },
   "source": [
    "Для тренировки сначала выполните каждый из расчётов по отдельности. \n",
    "\n",
    "Оцените активность пользователей в каждом городе. Сгруппируйте данные по городу и посчитайте прослушивания в каждой группе.\n",
    "\n"
   ]
  },
  {
   "cell_type": "code",
   "execution_count": 18,
   "metadata": {
    "id": "0_Qs96oh_Zcu"
   },
   "outputs": [
    {
     "data": {
      "text/html": [
       "<div>\n",
       "<style scoped>\n",
       "    .dataframe tbody tr th:only-of-type {\n",
       "        vertical-align: middle;\n",
       "    }\n",
       "\n",
       "    .dataframe tbody tr th {\n",
       "        vertical-align: top;\n",
       "    }\n",
       "\n",
       "    .dataframe thead th {\n",
       "        text-align: right;\n",
       "    }\n",
       "</style>\n",
       "<table border=\"1\" class=\"dataframe\">\n",
       "  <thead>\n",
       "    <tr style=\"text-align: right;\">\n",
       "      <th></th>\n",
       "      <th>user_id</th>\n",
       "      <th>track</th>\n",
       "      <th>artist</th>\n",
       "      <th>genre</th>\n",
       "      <th>city</th>\n",
       "      <th>time</th>\n",
       "    </tr>\n",
       "    <tr>\n",
       "      <th>day</th>\n",
       "      <th></th>\n",
       "      <th></th>\n",
       "      <th></th>\n",
       "      <th></th>\n",
       "      <th></th>\n",
       "      <th></th>\n",
       "    </tr>\n",
       "  </thead>\n",
       "  <tbody>\n",
       "    <tr>\n",
       "      <td>Friday</td>\n",
       "      <td>21840</td>\n",
       "      <td>21840</td>\n",
       "      <td>21840</td>\n",
       "      <td>21840</td>\n",
       "      <td>21840</td>\n",
       "      <td>21840</td>\n",
       "    </tr>\n",
       "    <tr>\n",
       "      <td>Monday</td>\n",
       "      <td>21354</td>\n",
       "      <td>21354</td>\n",
       "      <td>21354</td>\n",
       "      <td>21354</td>\n",
       "      <td>21354</td>\n",
       "      <td>21354</td>\n",
       "    </tr>\n",
       "    <tr>\n",
       "      <td>Wednesday</td>\n",
       "      <td>18059</td>\n",
       "      <td>18059</td>\n",
       "      <td>18059</td>\n",
       "      <td>18059</td>\n",
       "      <td>18059</td>\n",
       "      <td>18059</td>\n",
       "    </tr>\n",
       "  </tbody>\n",
       "</table>\n",
       "</div>"
      ],
      "text/plain": [
       "           user_id  track  artist  genre   city   time\n",
       "day                                                   \n",
       "Friday       21840  21840   21840  21840  21840  21840\n",
       "Monday       21354  21354   21354  21354  21354  21354\n",
       "Wednesday    18059  18059   18059  18059  18059  18059"
      ]
     },
     "execution_count": 18,
     "metadata": {},
     "output_type": "execute_result"
    }
   ],
   "source": [
    "# Подсчёт прослушиваний в каждом городе\n",
    "df.groupby('day').count()"
   ]
  },
  {
   "cell_type": "markdown",
   "metadata": {
    "id": "dzli3w8o_Zcu"
   },
   "source": [
    "В Москве прослушиваний больше, чем в Петербурге. Из этого не следует, что московские пользователи чаще слушают музыку. Просто самих пользователей в Москве больше.\n",
    "\n",
    "Теперь сгруппируйте данные по дню недели и подсчитайте прослушивания в понедельник, среду и пятницу. Учтите, что в данных есть информация только о прослушиваниях только за эти дни.\n"
   ]
  },
  {
   "cell_type": "code",
   "execution_count": 19,
   "metadata": {
    "id": "uZMKjiJz_Zcu"
   },
   "outputs": [
    {
     "data": {
      "text/plain": [
       "day\n",
       "Friday       21840\n",
       "Monday       21354\n",
       "Wednesday    18059\n",
       "Name: day, dtype: int64"
      ]
     },
     "execution_count": 19,
     "metadata": {},
     "output_type": "execute_result"
    }
   ],
   "source": [
    "# Подсчёт прослушиваний в каждый из трёх дней\n",
    "df.groupby('day').day.count()"
   ]
  },
  {
   "cell_type": "markdown",
   "metadata": {
    "id": "cC2tNrlL_Zcu"
   },
   "source": [
    "В среднем пользователи из двух городов менее активны по средам. Но картина может измениться, если рассмотреть каждый город в отдельности."
   ]
  },
  {
   "cell_type": "markdown",
   "metadata": {
    "id": "POzs8bGa_Zcu"
   },
   "source": [
    "Вы видели, как работает группировка по городу и по дням недели. Теперь напишите функцию, которая объединит два эти расчёта.\n",
    "\n",
    "Создайте функцию `number_tracks()`, которая посчитает прослушивания для заданного дня и города. Ей понадобятся два параметра:\n",
    "* день недели,\n",
    "* название города.\n",
    "\n",
    "В функции сохраните в переменную строки исходной таблицы, у которых значение:\n",
    "  * в колонке `day` равно параметру `day`,\n",
    "  * в колонке `city` равно параметру `city`.\n",
    "\n",
    "Для этого примените последовательную фильтрацию с логической индексацией.\n",
    "\n",
    "Затем посчитайте значения в столбце `user_id` получившейся таблицы. Результат сохраните в новую переменную. Верните эту переменную из функции."
   ]
  },
  {
   "cell_type": "code",
   "execution_count": 20,
   "metadata": {
    "id": "Nz3GdQB1_Zcu"
   },
   "outputs": [],
   "source": [
    "# <создание функции number_tracks()>\n",
    "# Объявляется функция с двумя параметрами: day, city.\n",
    "# В переменной track_list сохраняются те строки таблицы df, для которых \n",
    "# значение в столбце 'day' равно параметру day и одновременно значение\n",
    "# в столбце 'city' равно параметру city (используйте последовательную фильтрацию\n",
    "# с помощью логической индексации).\n",
    "# В переменной track_list_count сохраняется число значений столбца 'user_id',\n",
    "# рассчитанное методом count() для таблицы track_list.\n",
    "# Функция возвращает число - значение track_list_count.\n",
    "def number_tracks(day,city):\n",
    "    track_list = df[(df['day']==day)] \n",
    "    track_list = track_list[track_list['city']==city]\n",
    "    track_list_count = track_list['user_id'].count()\n",
    "    return track_list_count\n",
    "# Функция для подсчёта прослушиваний для конкретного города и дня.\n",
    "# С помощью последовательной фильтрации с логической индексацией она \n",
    "# сначала получит из исходной таблицы строки с нужным днём,\n",
    "# затем из результата отфильтрует строки с нужным городом,\n",
    "# методом count() посчитает количество значений в колонке user_id. \n",
    "# Это количество функция вернёт в качестве результата"
   ]
  },
  {
   "cell_type": "markdown",
   "metadata": {
    "id": "ytf7xFrFJQ2r"
   },
   "source": [
    "Вызовите `number_tracks()` шесть раз, меняя значение параметров — так, чтобы получить данные для каждого города в каждый из трёх дней."
   ]
  },
  {
   "cell_type": "code",
   "execution_count": 21,
   "metadata": {
    "id": "rJcRATNQ_Zcu"
   },
   "outputs": [
    {
     "data": {
      "text/plain": [
       "15740"
      ]
     },
     "execution_count": 21,
     "metadata": {},
     "output_type": "execute_result"
    }
   ],
   "source": [
    "# количество прослушиваний в Москве по понедельникам\n",
    "number_tracks('Monday','Moscow')"
   ]
  },
  {
   "cell_type": "code",
   "execution_count": 22,
   "metadata": {
    "id": "hq_ncZ5T_Zcu"
   },
   "outputs": [
    {
     "data": {
      "text/plain": [
       "5614"
      ]
     },
     "execution_count": 22,
     "metadata": {},
     "output_type": "execute_result"
    }
   ],
   "source": [
    "# количество прослушиваний в Санкт-Петербурге по понедельникам\n",
    "number_tracks('Monday','Saint-Petersburg')"
   ]
  },
  {
   "cell_type": "code",
   "execution_count": 23,
   "metadata": {
    "id": "_NTy2VPU_Zcu"
   },
   "outputs": [
    {
     "data": {
      "text/plain": [
       "11056"
      ]
     },
     "execution_count": 23,
     "metadata": {},
     "output_type": "execute_result"
    }
   ],
   "source": [
    "# количество прослушиваний в Москве по средам\n",
    "number_tracks('Wednesday','Moscow')"
   ]
  },
  {
   "cell_type": "code",
   "execution_count": 24,
   "metadata": {
    "id": "j2y3TAwo_Zcu"
   },
   "outputs": [
    {
     "data": {
      "text/plain": [
       "7003"
      ]
     },
     "execution_count": 24,
     "metadata": {},
     "output_type": "execute_result"
    }
   ],
   "source": [
    "# количество прослушиваний в Санкт-Петербурге по средам\n",
    "number_tracks('Wednesday','Saint-Petersburg')"
   ]
  },
  {
   "cell_type": "code",
   "execution_count": 25,
   "metadata": {
    "id": "vYDw5u_K_Zcu"
   },
   "outputs": [
    {
     "data": {
      "text/plain": [
       "15945"
      ]
     },
     "execution_count": 25,
     "metadata": {},
     "output_type": "execute_result"
    }
   ],
   "source": [
    "# количество прослушиваний в Москве по пятницам\n",
    "number_tracks('Friday','Moscow')"
   ]
  },
  {
   "cell_type": "code",
   "execution_count": 26,
   "metadata": {
    "id": "8_yzFtW3_Zcu"
   },
   "outputs": [
    {
     "data": {
      "text/plain": [
       "5895"
      ]
     },
     "execution_count": 26,
     "metadata": {},
     "output_type": "execute_result"
    }
   ],
   "source": [
    "# количество прослушиваний в Санкт-Петербурге по пятницам\n",
    "number_tracks('Friday','Saint-Petersburg')"
   ]
  },
  {
   "cell_type": "markdown",
   "metadata": {
    "id": "7QXffbO-_Zcu"
   },
   "source": [
    "Создайте c помощью конструктора `pd.DataFrame` таблицу, где\n",
    "* названия колонок — `['city', 'monday', 'wednesday', 'friday']`;\n",
    "* данные — результаты, которые вы получили с помощью `number_tracks`."
   ]
  },
  {
   "cell_type": "code",
   "execution_count": 27,
   "metadata": {
    "id": "APAcLpOr_Zcu"
   },
   "outputs": [
    {
     "data": {
      "text/html": [
       "<div>\n",
       "<style scoped>\n",
       "    .dataframe tbody tr th:only-of-type {\n",
       "        vertical-align: middle;\n",
       "    }\n",
       "\n",
       "    .dataframe tbody tr th {\n",
       "        vertical-align: top;\n",
       "    }\n",
       "\n",
       "    .dataframe thead th {\n",
       "        text-align: right;\n",
       "    }\n",
       "</style>\n",
       "<table border=\"1\" class=\"dataframe\">\n",
       "  <thead>\n",
       "    <tr style=\"text-align: right;\">\n",
       "      <th></th>\n",
       "      <th>city</th>\n",
       "      <th>monday</th>\n",
       "      <th>wednesday</th>\n",
       "      <th>friday</th>\n",
       "    </tr>\n",
       "  </thead>\n",
       "  <tbody>\n",
       "    <tr>\n",
       "      <td>0</td>\n",
       "      <td>Moscow</td>\n",
       "      <td>15347</td>\n",
       "      <td>10865</td>\n",
       "      <td>15680</td>\n",
       "    </tr>\n",
       "    <tr>\n",
       "      <td>1</td>\n",
       "      <td>Saint-Petersburg</td>\n",
       "      <td>5519</td>\n",
       "      <td>6913</td>\n",
       "      <td>5802</td>\n",
       "    </tr>\n",
       "  </tbody>\n",
       "</table>\n",
       "</div>"
      ],
      "text/plain": [
       "               city  monday  wednesday  friday\n",
       "0            Moscow   15347      10865   15680\n",
       "1  Saint-Petersburg    5519       6913    5802"
      ]
     },
     "execution_count": 27,
     "metadata": {},
     "output_type": "execute_result"
    }
   ],
   "source": [
    "# Таблица с результатами\n",
    "data = [['Moscow', 15347, 10865, 15680],\n",
    "       ['Saint-Petersburg', 5519, 6913, 5802]]\n",
    "columns = ['city','monday','wednesday','friday']\n",
    "table = pd.DataFrame(data = data, columns = columns)\n",
    "table"
   ]
  },
  {
   "cell_type": "markdown",
   "metadata": {
    "id": "-EgPIHYu_Zcu"
   },
   "source": [
    "**Выводы**\n",
    "\n",
    "Данные показывают разницу поведения пользователей:\n",
    "\n",
    "- В Москве пик прослушиваний приходится на понедельник и пятницу, а в среду заметен спад.\n",
    "- В Петербурге, наоборот, больше слушают музыку по средам. Активность в понедельник и пятницу здесь почти в равной мере уступает среде.\n",
    "\n",
    "Значит, данные говорят в пользу первой гипотезы."
   ]
  },
  {
   "cell_type": "markdown",
   "metadata": {
    "id": "atZAxtq4_Zcu"
   },
   "source": [
    "### Музыка в начале и в конце недели"
   ]
  },
  {
   "cell_type": "markdown",
   "metadata": {
    "id": "eXrQqXFH_Zcu"
   },
   "source": [
    "Согласно второй гипотезе, утром в понедельник в Москве преобладают одни жанры, а в Петербурге — другие. Так же и вечером пятницы преобладают разные жанры — в зависимости от города."
   ]
  },
  {
   "cell_type": "markdown",
   "metadata": {
    "id": "S8UcW6Hw_Zcu"
   },
   "source": [
    "Сохраните таблицы с данными в две переменные:\n",
    "* по Москве — в `moscow_general`;\n",
    "* по Санкт-Петербургу — в `spb_general`."
   ]
  },
  {
   "cell_type": "code",
   "execution_count": 28,
   "metadata": {
    "id": "qeaFfM_P_Zcu"
   },
   "outputs": [],
   "source": [
    "# получение таблицы moscow_general из тех строк таблицы df, \n",
    "# для которых значение в столбце 'city' равно 'Moscow'\n",
    "moscow_general = df[df['city'] == 'Moscow']\n"
   ]
  },
  {
   "cell_type": "code",
   "execution_count": 29,
   "metadata": {
    "id": "ORaVRKto_Zcu"
   },
   "outputs": [],
   "source": [
    "# получение таблицы spb_general из тех строк таблицы df,\n",
    "# для которых значение в столбце 'city' равно 'Saint-Petersburg'\n",
    "spb_general = df[df['city'] == 'Saint-Petersburg']\n"
   ]
  },
  {
   "cell_type": "markdown",
   "metadata": {
    "id": "MEJV-CX2_Zcu"
   },
   "source": [
    "Создайте функцию `genre_weekday()` с четырьмя параметрами:\n",
    "* таблица (датафрейм) с данными,\n",
    "* день недели,\n",
    "* начальная временная метка в формате 'hh:mm', \n",
    "* последняя временная метка в формате 'hh:mm'.\n",
    "\n",
    "Функция должна вернуть информацию о топ-10 жанров тех треков, которые прослушивали в указанный день, в промежутке между двумя отметками времени."
   ]
  },
  {
   "cell_type": "code",
   "execution_count": 30,
   "metadata": {
    "id": "laJT9BYl_Zcu"
   },
   "outputs": [],
   "source": [
    "# Объявление функции genre_weekday() с параметрами table, day, time1, time2,\n",
    "# которая возвращает информацию о самых популярных жанрах в указанный день в\n",
    "# заданное время:\n",
    "def genre_weekday(table, day, time1, time2):\n",
    "    genre_df = table[table['day'] == day]\n",
    "    table = table[table['time'] == time1]\n",
    "    table = table[table['time'] == time2]\n",
    "\n",
    "    genre_df_count = genre_df.groupby('genre')['genre'].count()\n",
    "    genre_df_sorted = genre_df_count.sort_values(ascending=False)\n",
    "    genre_df_sorted.head(10)\n",
    "    return genre_df_sorted\n",
    "\n",
    "# 1) в переменную genre_df сохраняются те строки переданного датафрейма table, для\n",
    "#    которых одновременно:\n",
    "#    - значение в столбце day равно значению аргумента day\n",
    "#    - значение в столбце time больше значения аргумента time1\n",
    "#    - значение в столбце time меньше значения аргумента time2\n",
    "#    Используйте последовательную фильтрацию с помощью логической индексации.\n",
    "\n",
    "# 2) сгруппировать датафрейм genre_df по столбцу genre, взять один из его\n",
    "#    столбцов и посчитать методом count() количество записей для каждого из\n",
    "#    присутствующих жанров, получившийся Series записать в переменную\n",
    "#    genre_df_count\n",
    "# 3) отсортировать genre_df_count по убыванию встречаемости и сохранить\n",
    "#    в переменную genre_df_sorted\n",
    "# 4) вернуть Series из 10 первых значений genre_df_sorted, это будут топ-10\n",
    "#    популярных жанров (в указанный день, в заданное время)"
   ]
  },
  {
   "cell_type": "markdown",
   "metadata": {
    "id": "la2s2_PF_Zcu"
   },
   "source": [
    "Cравните результаты функции `genre_weekday()` для Москвы и Санкт-Петербурга в понедельник утром (с 7:00 до 11:00) и в пятницу вечером (с 17:00 до 23:00):"
   ]
  },
  {
   "cell_type": "code",
   "execution_count": 31,
   "metadata": {
    "id": "yz7itPUQ_Zcu"
   },
   "outputs": [
    {
     "data": {
      "text/plain": [
       "genre\n",
       "pop            2154\n",
       "dance          1669\n",
       "rock           1452\n",
       "electronic     1432\n",
       "hip             770\n",
       "classical       558\n",
       "world           548\n",
       "alternative     499\n",
       "ruspop          478\n",
       "rusrap          440\n",
       "Name: genre, dtype: int64"
      ]
     },
     "execution_count": 31,
     "metadata": {},
     "output_type": "execute_result"
    }
   ],
   "source": [
    "# вызов функции для утра понедельника в Москве (вместо df — таблица moscow_general)\n",
    "# объекты, хранящие время, являются строками и сравниваются как строки\n",
    "# пример вызова: genre_weekday(moscow_general, 'Monday', '07:00', '11:00')\n",
    "genre_weekday(moscow_general, 'Monday', '07:00:00', '11:00:00').head(10)"
   ]
  },
  {
   "cell_type": "code",
   "execution_count": 32,
   "metadata": {
    "id": "kwUcHPdy_Zcu"
   },
   "outputs": [
    {
     "data": {
      "text/plain": [
       "genre\n",
       "pop            732\n",
       "dance          589\n",
       "rock           577\n",
       "electronic     523\n",
       "hip            270\n",
       "alternative    199\n",
       "classical      187\n",
       "jazz           174\n",
       "rusrap         164\n",
       "world          163\n",
       "Name: genre, dtype: int64"
      ]
     },
     "execution_count": 32,
     "metadata": {},
     "output_type": "execute_result"
    }
   ],
   "source": [
    "# вызов функции для утра понедельника в Петербурге (вместо df — таблица spb_general)\n",
    "genre_weekday(spb_general, 'Monday', '07:00:00', '11:00:00').head(10)"
   ]
  },
  {
   "cell_type": "code",
   "execution_count": 33,
   "metadata": {
    "id": "EzXVRE1o_Zcu"
   },
   "outputs": [
    {
     "data": {
      "text/plain": [
       "genre\n",
       "pop            2166\n",
       "dance          1602\n",
       "rock           1497\n",
       "electronic     1430\n",
       "hip             799\n",
       "classical       603\n",
       "ruspop          538\n",
       "world           537\n",
       "alternative     524\n",
       "rusrap          441\n",
       "Name: genre, dtype: int64"
      ]
     },
     "execution_count": 33,
     "metadata": {},
     "output_type": "execute_result"
    }
   ],
   "source": [
    "# вызов функции для вечера пятницы в Москве\n",
    "genre_weekday(moscow_general, 'Friday', '17:00:00', '23:00:00').head(10)"
   ]
  },
  {
   "cell_type": "code",
   "execution_count": 34,
   "metadata": {
    "id": "JZaEKu5v_Zcu"
   },
   "outputs": [
    {
     "data": {
      "text/plain": [
       "genre\n",
       "pop            748\n",
       "dance          639\n",
       "rock           593\n",
       "electronic     556\n",
       "hip            322\n",
       "classical      222\n",
       "alternative    201\n",
       "rusrap         173\n",
       "ruspop         168\n",
       "world          157\n",
       "Name: genre, dtype: int64"
      ]
     },
     "execution_count": 34,
     "metadata": {},
     "output_type": "execute_result"
    }
   ],
   "source": [
    "# вызов функции для вечера пятницы в Петербурге\n",
    "genre_weekday(spb_general, 'Friday', '17:00:00', '23:00:00').head(10)"
   ]
  },
  {
   "cell_type": "markdown",
   "metadata": {
    "id": "wrCe4MNX_Zcu"
   },
   "source": [
    "**Выводы**\n",
    "\n",
    "Если сравнить топ-10 жанров в понедельник утром, можно сделать такие выводы:\n",
    "\n",
    "1. В Москве и Петербурге слушают похожую музыку. Единственное отличие — в московский рейтинг вошёл жанр “world”, а в петербургский — джаз и классика.\n",
    "\n",
    "2. В Москве пропущенных значений оказалось так много, что значение `'unknown'` заняло десятое место среди самых популярных жанров. Значит, пропущенные значения занимают существенную долю в данных и угрожают достоверности исследования.\n",
    "\n",
    "Вечер пятницы не меняет эту картину. Некоторые жанры поднимаются немного выше, другие спускаются, но в целом топ-10 остаётся тем же самым.\n",
    "\n",
    "Таким образом, вторая гипотеза подтвердилась лишь частично:\n",
    "* Пользователи слушают похожую музыку в начале недели и в конце.\n",
    "* Разница между Москвой и Петербургом не слишком выражена. В Москве чаще слушают русскую популярную музыку, в Петербурге — джаз.\n",
    "\n",
    "Однако пропуски в данных ставят под сомнение этот результат. В Москве их так много, что рейтинг топ-10 мог бы выглядеть иначе, если бы не утерянные  данные о жанрах."
   ]
  },
  {
   "cell_type": "markdown",
   "metadata": {
    "id": "JolODAqr_Zcu"
   },
   "source": [
    "### Жанровые предпочтения в Москве и Петербурге\n",
    "\n",
    "Гипотеза: Петербург — столица рэпа, музыку этого жанра там слушают чаще, чем в Москве.  А Москва — город контрастов, в котором, тем не менее, преобладает поп-музыка."
   ]
  },
  {
   "cell_type": "markdown",
   "metadata": {
    "id": "DlegSvaT_Zcu"
   },
   "source": [
    "Сгруппируйте таблицу `moscow_general` по жанру и посчитайте прослушивания треков каждого жанра методом `count()`. Затем отсортируйте результат в порядке убывания и сохраните его в таблице `moscow_genres`."
   ]
  },
  {
   "cell_type": "code",
   "execution_count": 35,
   "metadata": {
    "id": "r19lIPke_Zcu"
   },
   "outputs": [],
   "source": [
    "# одной строкой: группировка таблицы moscow_general по столбцу 'genre', \n",
    "# подсчёт числа значений 'genre' в этой группировке методом count(), \n",
    "# сортировка получившегося Series в порядке убывания и сохранение в moscow_genres\n",
    "moscow_genres = moscow_general.groupby('genre')['genre'].count().sort_values(ascending=False).head(10)\n"
   ]
  },
  {
   "cell_type": "markdown",
   "metadata": {
    "id": "6kMuomxTiIr8"
   },
   "source": [
    "Выведите на экран первые десять строк `moscow_genres`:"
   ]
  },
  {
   "cell_type": "code",
   "execution_count": 36,
   "metadata": {
    "id": "WhCSooF8_Zcv"
   },
   "outputs": [
    {
     "data": {
      "text/plain": [
       "genre\n",
       "pop            5892\n",
       "dance          4435\n",
       "rock           3965\n",
       "electronic     3786\n",
       "hip            2041\n",
       "classical      1616\n",
       "world          1432\n",
       "alternative    1379\n",
       "ruspop         1372\n",
       "rusrap         1161\n",
       "Name: genre, dtype: int64"
      ]
     },
     "execution_count": 36,
     "metadata": {},
     "output_type": "execute_result"
    }
   ],
   "source": [
    "# просмотр первых 10 строк moscow_genres\n",
    "moscow_genres.head(10)"
   ]
  },
  {
   "cell_type": "markdown",
   "metadata": {
    "id": "cnPG2vnN_Zcv"
   },
   "source": [
    "Теперь повторите то же и для Петербурга.\n",
    "\n",
    "Сгруппируйте таблицу `spb_general` по жанру. Посчитайте прослушивания треков каждого жанра. Результат отсортируйте в порядке убывания и сохраните в таблице `spb_genres`:\n"
   ]
  },
  {
   "cell_type": "code",
   "execution_count": 37,
   "metadata": {
    "id": "gluLIpE7_Zcv"
   },
   "outputs": [],
   "source": [
    "# одной строкой: группировка таблицы spb_general по столбцу 'genre', \n",
    "# подсчёт числа значений 'genre' в этой группировке методом count(), \n",
    "# сортировка получившегося Series в порядке убывания и сохранение в spb_genres\n",
    "spb_genres = spb_general.groupby('genre')['genre'].count().sort_values(ascending=False).head(10)\n"
   ]
  },
  {
   "cell_type": "markdown",
   "metadata": {
    "id": "5Doha_ODgyQ8"
   },
   "source": [
    "Выведите на экран первые десять строк `spb_genres`:"
   ]
  },
  {
   "cell_type": "code",
   "execution_count": 38,
   "metadata": {
    "id": "uaGJHjVU_Zcv"
   },
   "outputs": [
    {
     "data": {
      "text/plain": [
       "genre\n",
       "pop            2431\n",
       "dance          1932\n",
       "rock           1879\n",
       "electronic     1736\n",
       "hip             934\n",
       "alternative     649\n",
       "classical       646\n",
       "rusrap          564\n",
       "ruspop          538\n",
       "world           515\n",
       "Name: genre, dtype: int64"
      ]
     },
     "execution_count": 38,
     "metadata": {},
     "output_type": "execute_result"
    }
   ],
   "source": [
    "# просмотр первых 10 строк spb_genres\n",
    "spb_genres.head(10)"
   ]
  },
  {
   "cell_type": "markdown",
   "metadata": {
    "id": "RY51YJYu_Zcv"
   },
   "source": [
    "**Выводы**"
   ]
  },
  {
   "cell_type": "markdown",
   "metadata": {
    "id": "nVhnJEm__Zcv"
   },
   "source": [
    "Гипотеза частично подтвердилась:\n",
    "* Поп-музыка — самый популярный жанр в Москве, как и предполагала гипотеза. Более того, в топ-10 жанров встречается близкий жанр — русская популярная музыка.\n",
    "* Вопреки ожиданиям, рэп одинаково популярен в Москве и Петербурге. \n"
   ]
  },
  {
   "cell_type": "markdown",
   "metadata": {
    "id": "ykKQ0N65_Zcv"
   },
   "source": [
    "## Итоги исследования"
   ]
  },
  {
   "cell_type": "markdown",
   "metadata": {
    "id": "tjUwbHb3_Zcv"
   },
   "source": [
    "Вы проверили три гипотезы и установили:\n",
    "\n",
    "1. День недели по-разному влияет на активность пользователей в Москве и Петербурге. \n",
    "\n",
    "Первая гипотеза полностью подтвердилась.\n",
    "\n",
    "2. Музыкальные предпочтения не сильно меняются в течение недели — будь то Москва или Петербург. Небольшие различия заметны в начале недели, по понедельникам:\n",
    "* в Москве слушают музыку жанра “world”,\n",
    "* в Петербурге — джаз и классику.\n",
    "\n",
    "Таким образом, вторая гипотеза подтвердилась лишь отчасти. Этот результат мог оказаться иным, если бы не пропуски в данных.\n",
    "\n",
    "3. Во вкусах пользователей Москвы и Петербурга больше общего чем различий. Вопреки ожиданиям, предпочтения жанров в Петербурге напоминают московские.\n",
    "\n",
    "Третья гипотеза не подтвердилась. Если различия в предпочтениях и существуют, на основной массе пользователей они незаметны.\n",
    "\n",
    "**На практике исследования содержат проверки статистических гипотез.**\n",
    "Из данных одного сервиса не всегда можно сделать вывод о всех жителях города.\n",
    "Проверки статистических гипотез покажут, насколько они достоверны, исходя из имеющихся данных. \n",
    "С методами проверок гипотез вы ещё познакомитесь в следующих темах."
   ]
  }
 ],
 "metadata": {
  "ExecuteTimeLog": [
   {
    "duration": 354,
    "start_time": "2021-10-14T08:39:20.481Z"
   },
   {
    "duration": 749,
    "start_time": "2021-10-14T08:39:26.031Z"
   },
   {
    "duration": 184,
    "start_time": "2021-10-14T08:43:43.431Z"
   },
   {
    "duration": 185,
    "start_time": "2021-10-14T08:43:50.350Z"
   },
   {
    "duration": 34,
    "start_time": "2021-10-14T08:47:42.794Z"
   },
   {
    "duration": 32,
    "start_time": "2021-10-14T08:48:10.136Z"
   },
   {
    "duration": 33,
    "start_time": "2021-10-14T08:51:28.495Z"
   },
   {
    "duration": 277,
    "start_time": "2021-10-14T08:52:07.148Z"
   },
   {
    "duration": 6,
    "start_time": "2021-10-14T08:52:18.686Z"
   },
   {
    "duration": 18,
    "start_time": "2021-10-14T08:56:10.259Z"
   },
   {
    "duration": 6,
    "start_time": "2021-10-14T08:56:31.338Z"
   },
   {
    "duration": 34,
    "start_time": "2021-10-14T08:57:11.604Z"
   },
   {
    "duration": 254,
    "start_time": "2021-10-14T08:58:47.019Z"
   },
   {
    "duration": 382,
    "start_time": "2021-10-14T08:58:53.624Z"
   },
   {
    "duration": 5,
    "start_time": "2021-10-14T08:59:24.766Z"
   },
   {
    "duration": 94,
    "start_time": "2021-10-14T09:02:55.465Z"
   },
   {
    "duration": 87,
    "start_time": "2021-10-14T09:03:30.407Z"
   },
   {
    "duration": 5,
    "start_time": "2021-10-14T09:04:13.031Z"
   },
   {
    "duration": 154,
    "start_time": "2021-10-14T09:04:37.903Z"
   },
   {
    "duration": 277,
    "start_time": "2021-10-14T09:05:10.581Z"
   },
   {
    "duration": 26,
    "start_time": "2021-10-14T09:05:25.012Z"
   },
   {
    "duration": 6,
    "start_time": "2021-10-14T09:05:40.811Z"
   },
   {
    "duration": 28,
    "start_time": "2021-10-14T09:09:18.111Z"
   },
   {
    "duration": 24,
    "start_time": "2021-10-14T09:35:09.007Z"
   },
   {
    "duration": 43,
    "start_time": "2021-10-14T09:35:26.191Z"
   },
   {
    "duration": 86,
    "start_time": "2021-10-14T09:38:04.805Z"
   },
   {
    "duration": 90,
    "start_time": "2021-10-14T09:39:24.524Z"
   },
   {
    "duration": 73,
    "start_time": "2021-10-14T09:39:43.058Z"
   },
   {
    "duration": 87,
    "start_time": "2021-10-14T09:39:56.864Z"
   },
   {
    "duration": 81,
    "start_time": "2021-10-14T09:39:59.418Z"
   },
   {
    "duration": 98,
    "start_time": "2021-10-14T09:40:32.733Z"
   },
   {
    "duration": 82,
    "start_time": "2021-10-14T09:40:34.397Z"
   },
   {
    "duration": 299,
    "start_time": "2021-10-14T09:43:01.063Z"
   },
   {
    "duration": 10,
    "start_time": "2021-10-14T09:44:07.468Z"
   },
   {
    "duration": 297,
    "start_time": "2021-10-14T09:44:40.148Z"
   },
   {
    "duration": 14,
    "start_time": "2021-10-14T09:44:53.020Z"
   },
   {
    "duration": 14,
    "start_time": "2021-10-14T09:52:20.262Z"
   },
   {
    "duration": 123,
    "start_time": "2021-10-14T10:03:03.324Z"
   },
   {
    "duration": 31,
    "start_time": "2021-10-14T10:03:44.728Z"
   },
   {
    "duration": 14,
    "start_time": "2021-10-14T10:08:39.285Z"
   },
   {
    "duration": 126,
    "start_time": "2021-10-14T10:09:14.239Z"
   },
   {
    "duration": 255,
    "start_time": "2021-10-14T10:09:22.227Z"
   },
   {
    "duration": 7190,
    "start_time": "2021-10-14T10:09:30.294Z"
   },
   {
    "duration": 16,
    "start_time": "2021-10-14T10:09:55.134Z"
   },
   {
    "duration": 133,
    "start_time": "2021-10-14T10:10:28.828Z"
   },
   {
    "duration": 6752,
    "start_time": "2021-10-14T10:11:52.853Z"
   },
   {
    "duration": 80,
    "start_time": "2021-10-14T10:17:40.007Z"
   },
   {
    "duration": 90,
    "start_time": "2021-10-14T10:17:56.716Z"
   },
   {
    "duration": 84,
    "start_time": "2021-10-14T10:18:01.788Z"
   },
   {
    "duration": 190,
    "start_time": "2021-10-14T10:18:16.616Z"
   },
   {
    "duration": 85,
    "start_time": "2021-10-14T10:18:21.185Z"
   },
   {
    "duration": 124,
    "start_time": "2021-10-14T10:18:37.777Z"
   },
   {
    "duration": 15,
    "start_time": "2021-10-14T10:28:16.218Z"
   },
   {
    "duration": 15,
    "start_time": "2021-10-14T10:28:18.109Z"
   },
   {
    "duration": 18,
    "start_time": "2021-10-14T10:29:06.866Z"
   },
   {
    "duration": 31,
    "start_time": "2021-10-14T10:29:28.476Z"
   },
   {
    "duration": 85,
    "start_time": "2021-10-14T10:50:53.171Z"
   },
   {
    "duration": 93,
    "start_time": "2021-10-14T10:51:09.307Z"
   },
   {
    "duration": 82,
    "start_time": "2021-10-14T10:51:14.406Z"
   },
   {
    "duration": 12,
    "start_time": "2021-10-14T10:58:11.877Z"
   },
   {
    "duration": 133,
    "start_time": "2021-10-14T11:35:09.670Z"
   },
   {
    "duration": 249,
    "start_time": "2021-10-14T11:35:37.405Z"
   },
   {
    "duration": 78,
    "start_time": "2021-10-14T11:35:46.395Z"
   },
   {
    "duration": 6638,
    "start_time": "2021-10-14T11:36:19.441Z"
   },
   {
    "duration": 7634,
    "start_time": "2021-10-14T11:36:26.461Z"
   },
   {
    "duration": 33,
    "start_time": "2021-10-14T11:37:05.502Z"
   },
   {
    "duration": 296,
    "start_time": "2021-10-14T11:38:47.929Z"
   },
   {
    "duration": 10,
    "start_time": "2021-10-14T11:39:17.537Z"
   },
   {
    "duration": 250,
    "start_time": "2021-10-14T11:39:34.457Z"
   },
   {
    "duration": 15,
    "start_time": "2021-10-14T11:39:43.344Z"
   },
   {
    "duration": 360,
    "start_time": "2021-10-14T11:51:02.379Z"
   },
   {
    "duration": 113,
    "start_time": "2021-10-14T11:51:34.756Z"
   },
   {
    "duration": 113,
    "start_time": "2021-10-14T11:51:46.565Z"
   },
   {
    "duration": 21,
    "start_time": "2021-10-14T11:52:29.710Z"
   },
   {
    "duration": 107,
    "start_time": "2021-10-14T11:53:24.857Z"
   },
   {
    "duration": 16,
    "start_time": "2021-10-14T11:55:02.634Z"
   },
   {
    "duration": 4,
    "start_time": "2021-10-14T12:04:39.665Z"
   },
   {
    "duration": 70,
    "start_time": "2021-10-14T12:08:51.281Z"
   },
   {
    "duration": 46,
    "start_time": "2021-10-14T12:13:01.053Z"
   },
   {
    "duration": 40,
    "start_time": "2021-10-14T12:13:10.657Z"
   },
   {
    "duration": 46,
    "start_time": "2021-10-14T12:13:34.491Z"
   },
   {
    "duration": 90,
    "start_time": "2021-10-14T12:30:16.675Z"
   },
   {
    "duration": 88,
    "start_time": "2021-10-14T12:32:26.778Z"
   },
   {
    "duration": 5,
    "start_time": "2021-10-14T12:33:02.723Z"
   },
   {
    "duration": 4,
    "start_time": "2021-10-14T12:33:06.106Z"
   },
   {
    "duration": 255,
    "start_time": "2021-10-14T12:33:58.017Z"
   },
   {
    "duration": 313,
    "start_time": "2021-10-14T12:34:08.850Z"
   },
   {
    "duration": 17,
    "start_time": "2021-10-14T12:34:22.887Z"
   },
   {
    "duration": 33,
    "start_time": "2021-10-14T12:35:29.437Z"
   },
   {
    "duration": 30,
    "start_time": "2021-10-14T12:36:00.000Z"
   },
   {
    "duration": 29,
    "start_time": "2021-10-14T12:36:52.034Z"
   },
   {
    "duration": 28,
    "start_time": "2021-10-14T12:36:52.909Z"
   },
   {
    "duration": 32,
    "start_time": "2021-10-14T12:36:53.584Z"
   },
   {
    "duration": 24,
    "start_time": "2021-10-14T12:36:54.240Z"
   },
   {
    "duration": 13,
    "start_time": "2021-10-14T12:40:27.488Z"
   },
   {
    "duration": 275,
    "start_time": "2021-10-14T13:32:02.724Z"
   },
   {
    "duration": 346,
    "start_time": "2021-10-14T13:33:22.495Z"
   },
   {
    "duration": 307,
    "start_time": "2021-10-14T13:34:58.560Z"
   },
   {
    "duration": 265,
    "start_time": "2021-10-14T13:35:16.075Z"
   },
   {
    "duration": 272,
    "start_time": "2021-10-14T13:36:26.935Z"
   },
   {
    "duration": 286,
    "start_time": "2021-10-14T13:39:34.924Z"
   },
   {
    "duration": 280,
    "start_time": "2021-10-14T13:39:47.229Z"
   },
   {
    "duration": 7,
    "start_time": "2021-10-14T13:39:58.252Z"
   },
   {
    "duration": 5,
    "start_time": "2021-10-14T13:41:06.512Z"
   },
   {
    "duration": 89,
    "start_time": "2021-10-14T13:44:18.775Z"
   },
   {
    "duration": 126,
    "start_time": "2021-10-14T13:44:44.790Z"
   },
   {
    "duration": 268,
    "start_time": "2021-10-14T13:44:53.590Z"
   },
   {
    "duration": 335,
    "start_time": "2021-10-14T13:45:05.088Z"
   },
   {
    "duration": 6,
    "start_time": "2021-10-14T13:45:24.397Z"
   },
   {
    "duration": 253,
    "start_time": "2021-10-14T13:46:18.327Z"
   },
   {
    "duration": 298,
    "start_time": "2021-10-14T13:46:22.521Z"
   },
   {
    "duration": 86,
    "start_time": "2021-10-14T13:46:35.457Z"
   },
   {
    "duration": 249,
    "start_time": "2021-10-14T13:47:39.406Z"
   },
   {
    "duration": 266,
    "start_time": "2021-10-14T13:48:18.680Z"
   },
   {
    "duration": 258,
    "start_time": "2021-10-14T13:48:47.313Z"
   },
   {
    "duration": 8,
    "start_time": "2021-10-14T13:48:55.330Z"
   },
   {
    "duration": 270,
    "start_time": "2021-10-14T13:49:50.190Z"
   },
   {
    "duration": 6,
    "start_time": "2021-10-14T14:11:31.181Z"
   },
   {
    "duration": 283,
    "start_time": "2021-10-14T14:11:35.370Z"
   },
   {
    "duration": 4,
    "start_time": "2021-10-14T14:18:01.416Z"
   },
   {
    "duration": 32,
    "start_time": "2021-10-14T14:31:44.207Z"
   },
   {
    "duration": 4,
    "start_time": "2021-10-14T14:32:21.886Z"
   },
   {
    "duration": 32,
    "start_time": "2021-10-14T14:32:41.669Z"
   },
   {
    "duration": 14,
    "start_time": "2021-10-14T14:33:15.670Z"
   },
   {
    "duration": 6651,
    "start_time": "2021-10-14T14:33:22.406Z"
   },
   {
    "duration": 267,
    "start_time": "2021-10-14T14:33:30.864Z"
   },
   {
    "duration": 434,
    "start_time": "2021-10-14T14:33:39.694Z"
   },
   {
    "duration": 30,
    "start_time": "2021-10-14T14:33:53.973Z"
   },
   {
    "duration": 31,
    "start_time": "2021-10-14T14:33:58.327Z"
   },
   {
    "duration": 14,
    "start_time": "2021-10-14T14:34:05.338Z"
   },
   {
    "duration": 4,
    "start_time": "2021-10-14T14:34:10.189Z"
   },
   {
    "duration": 17,
    "start_time": "2021-10-14T14:37:52.017Z"
   },
   {
    "duration": 16,
    "start_time": "2021-10-14T14:37:55.571Z"
   },
   {
    "duration": 22,
    "start_time": "2021-10-14T14:38:01.945Z"
   },
   {
    "duration": 15,
    "start_time": "2021-10-14T14:38:05.347Z"
   },
   {
    "duration": 21,
    "start_time": "2021-10-14T14:38:06.985Z"
   },
   {
    "duration": 24,
    "start_time": "2021-10-14T14:38:12.123Z"
   },
   {
    "duration": 22,
    "start_time": "2021-10-14T14:38:14.354Z"
   },
   {
    "duration": 15,
    "start_time": "2021-10-14T14:38:14.600Z"
   },
   {
    "duration": 341,
    "start_time": "2021-10-14T14:45:39.545Z"
   },
   {
    "duration": 45,
    "start_time": "2021-10-14T14:45:58.043Z"
   },
   {
    "duration": 307,
    "start_time": "2021-10-14T14:46:55.163Z"
   },
   {
    "duration": 308,
    "start_time": "2021-10-14T14:47:17.603Z"
   },
   {
    "duration": 113,
    "start_time": "2021-10-14T14:47:47.906Z"
   },
   {
    "duration": 371,
    "start_time": "2021-10-14T14:47:54.534Z"
   },
   {
    "duration": 33,
    "start_time": "2021-10-14T14:48:19.957Z"
   },
   {
    "duration": 31,
    "start_time": "2021-10-14T14:48:25.177Z"
   },
   {
    "duration": 12,
    "start_time": "2021-10-14T14:48:37.949Z"
   },
   {
    "duration": 427,
    "start_time": "2021-10-14T14:50:02.515Z"
   },
   {
    "duration": 19,
    "start_time": "2021-10-14T14:50:06.232Z"
   },
   {
    "duration": 14,
    "start_time": "2021-10-14T14:50:10.073Z"
   },
   {
    "duration": 729,
    "start_time": "2021-10-14T18:34:57.606Z"
   },
   {
    "duration": 192,
    "start_time": "2021-10-14T18:34:58.338Z"
   },
   {
    "duration": 36,
    "start_time": "2021-10-14T18:34:58.533Z"
   },
   {
    "duration": 33,
    "start_time": "2021-10-14T18:34:58.571Z"
   },
   {
    "duration": 6,
    "start_time": "2021-10-14T18:34:58.607Z"
   },
   {
    "duration": 52,
    "start_time": "2021-10-14T18:34:58.615Z"
   },
   {
    "duration": 5,
    "start_time": "2021-10-14T18:34:58.670Z"
   },
   {
    "duration": 30,
    "start_time": "2021-10-14T18:34:58.679Z"
   },
   {
    "duration": 57,
    "start_time": "2021-10-14T18:34:58.712Z"
   },
   {
    "duration": 31,
    "start_time": "2021-10-14T18:34:58.771Z"
   },
   {
    "duration": 108,
    "start_time": "2021-10-14T18:34:58.805Z"
   },
   {
    "duration": 113,
    "start_time": "2021-10-14T18:34:58.916Z"
   },
   {
    "duration": 85,
    "start_time": "2021-10-14T18:34:59.032Z"
   },
   {
    "duration": 13,
    "start_time": "2021-10-14T18:34:59.120Z"
   },
   {
    "duration": 4,
    "start_time": "2021-10-14T18:34:59.136Z"
   },
   {
    "duration": 48,
    "start_time": "2021-10-14T18:34:59.142Z"
   },
   {
    "duration": 13,
    "start_time": "2021-10-14T18:34:59.192Z"
   },
   {
    "duration": 79,
    "start_time": "2021-10-14T18:34:59.207Z"
   },
   {
    "duration": 43,
    "start_time": "2021-10-14T18:34:59.288Z"
   },
   {
    "duration": 5,
    "start_time": "2021-10-14T18:34:59.333Z"
   },
   {
    "duration": 45,
    "start_time": "2021-10-14T18:34:59.340Z"
   },
   {
    "duration": 19,
    "start_time": "2021-10-14T18:34:59.388Z"
   },
   {
    "duration": 20,
    "start_time": "2021-10-14T18:34:59.412Z"
   },
   {
    "duration": 49,
    "start_time": "2021-10-14T18:34:59.434Z"
   },
   {
    "duration": 24,
    "start_time": "2021-10-14T18:34:59.485Z"
   },
   {
    "duration": 56,
    "start_time": "2021-10-14T18:34:59.512Z"
   },
   {
    "duration": 12,
    "start_time": "2021-10-14T18:34:59.571Z"
   },
   {
    "duration": 17,
    "start_time": "2021-10-14T18:34:59.585Z"
   },
   {
    "duration": 12,
    "start_time": "2021-10-14T18:34:59.604Z"
   },
   {
    "duration": 6,
    "start_time": "2021-10-14T18:34:59.618Z"
   },
   {
    "duration": 60,
    "start_time": "2021-10-14T18:34:59.626Z"
   },
   {
    "duration": 19,
    "start_time": "2021-10-14T18:34:59.688Z"
   },
   {
    "duration": 24,
    "start_time": "2021-10-14T18:34:59.709Z"
   },
   {
    "duration": 19,
    "start_time": "2021-10-14T18:34:59.767Z"
   },
   {
    "duration": 32,
    "start_time": "2021-10-14T18:34:59.788Z"
   },
   {
    "duration": 12,
    "start_time": "2021-10-14T18:34:59.822Z"
   },
   {
    "duration": 45,
    "start_time": "2021-10-14T18:34:59.836Z"
   },
   {
    "duration": 12,
    "start_time": "2021-10-14T18:34:59.883Z"
   },
   {
    "duration": 298,
    "start_time": "2021-10-14T18:40:09.577Z"
   },
   {
    "duration": 15,
    "start_time": "2021-10-14T18:46:00.953Z"
   },
   {
    "duration": 829,
    "start_time": "2021-10-14T20:10:24.999Z"
   },
   {
    "duration": 96,
    "start_time": "2021-10-14T20:10:43.095Z"
   },
   {
    "duration": 108,
    "start_time": "2021-10-14T20:11:00.667Z"
   },
   {
    "duration": 4,
    "start_time": "2021-10-14T20:11:19.342Z"
   },
   {
    "duration": 4,
    "start_time": "2021-10-14T20:11:24.138Z"
   },
   {
    "duration": 4,
    "start_time": "2021-10-15T04:24:38.910Z"
   },
   {
    "duration": 76,
    "start_time": "2021-10-15T04:25:16.605Z"
   },
   {
    "duration": 1039,
    "start_time": "2021-10-15T04:25:24.036Z"
   },
   {
    "duration": 724,
    "start_time": "2021-10-15T04:25:37.372Z"
   },
   {
    "duration": 683,
    "start_time": "2021-10-15T04:25:51.132Z"
   },
   {
    "duration": 475,
    "start_time": "2021-10-15T04:26:22.741Z"
   },
   {
    "duration": 250,
    "start_time": "2021-10-15T04:26:39.397Z"
   },
   {
    "duration": 243,
    "start_time": "2021-10-15T04:26:58.246Z"
   },
   {
    "duration": 240,
    "start_time": "2021-10-15T04:27:06.774Z"
   },
   {
    "duration": 4,
    "start_time": "2021-10-15T04:31:20.450Z"
   },
   {
    "duration": 274,
    "start_time": "2021-10-15T04:31:51.761Z"
   },
   {
    "duration": 232,
    "start_time": "2021-10-15T04:32:51.082Z"
   },
   {
    "duration": 81,
    "start_time": "2021-10-15T04:33:02.766Z"
   },
   {
    "duration": 80,
    "start_time": "2021-10-15T04:33:11.888Z"
   },
   {
    "duration": 77,
    "start_time": "2021-10-15T04:33:16.674Z"
   },
   {
    "duration": 117,
    "start_time": "2021-10-15T04:33:20.750Z"
   },
   {
    "duration": 79,
    "start_time": "2021-10-15T04:33:25.175Z"
   },
   {
    "duration": 78,
    "start_time": "2021-10-15T04:33:29.817Z"
   },
   {
    "duration": 82,
    "start_time": "2021-10-15T04:33:34.898Z"
   },
   {
    "duration": 79,
    "start_time": "2021-10-15T04:33:40.310Z"
   },
   {
    "duration": 258,
    "start_time": "2021-10-15T04:34:00.522Z"
   },
   {
    "duration": 3,
    "start_time": "2021-10-15T04:35:29.270Z"
   },
   {
    "duration": 247,
    "start_time": "2021-10-15T04:35:32.316Z"
   },
   {
    "duration": 228,
    "start_time": "2021-10-15T04:35:48.829Z"
   },
   {
    "duration": 571,
    "start_time": "2021-10-15T04:35:56.412Z"
   },
   {
    "duration": 174,
    "start_time": "2021-10-15T04:35:59.622Z"
   },
   {
    "duration": 17,
    "start_time": "2021-10-15T04:36:01.324Z"
   },
   {
    "duration": 24,
    "start_time": "2021-10-15T04:36:10.964Z"
   },
   {
    "duration": 4,
    "start_time": "2021-10-15T04:36:16.172Z"
   },
   {
    "duration": 21,
    "start_time": "2021-10-15T04:36:21.670Z"
   },
   {
    "duration": 4,
    "start_time": "2021-10-15T04:36:25.980Z"
   },
   {
    "duration": 23,
    "start_time": "2021-10-15T04:36:33.252Z"
   },
   {
    "duration": 3,
    "start_time": "2021-10-15T04:36:35.268Z"
   },
   {
    "duration": 22,
    "start_time": "2021-10-15T04:36:42.036Z"
   },
   {
    "duration": 67,
    "start_time": "2021-10-15T04:36:43.792Z"
   },
   {
    "duration": 78,
    "start_time": "2021-10-15T04:36:47.740Z"
   },
   {
    "duration": 58,
    "start_time": "2021-10-15T04:36:49.452Z"
   },
   {
    "duration": 272,
    "start_time": "2021-10-15T04:36:51.301Z"
   },
   {
    "duration": 60,
    "start_time": "2021-10-15T04:37:00.014Z"
   },
   {
    "duration": 266,
    "start_time": "2021-10-15T04:37:17.814Z"
   },
   {
    "duration": 3,
    "start_time": "2021-10-15T04:37:55.293Z"
   },
   {
    "duration": 19,
    "start_time": "2021-10-15T04:37:56.785Z"
   },
   {
    "duration": 239,
    "start_time": "2021-10-15T04:37:58.261Z"
   },
   {
    "duration": 33,
    "start_time": "2021-10-15T04:38:12.174Z"
   },
   {
    "duration": 33,
    "start_time": "2021-10-15T04:38:18.001Z"
   },
   {
    "duration": 3,
    "start_time": "2021-10-15T04:38:21.128Z"
   },
   {
    "duration": 18,
    "start_time": "2021-10-15T04:38:22.702Z"
   },
   {
    "duration": 15,
    "start_time": "2021-10-15T04:38:23.262Z"
   },
   {
    "duration": 15,
    "start_time": "2021-10-15T04:38:23.686Z"
   },
   {
    "duration": 16,
    "start_time": "2021-10-15T04:38:24.078Z"
   },
   {
    "duration": 19,
    "start_time": "2021-10-15T04:38:24.746Z"
   },
   {
    "duration": 16,
    "start_time": "2021-10-15T04:38:25.168Z"
   },
   {
    "duration": 9,
    "start_time": "2021-10-15T04:38:26.366Z"
   },
   {
    "duration": 12,
    "start_time": "2021-10-15T04:38:30.222Z"
   },
   {
    "duration": 10,
    "start_time": "2021-10-15T04:38:31.022Z"
   },
   {
    "duration": 5,
    "start_time": "2021-10-15T04:38:32.374Z"
   },
   {
    "duration": 848,
    "start_time": "2021-10-15T04:38:34.654Z"
   },
   {
    "duration": 489,
    "start_time": "2021-10-15T04:38:45.447Z"
   },
   {
    "duration": 4,
    "start_time": "2021-10-15T04:39:04.973Z"
   },
   {
    "duration": 20,
    "start_time": "2021-10-15T04:39:06.181Z"
   },
   {
    "duration": 18,
    "start_time": "2021-10-15T04:39:17.658Z"
   },
   {
    "duration": 320,
    "start_time": "2021-10-15T04:39:28.487Z"
   },
   {
    "duration": 17,
    "start_time": "2021-10-15T04:39:44.528Z"
   },
   {
    "duration": 239,
    "start_time": "2021-10-15T04:40:02.548Z"
   },
   {
    "duration": 20,
    "start_time": "2021-10-15T04:40:16.606Z"
   },
   {
    "duration": 14,
    "start_time": "2021-10-15T04:40:44.603Z"
   },
   {
    "duration": 14,
    "start_time": "2021-10-15T04:40:50.237Z"
   },
   {
    "duration": 13,
    "start_time": "2021-10-15T04:41:04.482Z"
   },
   {
    "duration": 19,
    "start_time": "2021-10-15T04:41:07.118Z"
   },
   {
    "duration": 88,
    "start_time": "2021-10-15T04:42:18.370Z"
   },
   {
    "duration": 324,
    "start_time": "2021-10-15T04:44:10.533Z"
   },
   {
    "duration": 6,
    "start_time": "2021-10-15T04:45:38.608Z"
   },
   {
    "duration": 248,
    "start_time": "2021-10-15T04:45:55.040Z"
   },
   {
    "duration": 19,
    "start_time": "2021-10-15T04:46:29.568Z"
   },
   {
    "duration": 301,
    "start_time": "2021-10-15T04:47:54.432Z"
   },
   {
    "duration": 15,
    "start_time": "2021-10-15T04:49:45.305Z"
   },
   {
    "duration": 80,
    "start_time": "2021-10-15T04:49:59.024Z"
   },
   {
    "duration": 14,
    "start_time": "2021-10-15T04:50:10.234Z"
   },
   {
    "duration": 25,
    "start_time": "2021-10-15T04:50:43.709Z"
   },
   {
    "duration": 25,
    "start_time": "2021-10-15T04:50:47.074Z"
   },
   {
    "duration": 18,
    "start_time": "2021-10-15T04:52:15.324Z"
   },
   {
    "duration": 58,
    "start_time": "2021-10-15T04:54:58.822Z"
   },
   {
    "duration": 72,
    "start_time": "2021-10-15T04:54:59.749Z"
   },
   {
    "duration": 63,
    "start_time": "2021-10-15T04:55:00.581Z"
   },
   {
    "duration": 240,
    "start_time": "2021-10-15T04:55:02.822Z"
   },
   {
    "duration": 253,
    "start_time": "2021-10-15T04:55:18.975Z"
   },
   {
    "duration": 263,
    "start_time": "2021-10-15T04:55:33.910Z"
   },
   {
    "duration": 262,
    "start_time": "2021-10-15T04:59:33.840Z"
   },
   {
    "duration": 9,
    "start_time": "2021-10-15T04:59:44.602Z"
   },
   {
    "duration": 8,
    "start_time": "2021-10-15T04:59:47.518Z"
   },
   {
    "duration": 8,
    "start_time": "2021-10-15T05:00:15.410Z"
   },
   {
    "duration": 9,
    "start_time": "2021-10-15T05:00:18.534Z"
   },
   {
    "duration": 603,
    "start_time": "2021-10-15T16:37:43.120Z"
   },
   {
    "duration": 146,
    "start_time": "2021-10-15T16:37:43.725Z"
   },
   {
    "duration": 17,
    "start_time": "2021-10-15T16:37:43.873Z"
   },
   {
    "duration": 24,
    "start_time": "2021-10-15T16:37:43.892Z"
   },
   {
    "duration": 4,
    "start_time": "2021-10-15T16:37:43.918Z"
   },
   {
    "duration": 43,
    "start_time": "2021-10-15T16:37:43.924Z"
   },
   {
    "duration": 10,
    "start_time": "2021-10-15T16:37:43.969Z"
   },
   {
    "duration": 24,
    "start_time": "2021-10-15T16:37:43.982Z"
   },
   {
    "duration": 3,
    "start_time": "2021-10-15T16:37:44.008Z"
   },
   {
    "duration": 27,
    "start_time": "2021-10-15T16:37:44.013Z"
   },
   {
    "duration": 87,
    "start_time": "2021-10-15T16:37:44.042Z"
   },
   {
    "duration": 92,
    "start_time": "2021-10-15T16:37:44.131Z"
   },
   {
    "duration": 66,
    "start_time": "2021-10-15T16:37:44.224Z"
   },
   {
    "duration": 296,
    "start_time": "2021-10-15T16:37:44.292Z"
   },
   {
    "duration": 737,
    "start_time": "2021-10-15T16:37:43.853Z"
   },
   {
    "duration": 728,
    "start_time": "2021-10-15T16:37:43.863Z"
   },
   {
    "duration": 722,
    "start_time": "2021-10-15T16:37:43.870Z"
   },
   {
    "duration": 706,
    "start_time": "2021-10-15T16:37:43.886Z"
   },
   {
    "duration": 702,
    "start_time": "2021-10-15T16:37:43.891Z"
   },
   {
    "duration": 698,
    "start_time": "2021-10-15T16:37:43.896Z"
   },
   {
    "duration": 696,
    "start_time": "2021-10-15T16:37:43.899Z"
   },
   {
    "duration": 694,
    "start_time": "2021-10-15T16:37:43.902Z"
   },
   {
    "duration": 692,
    "start_time": "2021-10-15T16:37:43.905Z"
   },
   {
    "duration": 689,
    "start_time": "2021-10-15T16:37:43.909Z"
   },
   {
    "duration": 687,
    "start_time": "2021-10-15T16:37:43.912Z"
   },
   {
    "duration": 681,
    "start_time": "2021-10-15T16:37:43.918Z"
   },
   {
    "duration": 679,
    "start_time": "2021-10-15T16:37:43.921Z"
   },
   {
    "duration": 677,
    "start_time": "2021-10-15T16:37:43.924Z"
   },
   {
    "duration": 674,
    "start_time": "2021-10-15T16:37:43.928Z"
   },
   {
    "duration": 672,
    "start_time": "2021-10-15T16:37:43.931Z"
   },
   {
    "duration": 670,
    "start_time": "2021-10-15T16:37:43.934Z"
   },
   {
    "duration": 667,
    "start_time": "2021-10-15T16:37:43.937Z"
   },
   {
    "duration": 665,
    "start_time": "2021-10-15T16:37:43.940Z"
   },
   {
    "duration": 663,
    "start_time": "2021-10-15T16:37:43.943Z"
   },
   {
    "duration": 660,
    "start_time": "2021-10-15T16:37:43.947Z"
   },
   {
    "duration": 658,
    "start_time": "2021-10-15T16:37:43.950Z"
   },
   {
    "duration": 655,
    "start_time": "2021-10-15T16:37:43.954Z"
   },
   {
    "duration": 654,
    "start_time": "2021-10-15T16:37:43.957Z"
   },
   {
    "duration": 7,
    "start_time": "2021-10-15T16:38:28.010Z"
   },
   {
    "duration": 623,
    "start_time": "2021-10-15T16:38:39.846Z"
   },
   {
    "duration": 143,
    "start_time": "2021-10-15T16:38:40.471Z"
   },
   {
    "duration": 18,
    "start_time": "2021-10-15T16:38:40.618Z"
   },
   {
    "duration": 37,
    "start_time": "2021-10-15T16:38:40.638Z"
   },
   {
    "duration": 6,
    "start_time": "2021-10-15T16:38:40.676Z"
   },
   {
    "duration": 23,
    "start_time": "2021-10-15T16:38:40.684Z"
   },
   {
    "duration": 12,
    "start_time": "2021-10-15T16:38:40.710Z"
   },
   {
    "duration": 43,
    "start_time": "2021-10-15T16:38:40.724Z"
   },
   {
    "duration": 4,
    "start_time": "2021-10-15T16:38:40.769Z"
   },
   {
    "duration": 25,
    "start_time": "2021-10-15T16:38:40.775Z"
   },
   {
    "duration": 86,
    "start_time": "2021-10-15T16:38:40.802Z"
   },
   {
    "duration": 91,
    "start_time": "2021-10-15T16:38:40.891Z"
   },
   {
    "duration": 61,
    "start_time": "2021-10-15T16:38:40.984Z"
   },
   {
    "duration": 328,
    "start_time": "2021-10-15T16:38:41.047Z"
   },
   {
    "duration": 713,
    "start_time": "2021-10-15T16:38:40.665Z"
   },
   {
    "duration": 710,
    "start_time": "2021-10-15T16:38:40.669Z"
   },
   {
    "duration": 707,
    "start_time": "2021-10-15T16:38:40.674Z"
   },
   {
    "duration": 702,
    "start_time": "2021-10-15T16:38:40.680Z"
   },
   {
    "duration": 698,
    "start_time": "2021-10-15T16:38:40.685Z"
   },
   {
    "duration": 695,
    "start_time": "2021-10-15T16:38:40.690Z"
   },
   {
    "duration": 691,
    "start_time": "2021-10-15T16:38:40.695Z"
   },
   {
    "duration": 688,
    "start_time": "2021-10-15T16:38:40.700Z"
   },
   {
    "duration": 685,
    "start_time": "2021-10-15T16:38:40.704Z"
   },
   {
    "duration": 682,
    "start_time": "2021-10-15T16:38:40.708Z"
   },
   {
    "duration": 678,
    "start_time": "2021-10-15T16:38:40.713Z"
   },
   {
    "duration": 675,
    "start_time": "2021-10-15T16:38:40.717Z"
   },
   {
    "duration": 673,
    "start_time": "2021-10-15T16:38:40.720Z"
   },
   {
    "duration": 669,
    "start_time": "2021-10-15T16:38:40.725Z"
   },
   {
    "duration": 667,
    "start_time": "2021-10-15T16:38:40.728Z"
   },
   {
    "duration": 664,
    "start_time": "2021-10-15T16:38:40.732Z"
   },
   {
    "duration": 661,
    "start_time": "2021-10-15T16:38:40.736Z"
   },
   {
    "duration": 660,
    "start_time": "2021-10-15T16:38:40.739Z"
   },
   {
    "duration": 657,
    "start_time": "2021-10-15T16:38:40.743Z"
   },
   {
    "duration": 644,
    "start_time": "2021-10-15T16:38:40.757Z"
   },
   {
    "duration": 640,
    "start_time": "2021-10-15T16:38:40.761Z"
   },
   {
    "duration": 637,
    "start_time": "2021-10-15T16:38:40.765Z"
   },
   {
    "duration": 634,
    "start_time": "2021-10-15T16:38:40.769Z"
   },
   {
    "duration": 632,
    "start_time": "2021-10-15T16:38:40.772Z"
   },
   {
    "duration": 3,
    "start_time": "2021-10-15T16:38:53.052Z"
   },
   {
    "duration": 39,
    "start_time": "2021-10-15T16:38:53.057Z"
   },
   {
    "duration": 288,
    "start_time": "2021-10-15T16:38:53.098Z"
   },
   {
    "duration": 750,
    "start_time": "2021-10-15T16:38:52.639Z"
   },
   {
    "duration": 743,
    "start_time": "2021-10-15T16:38:52.647Z"
   },
   {
    "duration": 737,
    "start_time": "2021-10-15T16:38:52.654Z"
   },
   {
    "duration": 733,
    "start_time": "2021-10-15T16:38:52.659Z"
   },
   {
    "duration": 725,
    "start_time": "2021-10-15T16:38:52.668Z"
   },
   {
    "duration": 718,
    "start_time": "2021-10-15T16:38:52.676Z"
   },
   {
    "duration": 713,
    "start_time": "2021-10-15T16:38:52.682Z"
   },
   {
    "duration": 707,
    "start_time": "2021-10-15T16:38:52.689Z"
   },
   {
    "duration": 702,
    "start_time": "2021-10-15T16:38:52.695Z"
   },
   {
    "duration": 679,
    "start_time": "2021-10-15T16:38:52.719Z"
   },
   {
    "duration": 672,
    "start_time": "2021-10-15T16:38:52.727Z"
   },
   {
    "duration": 667,
    "start_time": "2021-10-15T16:38:52.733Z"
   },
   {
    "duration": 661,
    "start_time": "2021-10-15T16:38:52.740Z"
   },
   {
    "duration": 658,
    "start_time": "2021-10-15T16:38:52.745Z"
   },
   {
    "duration": 653,
    "start_time": "2021-10-15T16:38:52.751Z"
   },
   {
    "duration": 647,
    "start_time": "2021-10-15T16:38:52.757Z"
   },
   {
    "duration": 643,
    "start_time": "2021-10-15T16:38:52.762Z"
   },
   {
    "duration": 639,
    "start_time": "2021-10-15T16:38:52.767Z"
   },
   {
    "duration": 635,
    "start_time": "2021-10-15T16:38:52.772Z"
   },
   {
    "duration": 632,
    "start_time": "2021-10-15T16:38:52.777Z"
   },
   {
    "duration": 628,
    "start_time": "2021-10-15T16:38:52.782Z"
   },
   {
    "duration": 39,
    "start_time": "2021-10-15T16:40:56.003Z"
   },
   {
    "duration": 34,
    "start_time": "2021-10-15T16:40:56.044Z"
   },
   {
    "duration": 3,
    "start_time": "2021-10-15T16:40:56.080Z"
   },
   {
    "duration": 29,
    "start_time": "2021-10-15T16:40:56.085Z"
   },
   {
    "duration": 16,
    "start_time": "2021-10-15T16:40:56.116Z"
   },
   {
    "duration": 33,
    "start_time": "2021-10-15T16:40:56.134Z"
   },
   {
    "duration": 15,
    "start_time": "2021-10-15T16:40:56.169Z"
   },
   {
    "duration": 18,
    "start_time": "2021-10-15T16:40:56.186Z"
   },
   {
    "duration": 17,
    "start_time": "2021-10-15T16:40:56.206Z"
   },
   {
    "duration": 8,
    "start_time": "2021-10-15T16:40:56.225Z"
   },
   {
    "duration": 17,
    "start_time": "2021-10-15T16:40:56.264Z"
   },
   {
    "duration": 10,
    "start_time": "2021-10-15T16:40:56.283Z"
   },
   {
    "duration": 4,
    "start_time": "2021-10-15T16:40:56.294Z"
   },
   {
    "duration": 25,
    "start_time": "2021-10-15T16:40:56.300Z"
   },
   {
    "duration": 41,
    "start_time": "2021-10-15T16:40:56.327Z"
   },
   {
    "duration": 26,
    "start_time": "2021-10-15T16:40:56.370Z"
   },
   {
    "duration": 12,
    "start_time": "2021-10-15T16:40:56.398Z"
   },
   {
    "duration": 8,
    "start_time": "2021-10-15T16:40:56.411Z"
   },
   {
    "duration": 5,
    "start_time": "2021-10-15T16:40:56.421Z"
   },
   {
    "duration": 37,
    "start_time": "2021-10-15T16:40:56.428Z"
   },
   {
    "duration": 7,
    "start_time": "2021-10-15T16:40:56.467Z"
   },
   {
    "duration": 252,
    "start_time": "2021-10-15T16:41:22.273Z"
   },
   {
    "duration": 6,
    "start_time": "2021-10-15T16:41:28.007Z"
   },
   {
    "duration": 30,
    "start_time": "2021-10-15T16:42:01.708Z"
   },
   {
    "duration": 6,
    "start_time": "2021-10-15T16:42:17.691Z"
   },
   {
    "duration": 293,
    "start_time": "2021-10-15T17:13:21.228Z"
   },
   {
    "duration": 236,
    "start_time": "2021-10-15T17:13:34.101Z"
   },
   {
    "duration": 246,
    "start_time": "2021-10-15T17:13:58.895Z"
   },
   {
    "duration": 251,
    "start_time": "2021-10-15T18:24:22.959Z"
   },
   {
    "duration": 2875,
    "start_time": "2021-10-15T18:26:11.108Z"
   },
   {
    "duration": 364,
    "start_time": "2021-10-15T18:26:22.786Z"
   },
   {
    "duration": 315,
    "start_time": "2021-10-15T18:27:02.957Z"
   },
   {
    "duration": 964,
    "start_time": "2021-10-15T18:28:51.353Z"
   },
   {
    "duration": 2,
    "start_time": "2021-10-15T18:28:52.319Z"
   },
   {
    "duration": 2,
    "start_time": "2021-10-15T18:29:17.877Z"
   },
   {
    "duration": 150,
    "start_time": "2021-10-15T18:29:24.018Z"
   },
   {
    "duration": 15,
    "start_time": "2021-10-15T18:29:37.717Z"
   },
   {
    "duration": 31,
    "start_time": "2021-10-15T18:29:40.550Z"
   },
   {
    "duration": 10,
    "start_time": "2021-10-15T18:29:51.145Z"
   },
   {
    "duration": 18,
    "start_time": "2021-10-15T18:29:53.357Z"
   },
   {
    "duration": 4,
    "start_time": "2021-10-15T18:29:54.638Z"
   },
   {
    "duration": 28,
    "start_time": "2021-10-15T18:30:00.541Z"
   },
   {
    "duration": 17,
    "start_time": "2021-10-15T18:30:03.783Z"
   },
   {
    "duration": 16,
    "start_time": "2021-10-15T18:30:11.090Z"
   },
   {
    "duration": 10,
    "start_time": "2021-10-15T18:30:19.226Z"
   },
   {
    "duration": 10,
    "start_time": "2021-10-15T18:30:23.470Z"
   },
   {
    "duration": 83,
    "start_time": "2021-10-15T18:31:31.602Z"
   },
   {
    "duration": 8,
    "start_time": "2021-10-15T18:34:17.419Z"
   },
   {
    "duration": 88,
    "start_time": "2021-10-15T18:34:36.150Z"
   },
   {
    "duration": 100,
    "start_time": "2021-10-15T18:35:03.732Z"
   },
   {
    "duration": 578,
    "start_time": "2021-10-15T20:25:59.238Z"
   },
   {
    "duration": 128,
    "start_time": "2021-10-15T20:25:59.818Z"
   },
   {
    "duration": 14,
    "start_time": "2021-10-15T20:25:59.948Z"
   },
   {
    "duration": 32,
    "start_time": "2021-10-15T20:25:59.964Z"
   },
   {
    "duration": 5,
    "start_time": "2021-10-15T20:25:59.998Z"
   },
   {
    "duration": 29,
    "start_time": "2021-10-15T20:26:00.005Z"
   },
   {
    "duration": 5,
    "start_time": "2021-10-15T20:26:00.036Z"
   },
   {
    "duration": 37,
    "start_time": "2021-10-15T20:26:00.043Z"
   },
   {
    "duration": 17,
    "start_time": "2021-10-15T20:26:00.082Z"
   },
   {
    "duration": 21,
    "start_time": "2021-10-15T20:26:00.101Z"
   },
   {
    "duration": 72,
    "start_time": "2021-10-15T20:26:00.123Z"
   },
   {
    "duration": 61,
    "start_time": "2021-10-15T20:26:00.197Z"
   },
   {
    "duration": 60,
    "start_time": "2021-10-15T20:26:00.260Z"
   },
   {
    "duration": 8,
    "start_time": "2021-10-15T20:26:00.322Z"
   },
   {
    "duration": 2,
    "start_time": "2021-10-15T20:26:00.332Z"
   },
   {
    "duration": 23,
    "start_time": "2021-10-15T20:26:00.336Z"
   },
   {
    "duration": 21,
    "start_time": "2021-10-15T20:26:00.360Z"
   },
   {
    "duration": 30,
    "start_time": "2021-10-15T20:26:00.383Z"
   },
   {
    "duration": 30,
    "start_time": "2021-10-15T20:26:00.415Z"
   },
   {
    "duration": 3,
    "start_time": "2021-10-15T20:26:00.446Z"
   },
   {
    "duration": 42,
    "start_time": "2021-10-15T20:26:00.451Z"
   },
   {
    "duration": 13,
    "start_time": "2021-10-15T20:26:00.495Z"
   },
   {
    "duration": 17,
    "start_time": "2021-10-15T20:26:00.511Z"
   },
   {
    "duration": 19,
    "start_time": "2021-10-15T20:26:00.530Z"
   },
   {
    "duration": 37,
    "start_time": "2021-10-15T20:26:00.551Z"
   },
   {
    "duration": 14,
    "start_time": "2021-10-15T20:26:00.589Z"
   },
   {
    "duration": 8,
    "start_time": "2021-10-15T20:26:00.604Z"
   },
   {
    "duration": 17,
    "start_time": "2021-10-15T20:26:00.614Z"
   },
   {
    "duration": 9,
    "start_time": "2021-10-15T20:26:00.633Z"
   },
   {
    "duration": 7,
    "start_time": "2021-10-15T20:26:00.644Z"
   },
   {
    "duration": 38,
    "start_time": "2021-10-15T20:26:00.652Z"
   },
   {
    "duration": 15,
    "start_time": "2021-10-15T20:26:00.692Z"
   },
   {
    "duration": 15,
    "start_time": "2021-10-15T20:26:00.708Z"
   },
   {
    "duration": 12,
    "start_time": "2021-10-15T20:26:00.725Z"
   },
   {
    "duration": 9,
    "start_time": "2021-10-15T20:26:00.738Z"
   },
   {
    "duration": 31,
    "start_time": "2021-10-15T20:26:00.748Z"
   },
   {
    "duration": 5,
    "start_time": "2021-10-15T20:26:00.781Z"
   },
   {
    "duration": 10,
    "start_time": "2021-10-15T20:26:00.788Z"
   },
   {
    "duration": 4,
    "start_time": "2021-11-01T14:58:56.438Z"
   },
   {
    "duration": 217,
    "start_time": "2021-11-01T14:59:03.813Z"
   },
   {
    "duration": 292,
    "start_time": "2021-11-01T14:59:19.197Z"
   },
   {
    "duration": 267,
    "start_time": "2021-11-01T14:59:23.563Z"
   },
   {
    "duration": 168,
    "start_time": "2021-11-01T14:59:31.723Z"
   },
   {
    "duration": 542,
    "start_time": "2021-11-01T14:59:41.307Z"
   },
   {
    "duration": 132,
    "start_time": "2021-11-01T14:59:43.259Z"
   },
   {
    "duration": 17,
    "start_time": "2021-11-01T14:59:46.074Z"
   },
   {
    "duration": 24,
    "start_time": "2021-11-01T14:59:47.513Z"
   },
   {
    "duration": 4,
    "start_time": "2021-11-01T14:59:50.986Z"
   },
   {
    "duration": 21,
    "start_time": "2021-11-01T14:59:52.391Z"
   },
   {
    "duration": 4,
    "start_time": "2021-11-01T14:59:53.683Z"
   },
   {
    "duration": 23,
    "start_time": "2021-11-01T14:59:54.985Z"
   },
   {
    "duration": 17,
    "start_time": "2021-11-01T14:59:56.178Z"
   },
   {
    "duration": 21,
    "start_time": "2021-11-01T14:59:59.237Z"
   },
   {
    "duration": 56,
    "start_time": "2021-11-01T15:00:00.131Z"
   },
   {
    "duration": 69,
    "start_time": "2021-11-01T15:00:01.042Z"
   },
   {
    "duration": 53,
    "start_time": "2021-11-01T15:00:02.251Z"
   },
   {
    "duration": 9,
    "start_time": "2021-11-01T15:00:03.498Z"
   },
   {
    "duration": 3,
    "start_time": "2021-11-01T15:00:05.852Z"
   },
   {
    "duration": 21,
    "start_time": "2021-11-01T15:00:07.339Z"
   },
   {
    "duration": 13,
    "start_time": "2021-11-01T15:00:20.499Z"
   },
   {
    "duration": 10,
    "start_time": "2021-11-01T15:00:30.262Z"
   },
   {
    "duration": 489,
    "start_time": "2021-11-02T07:17:21.744Z"
   },
   {
    "duration": 1087,
    "start_time": "2021-11-02T07:17:30.763Z"
   },
   {
    "duration": 245,
    "start_time": "2021-11-02T07:17:32.216Z"
   },
   {
    "duration": 26,
    "start_time": "2021-11-02T07:17:34.055Z"
   },
   {
    "duration": 33,
    "start_time": "2021-11-02T07:17:35.271Z"
   },
   {
    "duration": 6,
    "start_time": "2021-11-02T07:17:38.631Z"
   },
   {
    "duration": 26,
    "start_time": "2021-11-02T07:17:40.089Z"
   },
   {
    "duration": 5,
    "start_time": "2021-11-02T07:17:41.191Z"
   },
   {
    "duration": 29,
    "start_time": "2021-11-02T07:17:42.488Z"
   },
   {
    "duration": 26,
    "start_time": "2021-11-02T07:17:43.835Z"
   },
   {
    "duration": 32,
    "start_time": "2021-11-02T07:17:47.519Z"
   },
   {
    "duration": 115,
    "start_time": "2021-11-02T07:17:48.573Z"
   },
   {
    "duration": 100,
    "start_time": "2021-11-02T07:17:49.904Z"
   },
   {
    "duration": 76,
    "start_time": "2021-11-02T07:17:50.806Z"
   },
   {
    "duration": 13,
    "start_time": "2021-11-02T07:17:51.984Z"
   },
   {
    "duration": 6,
    "start_time": "2021-11-02T07:17:54.160Z"
   },
   {
    "duration": 20,
    "start_time": "2021-11-02T07:17:55.483Z"
   },
   {
    "duration": 15,
    "start_time": "2021-11-02T07:17:56.632Z"
   },
   {
    "duration": 13,
    "start_time": "2021-11-02T07:17:59.760Z"
   },
   {
    "duration": 46,
    "start_time": "2021-11-02T07:20:25.171Z"
   },
   {
    "duration": 13,
    "start_time": "2021-11-02T07:20:55.957Z"
   },
   {
    "duration": 22,
    "start_time": "2021-11-02T07:31:31.644Z"
   },
   {
    "duration": 5,
    "start_time": "2021-11-02T07:33:26.167Z"
   },
   {
    "duration": 347,
    "start_time": "2021-11-25T11:00:05.586Z"
   },
   {
    "duration": 755,
    "start_time": "2021-11-25T11:00:13.072Z"
   },
   {
    "duration": 182,
    "start_time": "2021-11-25T11:00:13.879Z"
   },
   {
    "duration": 27,
    "start_time": "2021-11-25T11:00:14.475Z"
   },
   {
    "duration": 33,
    "start_time": "2021-11-25T11:00:15.078Z"
   },
   {
    "duration": 5,
    "start_time": "2021-11-25T11:00:17.619Z"
   },
   {
    "duration": 27,
    "start_time": "2021-11-25T11:00:18.690Z"
   },
   {
    "duration": 5,
    "start_time": "2021-11-25T11:00:19.186Z"
   },
   {
    "duration": 31,
    "start_time": "2021-11-25T11:00:19.998Z"
   },
   {
    "duration": 21,
    "start_time": "2021-11-25T11:00:21.217Z"
   },
   {
    "duration": 30,
    "start_time": "2021-11-25T11:00:23.171Z"
   },
   {
    "duration": 91,
    "start_time": "2021-11-25T11:00:24.259Z"
   },
   {
    "duration": 108,
    "start_time": "2021-11-25T11:00:25.203Z"
   },
   {
    "duration": 80,
    "start_time": "2021-11-25T11:00:26.298Z"
   },
   {
    "duration": 15,
    "start_time": "2021-11-25T11:00:27.234Z"
   },
   {
    "duration": 4,
    "start_time": "2021-11-25T11:00:28.683Z"
   },
   {
    "duration": 21,
    "start_time": "2021-11-25T11:00:29.523Z"
   },
   {
    "duration": 29,
    "start_time": "2021-11-25T11:00:30.177Z"
   },
   {
    "duration": 49,
    "start_time": "2021-11-25T11:00:32.175Z"
   },
   {
    "duration": 316,
    "start_time": "2021-11-26T07:14:30.516Z"
   },
   {
    "duration": 746,
    "start_time": "2021-11-26T07:14:50.164Z"
   },
   {
    "duration": 1012,
    "start_time": "2021-11-26T07:14:50.913Z"
   },
   {
    "duration": 28,
    "start_time": "2021-11-26T07:14:51.928Z"
   },
   {
    "duration": 78,
    "start_time": "2021-11-26T07:14:51.960Z"
   },
   {
    "duration": 5,
    "start_time": "2021-11-26T07:14:52.041Z"
   },
   {
    "duration": 25,
    "start_time": "2021-11-26T07:14:52.049Z"
   },
   {
    "duration": 10,
    "start_time": "2021-11-26T07:14:52.076Z"
   },
   {
    "duration": 62,
    "start_time": "2021-11-26T07:14:52.090Z"
   },
   {
    "duration": 22,
    "start_time": "2021-11-26T07:14:52.155Z"
   },
   {
    "duration": 49,
    "start_time": "2021-11-26T07:14:52.180Z"
   },
   {
    "duration": 100,
    "start_time": "2021-11-26T07:14:52.232Z"
   },
   {
    "duration": 116,
    "start_time": "2021-11-26T07:14:52.334Z"
   },
   {
    "duration": 88,
    "start_time": "2021-11-26T07:14:52.453Z"
   },
   {
    "duration": 12,
    "start_time": "2021-11-26T07:14:52.544Z"
   },
   {
    "duration": 3,
    "start_time": "2021-11-26T07:14:52.559Z"
   },
   {
    "duration": 23,
    "start_time": "2021-11-26T07:14:52.564Z"
   },
   {
    "duration": 53,
    "start_time": "2021-11-26T07:14:52.589Z"
   },
   {
    "duration": 45,
    "start_time": "2021-11-26T07:14:52.644Z"
   },
   {
    "duration": 13,
    "start_time": "2021-11-26T07:14:52.691Z"
   },
   {
    "duration": 4,
    "start_time": "2021-11-26T07:14:52.730Z"
   },
   {
    "duration": 33,
    "start_time": "2021-11-26T07:14:52.736Z"
   },
   {
    "duration": 19,
    "start_time": "2021-11-26T07:14:52.771Z"
   },
   {
    "duration": 43,
    "start_time": "2021-11-26T07:14:52.794Z"
   },
   {
    "duration": 20,
    "start_time": "2021-11-26T07:14:52.840Z"
   },
   {
    "duration": 23,
    "start_time": "2021-11-26T07:14:52.863Z"
   },
   {
    "duration": 57,
    "start_time": "2021-11-26T07:14:52.889Z"
   },
   {
    "duration": 11,
    "start_time": "2021-11-26T07:14:52.949Z"
   },
   {
    "duration": 18,
    "start_time": "2021-11-26T07:14:52.962Z"
   },
   {
    "duration": 13,
    "start_time": "2021-11-26T07:14:52.982Z"
   },
   {
    "duration": 5,
    "start_time": "2021-11-26T07:14:53.029Z"
   },
   {
    "duration": 28,
    "start_time": "2021-11-26T07:14:53.037Z"
   },
   {
    "duration": 19,
    "start_time": "2021-11-26T07:14:53.068Z"
   },
   {
    "duration": 59,
    "start_time": "2021-11-26T07:14:53.090Z"
   },
   {
    "duration": 20,
    "start_time": "2021-11-26T07:14:53.151Z"
   },
   {
    "duration": 13,
    "start_time": "2021-11-26T07:14:53.173Z"
   },
   {
    "duration": 44,
    "start_time": "2021-11-26T07:14:53.189Z"
   },
   {
    "duration": 12,
    "start_time": "2021-11-26T07:14:53.236Z"
   },
   {
    "duration": 8,
    "start_time": "2021-11-26T07:14:53.250Z"
   }
  ],
  "colab": {
   "collapsed_sections": [
    "E0vqbgi9ay0H",
    "VUC88oWjTJw2"
   ],
   "name": "yandex_music_project_2021.2.ipynb",
   "provenance": []
  },
  "kernelspec": {
   "display_name": "Python 3 (ipykernel)",
   "language": "python",
   "name": "python3"
  },
  "language_info": {
   "codemirror_mode": {
    "name": "ipython",
    "version": 3
   },
   "file_extension": ".py",
   "mimetype": "text/x-python",
   "name": "python",
   "nbconvert_exporter": "python",
   "pygments_lexer": "ipython3",
   "version": "3.9.7"
  },
  "toc": {
   "base_numbering": 1,
   "nav_menu": {},
   "number_sections": true,
   "sideBar": true,
   "skip_h1_title": true,
   "title_cell": "Table of Contents",
   "title_sidebar": "Contents",
   "toc_cell": false,
   "toc_position": {
    "height": "calc(100% - 180px)",
    "left": "10px",
    "top": "150px",
    "width": "356.797px"
   },
   "toc_section_display": true,
   "toc_window_display": false
  }
 },
 "nbformat": 4,
 "nbformat_minor": 1
}
