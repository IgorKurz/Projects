{
 "cells": [
  {
   "cell_type": "markdown",
   "metadata": {},
   "source": [
    "## Шаг 1. Откройте файл с данными и изучите общую информацию\n",
    "\n",
    "Путь к файлу: /datasets/games.csv.\n",
    "\n",
    "## Шаг 2. Подготовьте данные\n",
    "\n",
    "- Замените названия столбцов (приведите к нижнему регистру);\n",
    "- Преобразуйте данные в нужные типы. Опишите, в каких столбцах заменили тип данных и почему;\n",
    "- Обработайте пропуски при необходимости:\n",
    "- Объясните, почему заполнили пропуски определённым образом или почему не стали это делать;\n",
    "- Опишите причины, которые могли привести к пропускам;\n",
    "- Обратите внимание на аббревиатуру 'tbd' в столбцах с рейтингом. Отдельно разберите это значение и опишите, как его обработать;\n",
    "- Посчитайте суммарные продажи во всех регионах и запишите их в отдельный столбец.\n",
    "\n",
    "## Шаг 3. Проведите исследовательский анализ данных\n",
    "\n",
    "- Посмотрите, сколько игр выпускалось в разные годы. Важны ли данные за все периоды?\n",
    "- Посмотрите, как менялись продажи по платформам. Выберите платформы с наибольшими суммарными продажами и постройте распределение по годам. За какой характерный срок появляются новые и исчезают старые платформы?\n",
    "- Возьмите данные за соответствующий актуальный период. Актуальный период определите самостоятельно в результате исследования предыдущих вопросов. Основной фактор — эти данные помогут построить прогноз на 2017 год.\n",
    "- Не учитывайте в работе данные за предыдущие годы.\n",
    "- Какие платформы лидируют по продажам, растут или падают? Выберите несколько потенциально прибыльных платформ.\n",
    "- Постройте график «ящик с усами» по глобальным продажам игр в разбивке по платформам. Опишите результат.\n",
    "- Посмотрите, как влияют на продажи внутри одной популярной платформы отзывы пользователей и критиков. Постройте диаграмму рассеяния и посчитайте корреляцию между отзывами и продажами. Сформулируйте выводы.\n",
    "- Соотнесите выводы с продажами игр на других платформах.\n",
    "- Посмотрите на общее распределение игр по жанрам. Что можно сказать о самых прибыльных жанрах? Выделяются ли жанры с высокими и низкими продажами?\n",
    "\n",
    "## Шаг 4. Составьте портрет пользователя каждого региона\n",
    "\n",
    "- Определите для пользователя каждого региона (NA, EU, JP):\n",
    "- Самые популярные платформы (топ-5). Опишите различия в долях продаж.\n",
    "- Самые популярные жанры (топ-5). Поясните разницу.\n",
    "- Влияет ли рейтинг ESRB на продажи в отдельном регионе?\n",
    "\n",
    "## Шаг 5. Проверьте гипотезы\n",
    "\n",
    "- Средние пользовательские рейтинги платформ Xbox One и PC одинаковые;\n",
    "- Средние пользовательские рейтинги жанров Action (англ. «действие», экшен-игры) и Sports (англ. «спортивные соревнования») разные.\n",
    "- Задайте самостоятельно пороговое значение alpha.\n",
    "- Поясните:\n",
    "- Как вы сформулировали нулевую и альтернативную гипотезы;\n",
    "- Какой критерий применили для проверки гипотез и почему.\n",
    "\n",
    "## Шаг 6. Напишите общий вывод\n",
    "\n",
    "- Оформление: Выполните задание в Jupyter Notebook. Заполните программный код в ячейках типа code, текстовые пояснения — в ячейках типа markdown. Примените форматирование и заголовки."
   ]
  },
  {
   "cell_type": "markdown",
   "metadata": {},
   "source": [
    "---"
   ]
  },
  {
   "cell_type": "markdown",
   "metadata": {},
   "source": [
    "# Шаг 1 Откроем файл с данными и изучим общую информаци"
   ]
  },
  {
   "cell_type": "code",
   "execution_count": 1,
   "metadata": {},
   "outputs": [],
   "source": [
    "# Иvпортируем библиотеки \n",
    "import pandas as pd\n",
    "import numpy as np\n",
    "import seaborn as sns\n",
    "import matplotlib.pyplot as plt\n",
    "from scipy import stats as st"
   ]
  },
  {
   "cell_type": "code",
   "execution_count": 2,
   "metadata": {},
   "outputs": [],
   "source": [
    "# Читаем датасет\n",
    "df = pd.read_csv('/datasets/games.csv')"
   ]
  },
  {
   "cell_type": "code",
   "execution_count": 3,
   "metadata": {},
   "outputs": [
    {
     "data": {
      "text/html": [
       "<div>\n",
       "<style scoped>\n",
       "    .dataframe tbody tr th:only-of-type {\n",
       "        vertical-align: middle;\n",
       "    }\n",
       "\n",
       "    .dataframe tbody tr th {\n",
       "        vertical-align: top;\n",
       "    }\n",
       "\n",
       "    .dataframe thead th {\n",
       "        text-align: right;\n",
       "    }\n",
       "</style>\n",
       "<table border=\"1\" class=\"dataframe\">\n",
       "  <thead>\n",
       "    <tr style=\"text-align: right;\">\n",
       "      <th></th>\n",
       "      <th>Name</th>\n",
       "      <th>Platform</th>\n",
       "      <th>Year_of_Release</th>\n",
       "      <th>Genre</th>\n",
       "      <th>NA_sales</th>\n",
       "      <th>EU_sales</th>\n",
       "      <th>JP_sales</th>\n",
       "      <th>Other_sales</th>\n",
       "      <th>Critic_Score</th>\n",
       "      <th>User_Score</th>\n",
       "      <th>Rating</th>\n",
       "    </tr>\n",
       "  </thead>\n",
       "  <tbody>\n",
       "    <tr>\n",
       "      <td>0</td>\n",
       "      <td>Wii Sports</td>\n",
       "      <td>Wii</td>\n",
       "      <td>2006.0</td>\n",
       "      <td>Sports</td>\n",
       "      <td>41.36</td>\n",
       "      <td>28.96</td>\n",
       "      <td>3.77</td>\n",
       "      <td>8.45</td>\n",
       "      <td>76.0</td>\n",
       "      <td>8</td>\n",
       "      <td>E</td>\n",
       "    </tr>\n",
       "    <tr>\n",
       "      <td>1</td>\n",
       "      <td>Super Mario Bros.</td>\n",
       "      <td>NES</td>\n",
       "      <td>1985.0</td>\n",
       "      <td>Platform</td>\n",
       "      <td>29.08</td>\n",
       "      <td>3.58</td>\n",
       "      <td>6.81</td>\n",
       "      <td>0.77</td>\n",
       "      <td>NaN</td>\n",
       "      <td>NaN</td>\n",
       "      <td>NaN</td>\n",
       "    </tr>\n",
       "    <tr>\n",
       "      <td>2</td>\n",
       "      <td>Mario Kart Wii</td>\n",
       "      <td>Wii</td>\n",
       "      <td>2008.0</td>\n",
       "      <td>Racing</td>\n",
       "      <td>15.68</td>\n",
       "      <td>12.76</td>\n",
       "      <td>3.79</td>\n",
       "      <td>3.29</td>\n",
       "      <td>82.0</td>\n",
       "      <td>8.3</td>\n",
       "      <td>E</td>\n",
       "    </tr>\n",
       "  </tbody>\n",
       "</table>\n",
       "</div>"
      ],
      "text/plain": [
       "                Name Platform  Year_of_Release     Genre  NA_sales  EU_sales  \\\n",
       "0         Wii Sports      Wii           2006.0    Sports     41.36     28.96   \n",
       "1  Super Mario Bros.      NES           1985.0  Platform     29.08      3.58   \n",
       "2     Mario Kart Wii      Wii           2008.0    Racing     15.68     12.76   \n",
       "\n",
       "   JP_sales  Other_sales  Critic_Score User_Score Rating  \n",
       "0      3.77         8.45          76.0          8      E  \n",
       "1      6.81         0.77           NaN        NaN    NaN  \n",
       "2      3.79         3.29          82.0        8.3      E  "
      ]
     },
     "execution_count": 3,
     "metadata": {},
     "output_type": "execute_result"
    }
   ],
   "source": [
    "# Визуально оценим файл\n",
    "df.head(3)"
   ]
  },
  {
   "cell_type": "markdown",
   "metadata": {},
   "source": [
    "- **Name** — название игры\n",
    "- **Platform** — платформа\n",
    "- **Year_of_Release** — год выпуска\n",
    "- **Genre** — жанр игры\n",
    "- **NA_sales** — продажи в Северной Америке (миллионы проданных копий)\n",
    "- **EU_sales** — продажи в Европе (миллионы проданных копий)\n",
    "- **JP_sales** — продажи в Японии (миллионы проданных копий)\n",
    "- **Other_sales** — продажи в других странах (миллионы проданных копий)\n",
    "- **Critic_Score** — оценка критиков (максимум 100)\n",
    "- **User_Score** — оценка пользователей (максимум 10)\n",
    "- **Rating** — рейтинг от организации ESRB (англ. Entertainment Software Rating Board). Эта ассоциация определяет рейтинг компьютерных игр и присваивает им подходящую возрастную категорию."
   ]
  },
  {
   "cell_type": "code",
   "execution_count": 4,
   "metadata": {},
   "outputs": [
    {
     "name": "stdout",
     "output_type": "stream",
     "text": [
      "<class 'pandas.core.frame.DataFrame'>\n",
      "RangeIndex: 16715 entries, 0 to 16714\n",
      "Data columns (total 11 columns):\n",
      "Name               16713 non-null object\n",
      "Platform           16715 non-null object\n",
      "Year_of_Release    16446 non-null float64\n",
      "Genre              16713 non-null object\n",
      "NA_sales           16715 non-null float64\n",
      "EU_sales           16715 non-null float64\n",
      "JP_sales           16715 non-null float64\n",
      "Other_sales        16715 non-null float64\n",
      "Critic_Score       8137 non-null float64\n",
      "User_Score         10014 non-null object\n",
      "Rating             9949 non-null object\n",
      "dtypes: float64(6), object(5)\n",
      "memory usage: 1.4+ MB\n"
     ]
    }
   ],
   "source": [
    "df.info()"
   ]
  },
  {
   "cell_type": "code",
   "execution_count": 5,
   "metadata": {},
   "outputs": [
    {
     "data": {
      "text/html": [
       "<div>\n",
       "<style scoped>\n",
       "    .dataframe tbody tr th:only-of-type {\n",
       "        vertical-align: middle;\n",
       "    }\n",
       "\n",
       "    .dataframe tbody tr th {\n",
       "        vertical-align: top;\n",
       "    }\n",
       "\n",
       "    .dataframe thead th {\n",
       "        text-align: right;\n",
       "    }\n",
       "</style>\n",
       "<table border=\"1\" class=\"dataframe\">\n",
       "  <thead>\n",
       "    <tr style=\"text-align: right;\">\n",
       "      <th></th>\n",
       "      <th>Year_of_Release</th>\n",
       "      <th>NA_sales</th>\n",
       "      <th>EU_sales</th>\n",
       "      <th>JP_sales</th>\n",
       "      <th>Other_sales</th>\n",
       "      <th>Critic_Score</th>\n",
       "    </tr>\n",
       "  </thead>\n",
       "  <tbody>\n",
       "    <tr>\n",
       "      <td>count</td>\n",
       "      <td>16446.000000</td>\n",
       "      <td>16715.000000</td>\n",
       "      <td>16715.000000</td>\n",
       "      <td>16715.000000</td>\n",
       "      <td>16715.000000</td>\n",
       "      <td>8137.000000</td>\n",
       "    </tr>\n",
       "    <tr>\n",
       "      <td>mean</td>\n",
       "      <td>2006.484616</td>\n",
       "      <td>0.263377</td>\n",
       "      <td>0.145060</td>\n",
       "      <td>0.077617</td>\n",
       "      <td>0.047342</td>\n",
       "      <td>68.967679</td>\n",
       "    </tr>\n",
       "    <tr>\n",
       "      <td>std</td>\n",
       "      <td>5.877050</td>\n",
       "      <td>0.813604</td>\n",
       "      <td>0.503339</td>\n",
       "      <td>0.308853</td>\n",
       "      <td>0.186731</td>\n",
       "      <td>13.938165</td>\n",
       "    </tr>\n",
       "    <tr>\n",
       "      <td>min</td>\n",
       "      <td>1980.000000</td>\n",
       "      <td>0.000000</td>\n",
       "      <td>0.000000</td>\n",
       "      <td>0.000000</td>\n",
       "      <td>0.000000</td>\n",
       "      <td>13.000000</td>\n",
       "    </tr>\n",
       "    <tr>\n",
       "      <td>25%</td>\n",
       "      <td>2003.000000</td>\n",
       "      <td>0.000000</td>\n",
       "      <td>0.000000</td>\n",
       "      <td>0.000000</td>\n",
       "      <td>0.000000</td>\n",
       "      <td>60.000000</td>\n",
       "    </tr>\n",
       "    <tr>\n",
       "      <td>50%</td>\n",
       "      <td>2007.000000</td>\n",
       "      <td>0.080000</td>\n",
       "      <td>0.020000</td>\n",
       "      <td>0.000000</td>\n",
       "      <td>0.010000</td>\n",
       "      <td>71.000000</td>\n",
       "    </tr>\n",
       "    <tr>\n",
       "      <td>75%</td>\n",
       "      <td>2010.000000</td>\n",
       "      <td>0.240000</td>\n",
       "      <td>0.110000</td>\n",
       "      <td>0.040000</td>\n",
       "      <td>0.030000</td>\n",
       "      <td>79.000000</td>\n",
       "    </tr>\n",
       "    <tr>\n",
       "      <td>max</td>\n",
       "      <td>2016.000000</td>\n",
       "      <td>41.360000</td>\n",
       "      <td>28.960000</td>\n",
       "      <td>10.220000</td>\n",
       "      <td>10.570000</td>\n",
       "      <td>98.000000</td>\n",
       "    </tr>\n",
       "  </tbody>\n",
       "</table>\n",
       "</div>"
      ],
      "text/plain": [
       "       Year_of_Release      NA_sales      EU_sales      JP_sales  \\\n",
       "count     16446.000000  16715.000000  16715.000000  16715.000000   \n",
       "mean       2006.484616      0.263377      0.145060      0.077617   \n",
       "std           5.877050      0.813604      0.503339      0.308853   \n",
       "min        1980.000000      0.000000      0.000000      0.000000   \n",
       "25%        2003.000000      0.000000      0.000000      0.000000   \n",
       "50%        2007.000000      0.080000      0.020000      0.000000   \n",
       "75%        2010.000000      0.240000      0.110000      0.040000   \n",
       "max        2016.000000     41.360000     28.960000     10.220000   \n",
       "\n",
       "        Other_sales  Critic_Score  \n",
       "count  16715.000000   8137.000000  \n",
       "mean       0.047342     68.967679  \n",
       "std        0.186731     13.938165  \n",
       "min        0.000000     13.000000  \n",
       "25%        0.000000     60.000000  \n",
       "50%        0.010000     71.000000  \n",
       "75%        0.030000     79.000000  \n",
       "max       10.570000     98.000000  "
      ]
     },
     "execution_count": 5,
     "metadata": {},
     "output_type": "execute_result"
    }
   ],
   "source": [
    "df.describe()"
   ]
  },
  {
   "cell_type": "markdown",
   "metadata": {},
   "source": [
    "**Вывод:**\n",
    "    \n",
    "    По окончанию 1 шага, Имеем 16715 записей и 11 столбцов.Необходимо заменить типы данных,обработать пропуски и 0"
   ]
  },
  {
   "cell_type": "markdown",
   "metadata": {},
   "source": [
    "---"
   ]
  },
  {
   "cell_type": "markdown",
   "metadata": {},
   "source": [
    "# Шаг 2. Подготовка данных\n",
    "\n",
    "- Замените названия столбцов (приведите к нижнему регистру);\n",
    "- Преобразуйте данные в нужные типы. Опишите, в каких столбцах заменили тип данных и почему;\n",
    "- Обработайте пропуски при необходимости:\n",
    "- Объясните, почему заполнили пропуски определённым образом или почему не стали это делать;\n",
    "- Опишите причины, которые могли привести к пропускам;\n",
    "- Обратите внимание на аббревиатуру 'tbd' в столбцах с рейтингом. Отдельно разберите это значение и опишите, как его обработать;\n",
    "- Посчитайте суммарные продажи во всех регионах и запишите их в отдельный столбец."
   ]
  },
  {
   "cell_type": "code",
   "execution_count": 6,
   "metadata": {},
   "outputs": [
    {
     "data": {
      "text/plain": [
       "Index(['name', 'platform', 'year_of_release', 'genre', 'na_sales', 'eu_sales',\n",
       "       'jp_sales', 'other_sales', 'critic_score', 'user_score', 'rating'],\n",
       "      dtype='object')"
      ]
     },
     "execution_count": 6,
     "metadata": {},
     "output_type": "execute_result"
    }
   ],
   "source": [
    "# Приводим все названия столбцов к нижнему регисру методом str.lower()\n",
    "df.columns = df.columns.str.lower()\n",
    "df.columns"
   ]
  },
  {
   "cell_type": "code",
   "execution_count": 7,
   "metadata": {},
   "outputs": [
    {
     "data": {
      "text/html": [
       "<div>\n",
       "<style scoped>\n",
       "    .dataframe tbody tr th:only-of-type {\n",
       "        vertical-align: middle;\n",
       "    }\n",
       "\n",
       "    .dataframe tbody tr th {\n",
       "        vertical-align: top;\n",
       "    }\n",
       "\n",
       "    .dataframe thead th {\n",
       "        text-align: right;\n",
       "    }\n",
       "</style>\n",
       "<table border=\"1\" class=\"dataframe\">\n",
       "  <thead>\n",
       "    <tr style=\"text-align: right;\">\n",
       "      <th></th>\n",
       "      <th>name</th>\n",
       "      <th>platform</th>\n",
       "      <th>genre</th>\n",
       "      <th>na_sales</th>\n",
       "      <th>eu_sales</th>\n",
       "      <th>jp_sales</th>\n",
       "      <th>other_sales</th>\n",
       "      <th>critic_score</th>\n",
       "      <th>user_score</th>\n",
       "      <th>rating</th>\n",
       "      <th>year</th>\n",
       "    </tr>\n",
       "  </thead>\n",
       "  <tbody>\n",
       "    <tr>\n",
       "      <td>0</td>\n",
       "      <td>Wii Sports</td>\n",
       "      <td>Wii</td>\n",
       "      <td>Sports</td>\n",
       "      <td>41.36</td>\n",
       "      <td>28.96</td>\n",
       "      <td>3.77</td>\n",
       "      <td>8.45</td>\n",
       "      <td>76.0</td>\n",
       "      <td>8</td>\n",
       "      <td>E</td>\n",
       "      <td>2006</td>\n",
       "    </tr>\n",
       "    <tr>\n",
       "      <td>1</td>\n",
       "      <td>Super Mario Bros.</td>\n",
       "      <td>NES</td>\n",
       "      <td>Platform</td>\n",
       "      <td>29.08</td>\n",
       "      <td>3.58</td>\n",
       "      <td>6.81</td>\n",
       "      <td>0.77</td>\n",
       "      <td>NaN</td>\n",
       "      <td>NaN</td>\n",
       "      <td>NaN</td>\n",
       "      <td>1985</td>\n",
       "    </tr>\n",
       "    <tr>\n",
       "      <td>2</td>\n",
       "      <td>Mario Kart Wii</td>\n",
       "      <td>Wii</td>\n",
       "      <td>Racing</td>\n",
       "      <td>15.68</td>\n",
       "      <td>12.76</td>\n",
       "      <td>3.79</td>\n",
       "      <td>3.29</td>\n",
       "      <td>82.0</td>\n",
       "      <td>8.3</td>\n",
       "      <td>E</td>\n",
       "      <td>2008</td>\n",
       "    </tr>\n",
       "  </tbody>\n",
       "</table>\n",
       "</div>"
      ],
      "text/plain": [
       "                name platform     genre  na_sales  eu_sales  jp_sales  \\\n",
       "0         Wii Sports      Wii    Sports     41.36     28.96      3.77   \n",
       "1  Super Mario Bros.      NES  Platform     29.08      3.58      6.81   \n",
       "2     Mario Kart Wii      Wii    Racing     15.68     12.76      3.79   \n",
       "\n",
       "   other_sales  critic_score user_score rating  year  \n",
       "0         8.45          76.0          8      E  2006  \n",
       "1         0.77           NaN        NaN    NaN  1985  \n",
       "2         3.29          82.0        8.3      E  2008  "
      ]
     },
     "execution_count": 7,
     "metadata": {},
     "output_type": "execute_result"
    }
   ],
   "source": [
    "# переведом строку с датой релиза игры в datetime\n",
    "df['year_of_release'] = pd.to_datetime(df['year_of_release'], format=\"%Y\")# меняем тип данных на to_datetime\n",
    "df['year'] = df['year_of_release'].dt.year #Создаём столбец с годом\n",
    "df['year'] = df['year'].fillna(0) # избавимся от NAN иначе тип данных не преобразуется\n",
    "df['year'] = df['year'].astype('int') # переведем в int\n",
    "del df['year_of_release'] # удалим старый стобец с датой\n",
    "df.head(3)"
   ]
  },
  {
   "cell_type": "code",
   "execution_count": 8,
   "metadata": {},
   "outputs": [],
   "source": [
    "#рейтинг K-A заменим на E\n",
    "df['rating'] = df['rating'].replace('K-A', 'E')"
   ]
  },
  {
   "cell_type": "markdown",
   "metadata": {},
   "source": [
    "В столбцах year_of_release и user_score заменим тип данных, предварительно заменив пропущенные значение на нетипичное -1. Год выпуска - это целое число, поэтому эти значения будут указаны в формате int64, а оценка пользователей - невещественное число, приведем эти значения к формату float64."
   ]
  },
  {
   "cell_type": "code",
   "execution_count": 9,
   "metadata": {},
   "outputs": [],
   "source": [
    "# Замним на -1 в дальнейшем будем учитывать\n",
    "df['user_score'] = df['user_score'].fillna(-1)"
   ]
  },
  {
   "cell_type": "code",
   "execution_count": 10,
   "metadata": {},
   "outputs": [
    {
     "data": {
      "text/plain": [
       "name               2\n",
       "platform           0\n",
       "genre              2\n",
       "na_sales           0\n",
       "eu_sales           0\n",
       "jp_sales           0\n",
       "other_sales        0\n",
       "critic_score    8578\n",
       "user_score         0\n",
       "rating          6766\n",
       "year               0\n",
       "dtype: int64"
      ]
     },
     "execution_count": 10,
     "metadata": {},
     "output_type": "execute_result"
    }
   ],
   "source": [
    "# подсчёт пропусков\n",
    "df.isna().sum()"
   ]
  },
  {
   "cell_type": "code",
   "execution_count": 11,
   "metadata": {},
   "outputs": [
    {
     "data": {
      "text/html": [
       "<div>\n",
       "<style scoped>\n",
       "    .dataframe tbody tr th:only-of-type {\n",
       "        vertical-align: middle;\n",
       "    }\n",
       "\n",
       "    .dataframe tbody tr th {\n",
       "        vertical-align: top;\n",
       "    }\n",
       "\n",
       "    .dataframe thead th {\n",
       "        text-align: right;\n",
       "    }\n",
       "</style>\n",
       "<table border=\"1\" class=\"dataframe\">\n",
       "  <thead>\n",
       "    <tr style=\"text-align: right;\">\n",
       "      <th></th>\n",
       "      <th>name</th>\n",
       "      <th>platform</th>\n",
       "      <th>genre</th>\n",
       "      <th>na_sales</th>\n",
       "      <th>eu_sales</th>\n",
       "      <th>jp_sales</th>\n",
       "      <th>other_sales</th>\n",
       "      <th>critic_score</th>\n",
       "      <th>user_score</th>\n",
       "      <th>rating</th>\n",
       "      <th>year</th>\n",
       "    </tr>\n",
       "  </thead>\n",
       "  <tbody>\n",
       "    <tr>\n",
       "      <td>0</td>\n",
       "      <td>Wii Sports</td>\n",
       "      <td>Wii</td>\n",
       "      <td>Sports</td>\n",
       "      <td>41.36</td>\n",
       "      <td>28.96</td>\n",
       "      <td>3.77</td>\n",
       "      <td>8.45</td>\n",
       "      <td>76.0</td>\n",
       "      <td>8</td>\n",
       "      <td>E</td>\n",
       "      <td>2006</td>\n",
       "    </tr>\n",
       "    <tr>\n",
       "      <td>1</td>\n",
       "      <td>Super Mario Bros.</td>\n",
       "      <td>NES</td>\n",
       "      <td>Platform</td>\n",
       "      <td>29.08</td>\n",
       "      <td>3.58</td>\n",
       "      <td>6.81</td>\n",
       "      <td>0.77</td>\n",
       "      <td>NaN</td>\n",
       "      <td>-1</td>\n",
       "      <td>NaN</td>\n",
       "      <td>1985</td>\n",
       "    </tr>\n",
       "    <tr>\n",
       "      <td>2</td>\n",
       "      <td>Mario Kart Wii</td>\n",
       "      <td>Wii</td>\n",
       "      <td>Racing</td>\n",
       "      <td>15.68</td>\n",
       "      <td>12.76</td>\n",
       "      <td>3.79</td>\n",
       "      <td>3.29</td>\n",
       "      <td>82.0</td>\n",
       "      <td>8.3</td>\n",
       "      <td>E</td>\n",
       "      <td>2008</td>\n",
       "    </tr>\n",
       "    <tr>\n",
       "      <td>3</td>\n",
       "      <td>Wii Sports Resort</td>\n",
       "      <td>Wii</td>\n",
       "      <td>Sports</td>\n",
       "      <td>15.61</td>\n",
       "      <td>10.93</td>\n",
       "      <td>3.28</td>\n",
       "      <td>2.95</td>\n",
       "      <td>80.0</td>\n",
       "      <td>8</td>\n",
       "      <td>E</td>\n",
       "      <td>2009</td>\n",
       "    </tr>\n",
       "    <tr>\n",
       "      <td>4</td>\n",
       "      <td>Pokemon Red/Pokemon Blue</td>\n",
       "      <td>GB</td>\n",
       "      <td>Role-Playing</td>\n",
       "      <td>11.27</td>\n",
       "      <td>8.89</td>\n",
       "      <td>10.22</td>\n",
       "      <td>1.00</td>\n",
       "      <td>NaN</td>\n",
       "      <td>-1</td>\n",
       "      <td>NaN</td>\n",
       "      <td>1996</td>\n",
       "    </tr>\n",
       "    <tr>\n",
       "      <td>...</td>\n",
       "      <td>...</td>\n",
       "      <td>...</td>\n",
       "      <td>...</td>\n",
       "      <td>...</td>\n",
       "      <td>...</td>\n",
       "      <td>...</td>\n",
       "      <td>...</td>\n",
       "      <td>...</td>\n",
       "      <td>...</td>\n",
       "      <td>...</td>\n",
       "      <td>...</td>\n",
       "    </tr>\n",
       "    <tr>\n",
       "      <td>16710</td>\n",
       "      <td>Samurai Warriors: Sanada Maru</td>\n",
       "      <td>PS3</td>\n",
       "      <td>Action</td>\n",
       "      <td>0.00</td>\n",
       "      <td>0.00</td>\n",
       "      <td>0.01</td>\n",
       "      <td>0.00</td>\n",
       "      <td>NaN</td>\n",
       "      <td>-1</td>\n",
       "      <td>NaN</td>\n",
       "      <td>2016</td>\n",
       "    </tr>\n",
       "    <tr>\n",
       "      <td>16711</td>\n",
       "      <td>LMA Manager 2007</td>\n",
       "      <td>X360</td>\n",
       "      <td>Sports</td>\n",
       "      <td>0.00</td>\n",
       "      <td>0.01</td>\n",
       "      <td>0.00</td>\n",
       "      <td>0.00</td>\n",
       "      <td>NaN</td>\n",
       "      <td>-1</td>\n",
       "      <td>NaN</td>\n",
       "      <td>2006</td>\n",
       "    </tr>\n",
       "    <tr>\n",
       "      <td>16712</td>\n",
       "      <td>Haitaka no Psychedelica</td>\n",
       "      <td>PSV</td>\n",
       "      <td>Adventure</td>\n",
       "      <td>0.00</td>\n",
       "      <td>0.00</td>\n",
       "      <td>0.01</td>\n",
       "      <td>0.00</td>\n",
       "      <td>NaN</td>\n",
       "      <td>-1</td>\n",
       "      <td>NaN</td>\n",
       "      <td>2016</td>\n",
       "    </tr>\n",
       "    <tr>\n",
       "      <td>16713</td>\n",
       "      <td>Spirits &amp; Spells</td>\n",
       "      <td>GBA</td>\n",
       "      <td>Platform</td>\n",
       "      <td>0.01</td>\n",
       "      <td>0.00</td>\n",
       "      <td>0.00</td>\n",
       "      <td>0.00</td>\n",
       "      <td>NaN</td>\n",
       "      <td>-1</td>\n",
       "      <td>NaN</td>\n",
       "      <td>2003</td>\n",
       "    </tr>\n",
       "    <tr>\n",
       "      <td>16714</td>\n",
       "      <td>Winning Post 8 2016</td>\n",
       "      <td>PSV</td>\n",
       "      <td>Simulation</td>\n",
       "      <td>0.00</td>\n",
       "      <td>0.00</td>\n",
       "      <td>0.01</td>\n",
       "      <td>0.00</td>\n",
       "      <td>NaN</td>\n",
       "      <td>-1</td>\n",
       "      <td>NaN</td>\n",
       "      <td>2016</td>\n",
       "    </tr>\n",
       "  </tbody>\n",
       "</table>\n",
       "<p>16715 rows × 11 columns</p>\n",
       "</div>"
      ],
      "text/plain": [
       "                                name platform         genre  na_sales  \\\n",
       "0                         Wii Sports      Wii        Sports     41.36   \n",
       "1                  Super Mario Bros.      NES      Platform     29.08   \n",
       "2                     Mario Kart Wii      Wii        Racing     15.68   \n",
       "3                  Wii Sports Resort      Wii        Sports     15.61   \n",
       "4           Pokemon Red/Pokemon Blue       GB  Role-Playing     11.27   \n",
       "...                              ...      ...           ...       ...   \n",
       "16710  Samurai Warriors: Sanada Maru      PS3        Action      0.00   \n",
       "16711               LMA Manager 2007     X360        Sports      0.00   \n",
       "16712        Haitaka no Psychedelica      PSV     Adventure      0.00   \n",
       "16713               Spirits & Spells      GBA      Platform      0.01   \n",
       "16714            Winning Post 8 2016      PSV    Simulation      0.00   \n",
       "\n",
       "       eu_sales  jp_sales  other_sales  critic_score user_score rating  year  \n",
       "0         28.96      3.77         8.45          76.0          8      E  2006  \n",
       "1          3.58      6.81         0.77           NaN         -1    NaN  1985  \n",
       "2         12.76      3.79         3.29          82.0        8.3      E  2008  \n",
       "3         10.93      3.28         2.95          80.0          8      E  2009  \n",
       "4          8.89     10.22         1.00           NaN         -1    NaN  1996  \n",
       "...         ...       ...          ...           ...        ...    ...   ...  \n",
       "16710      0.00      0.01         0.00           NaN         -1    NaN  2016  \n",
       "16711      0.01      0.00         0.00           NaN         -1    NaN  2006  \n",
       "16712      0.00      0.01         0.00           NaN         -1    NaN  2016  \n",
       "16713      0.00      0.00         0.00           NaN         -1    NaN  2003  \n",
       "16714      0.00      0.01         0.00           NaN         -1    NaN  2016  \n",
       "\n",
       "[16715 rows x 11 columns]"
      ]
     },
     "execution_count": 11,
     "metadata": {},
     "output_type": "execute_result"
    }
   ],
   "source": [
    "df"
   ]
  },
  {
   "cell_type": "code",
   "execution_count": 12,
   "metadata": {},
   "outputs": [
    {
     "data": {
      "text/html": [
       "<div>\n",
       "<style scoped>\n",
       "    .dataframe tbody tr th:only-of-type {\n",
       "        vertical-align: middle;\n",
       "    }\n",
       "\n",
       "    .dataframe tbody tr th {\n",
       "        vertical-align: top;\n",
       "    }\n",
       "\n",
       "    .dataframe thead th {\n",
       "        text-align: right;\n",
       "    }\n",
       "</style>\n",
       "<table border=\"1\" class=\"dataframe\">\n",
       "  <thead>\n",
       "    <tr style=\"text-align: right;\">\n",
       "      <th></th>\n",
       "      <th>name</th>\n",
       "      <th>platform</th>\n",
       "      <th>genre</th>\n",
       "      <th>na_sales</th>\n",
       "      <th>eu_sales</th>\n",
       "      <th>jp_sales</th>\n",
       "      <th>other_sales</th>\n",
       "      <th>critic_score</th>\n",
       "      <th>user_score</th>\n",
       "      <th>rating</th>\n",
       "      <th>year</th>\n",
       "    </tr>\n",
       "  </thead>\n",
       "  <tbody>\n",
       "    <tr>\n",
       "      <td>659</td>\n",
       "      <td>NaN</td>\n",
       "      <td>GEN</td>\n",
       "      <td>NaN</td>\n",
       "      <td>1.78</td>\n",
       "      <td>0.53</td>\n",
       "      <td>0.00</td>\n",
       "      <td>0.08</td>\n",
       "      <td>NaN</td>\n",
       "      <td>-1</td>\n",
       "      <td>NaN</td>\n",
       "      <td>1993</td>\n",
       "    </tr>\n",
       "    <tr>\n",
       "      <td>14244</td>\n",
       "      <td>NaN</td>\n",
       "      <td>GEN</td>\n",
       "      <td>NaN</td>\n",
       "      <td>0.00</td>\n",
       "      <td>0.00</td>\n",
       "      <td>0.03</td>\n",
       "      <td>0.00</td>\n",
       "      <td>NaN</td>\n",
       "      <td>-1</td>\n",
       "      <td>NaN</td>\n",
       "      <td>1993</td>\n",
       "    </tr>\n",
       "  </tbody>\n",
       "</table>\n",
       "</div>"
      ],
      "text/plain": [
       "      name platform genre  na_sales  eu_sales  jp_sales  other_sales  \\\n",
       "659    NaN      GEN   NaN      1.78      0.53      0.00         0.08   \n",
       "14244  NaN      GEN   NaN      0.00      0.00      0.03         0.00   \n",
       "\n",
       "       critic_score user_score rating  year  \n",
       "659             NaN         -1    NaN  1993  \n",
       "14244           NaN         -1    NaN  1993  "
      ]
     },
     "execution_count": 12,
     "metadata": {},
     "output_type": "execute_result"
    }
   ],
   "source": [
    "# ПОИСК СТРОК С ПРОПУКАМИ\n",
    "df[pd.isnull(df['genre'])] # Нашли 2 строки с пропущенными значениями по названию и жанру. Удаляем\n",
    "\n",
    "#Считаем процентное соотношение пропусков\n",
    "#df.isnull().sum().sort_values(ascending = False) / df.shape[0] * 100"
   ]
  },
  {
   "cell_type": "code",
   "execution_count": 13,
   "metadata": {},
   "outputs": [
    {
     "data": {
      "text/plain": [
       "name               0\n",
       "platform           0\n",
       "genre              0\n",
       "na_sales           0\n",
       "eu_sales           0\n",
       "jp_sales           0\n",
       "other_sales        0\n",
       "critic_score    8576\n",
       "user_score         0\n",
       "rating          6764\n",
       "year               0\n",
       "dtype: int64"
      ]
     },
     "execution_count": 13,
     "metadata": {},
     "output_type": "execute_result"
    }
   ],
   "source": [
    "# Удалим пропуски из столбцов (name и genre) они в одних и тех же строчках.НА иследование не повлияют\n",
    "df.dropna(subset = ['name'], inplace = True)\n",
    "df.isna().sum()"
   ]
  },
  {
   "cell_type": "markdown",
   "metadata": {},
   "source": [
    "В **user_score** мы уже заполнили пропуски нетипичным значением -1. Сделаем то же самое с пропусками в **critic_score и rating**, а затем будем учитывать это в дальнейшей работе. Это поможет нам сохранить данные и не повлиять на результаты исследования."
   ]
  },
  {
   "cell_type": "code",
   "execution_count": 14,
   "metadata": {},
   "outputs": [],
   "source": [
    "df['critic_score'] = df['critic_score'].fillna(-1)\n",
    "df['rating'] = df['rating'].fillna(-1)"
   ]
  },
  {
   "cell_type": "code",
   "execution_count": 15,
   "metadata": {},
   "outputs": [],
   "source": [
    "#наблюдения со значением tbd в столбце user_score заменим на -1. Так эти значения не помешают при дальнейших рассчетах\n",
    "df['user_score'] = df['user_score'].replace('tbd', -1)\n",
    "df['user_score'] = pd.to_numeric(df['user_score'])"
   ]
  },
  {
   "cell_type": "code",
   "execution_count": 16,
   "metadata": {},
   "outputs": [
    {
     "name": "stdout",
     "output_type": "stream",
     "text": [
      "<class 'pandas.core.frame.DataFrame'>\n",
      "Int64Index: 16713 entries, 0 to 16714\n",
      "Data columns (total 11 columns):\n",
      "name            16713 non-null object\n",
      "platform        16713 non-null object\n",
      "genre           16713 non-null object\n",
      "na_sales        16713 non-null float64\n",
      "eu_sales        16713 non-null float64\n",
      "jp_sales        16713 non-null float64\n",
      "other_sales     16713 non-null float64\n",
      "critic_score    16713 non-null float64\n",
      "user_score      16713 non-null float64\n",
      "rating          16713 non-null object\n",
      "year            16713 non-null int64\n",
      "dtypes: float64(6), int64(1), object(4)\n",
      "memory usage: 1.5+ MB\n"
     ]
    }
   ],
   "source": [
    "df.info()"
   ]
  },
  {
   "cell_type": "code",
   "execution_count": 17,
   "metadata": {},
   "outputs": [
    {
     "data": {
      "text/html": [
       "<div>\n",
       "<style scoped>\n",
       "    .dataframe tbody tr th:only-of-type {\n",
       "        vertical-align: middle;\n",
       "    }\n",
       "\n",
       "    .dataframe tbody tr th {\n",
       "        vertical-align: top;\n",
       "    }\n",
       "\n",
       "    .dataframe thead th {\n",
       "        text-align: right;\n",
       "    }\n",
       "</style>\n",
       "<table border=\"1\" class=\"dataframe\">\n",
       "  <thead>\n",
       "    <tr style=\"text-align: right;\">\n",
       "      <th></th>\n",
       "      <th>name</th>\n",
       "      <th>platform</th>\n",
       "      <th>genre</th>\n",
       "      <th>na_sales</th>\n",
       "      <th>eu_sales</th>\n",
       "      <th>jp_sales</th>\n",
       "      <th>other_sales</th>\n",
       "      <th>critic_score</th>\n",
       "      <th>user_score</th>\n",
       "      <th>rating</th>\n",
       "      <th>year</th>\n",
       "      <th>total_sales</th>\n",
       "    </tr>\n",
       "  </thead>\n",
       "  <tbody>\n",
       "    <tr>\n",
       "      <td>0</td>\n",
       "      <td>Wii Sports</td>\n",
       "      <td>Wii</td>\n",
       "      <td>Sports</td>\n",
       "      <td>41.36</td>\n",
       "      <td>28.96</td>\n",
       "      <td>3.77</td>\n",
       "      <td>8.45</td>\n",
       "      <td>76.0</td>\n",
       "      <td>8.0</td>\n",
       "      <td>E</td>\n",
       "      <td>2006</td>\n",
       "      <td>82.54</td>\n",
       "    </tr>\n",
       "    <tr>\n",
       "      <td>1</td>\n",
       "      <td>Super Mario Bros.</td>\n",
       "      <td>NES</td>\n",
       "      <td>Platform</td>\n",
       "      <td>29.08</td>\n",
       "      <td>3.58</td>\n",
       "      <td>6.81</td>\n",
       "      <td>0.77</td>\n",
       "      <td>-1.0</td>\n",
       "      <td>-1.0</td>\n",
       "      <td>-1</td>\n",
       "      <td>1985</td>\n",
       "      <td>40.24</td>\n",
       "    </tr>\n",
       "    <tr>\n",
       "      <td>2</td>\n",
       "      <td>Mario Kart Wii</td>\n",
       "      <td>Wii</td>\n",
       "      <td>Racing</td>\n",
       "      <td>15.68</td>\n",
       "      <td>12.76</td>\n",
       "      <td>3.79</td>\n",
       "      <td>3.29</td>\n",
       "      <td>82.0</td>\n",
       "      <td>8.3</td>\n",
       "      <td>E</td>\n",
       "      <td>2008</td>\n",
       "      <td>35.52</td>\n",
       "    </tr>\n",
       "    <tr>\n",
       "      <td>3</td>\n",
       "      <td>Wii Sports Resort</td>\n",
       "      <td>Wii</td>\n",
       "      <td>Sports</td>\n",
       "      <td>15.61</td>\n",
       "      <td>10.93</td>\n",
       "      <td>3.28</td>\n",
       "      <td>2.95</td>\n",
       "      <td>80.0</td>\n",
       "      <td>8.0</td>\n",
       "      <td>E</td>\n",
       "      <td>2009</td>\n",
       "      <td>32.77</td>\n",
       "    </tr>\n",
       "    <tr>\n",
       "      <td>4</td>\n",
       "      <td>Pokemon Red/Pokemon Blue</td>\n",
       "      <td>GB</td>\n",
       "      <td>Role-Playing</td>\n",
       "      <td>11.27</td>\n",
       "      <td>8.89</td>\n",
       "      <td>10.22</td>\n",
       "      <td>1.00</td>\n",
       "      <td>-1.0</td>\n",
       "      <td>-1.0</td>\n",
       "      <td>-1</td>\n",
       "      <td>1996</td>\n",
       "      <td>31.38</td>\n",
       "    </tr>\n",
       "  </tbody>\n",
       "</table>\n",
       "</div>"
      ],
      "text/plain": [
       "                       name platform         genre  na_sales  eu_sales  \\\n",
       "0                Wii Sports      Wii        Sports     41.36     28.96   \n",
       "1         Super Mario Bros.      NES      Platform     29.08      3.58   \n",
       "2            Mario Kart Wii      Wii        Racing     15.68     12.76   \n",
       "3         Wii Sports Resort      Wii        Sports     15.61     10.93   \n",
       "4  Pokemon Red/Pokemon Blue       GB  Role-Playing     11.27      8.89   \n",
       "\n",
       "   jp_sales  other_sales  critic_score  user_score rating  year  total_sales  \n",
       "0      3.77         8.45          76.0         8.0      E  2006        82.54  \n",
       "1      6.81         0.77          -1.0        -1.0     -1  1985        40.24  \n",
       "2      3.79         3.29          82.0         8.3      E  2008        35.52  \n",
       "3      3.28         2.95          80.0         8.0      E  2009        32.77  \n",
       "4     10.22         1.00          -1.0        -1.0     -1  1996        31.38  "
      ]
     },
     "execution_count": 17,
     "metadata": {},
     "output_type": "execute_result"
    }
   ],
   "source": [
    "# Посчитайте количество продаж во всех регионах и запишите в отдельный столбец\n",
    "df['total_sales'] = df['na_sales'] + df['eu_sales'] + df['jp_sales'] + df['other_sales']\n",
    "df.head()"
   ]
  },
  {
   "cell_type": "markdown",
   "metadata": {},
   "source": [
    "**Вывод:**\n",
    "\n",
    "Создали столбец с годом выпуска игры.Избавились о пропущенных значений в столбцах (name и genre). В столбце user_score, заменили tbd на nan. Так как значение не определено.Посчитали тотал доход от игр.\n",
    "\n",
    "В столбцах critic_score, user_score,rating NAN заменили на -1, для дальнейшего просчета данных. -1 необычное значение будем это учитывать."
   ]
  },
  {
   "cell_type": "markdown",
   "metadata": {},
   "source": [
    "---"
   ]
  },
  {
   "cell_type": "markdown",
   "metadata": {},
   "source": [
    "# Шаг 3. Проведите исследовательский анализ данных\n",
    "\n",
    "- Посмотрите, сколько игр выпускалось в разные годы. Важны ли данные за все периоды?\n",
    "- Посмотрите, как менялись продажи по платформам. Выберите платформы с наибольшими суммарными продажами и постройте распределение по годам. За какой характерный срок появляются новые и исчезают старые платформы?\n",
    "- Возьмите данные за соответствующий актуальный период. Актуальный период определите самостоятельно в результате исследования предыдущих вопросов. Основной фактор — эти данные помогут построить прогноз на 2017 год.\n",
    "- Не учитывайте в работе данные за предыдущие годы.\n",
    "- Какие платформы лидируют по продажам, растут или падают? Выберите несколько потенциально прибыльных платформ.\n",
    "- Постройте график «ящик с усами» по глобальным продажам игр в разбивке по платформам. Опишите результат.\n",
    "- Посмотрите, как влияют на продажи внутри одной популярной платформы отзывы пользователей и критиков. Постройте диаграмму рассеяния и посчитайте корреляцию между отзывами и продажами. Сформулируйте выводы.\n",
    "- Соотнесите выводы с продажами игр на других платформах.\n",
    "- Посмотрите на общее распределение игр по жанрам. Что можно сказать о самых прибыльных жанрах? Выделяются ли жанры с высокими и низкими продажами?\n"
   ]
  },
  {
   "cell_type": "code",
   "execution_count": 18,
   "metadata": {},
   "outputs": [
    {
     "data": {
      "image/png": "[encoded data removed]",
      "text/plain": [
       "<Figure size 432x432 with 1 Axes>"
      ]
     },
     "metadata": {
      "needs_background": "light"
     },
     "output_type": "display_data"
    }
   ],
   "source": [
    "# выведем график с показанием от 2000 года\n",
    "game_year = df.query('year >= 2000').groupby('year')['name'].count()\n",
    "game_year.plot(figsize=(6, 6), title='Кол-во выпущенных игр по годам');"
   ]
  },
  {
   "cell_type": "code",
   "execution_count": 19,
   "metadata": {},
   "outputs": [
    {
     "data": {
      "image/png": "[encoded data removed]",
      "text/plain": [
       "<Figure size 432x432 with 1 Axes>"
      ]
     },
     "metadata": {
      "needs_background": "light"
     },
     "output_type": "display_data"
    }
   ],
   "source": [
    "# выведем график с показанием от 1980 года\n",
    "game_year = df.query('year >= 1980').groupby('year')['name'].count()\n",
    "game_year.plot(figsize=(6, 6), title='Кол-во выпущенных игр по годам');"
   ]
  },
  {
   "cell_type": "markdown",
   "metadata": {},
   "source": [
    "По граффикам видно что с 1995 года, пошел  резких подьем выпуска игр.Пик выпуска приходится на 2008 год. \n",
    "P.S. Верните ме мой 2008"
   ]
  },
  {
   "cell_type": "code",
   "execution_count": 20,
   "metadata": {},
   "outputs": [
    {
     "data": {
      "text/html": [
       "<div>\n",
       "<style scoped>\n",
       "    .dataframe tbody tr th:only-of-type {\n",
       "        vertical-align: middle;\n",
       "    }\n",
       "\n",
       "    .dataframe tbody tr th {\n",
       "        vertical-align: top;\n",
       "    }\n",
       "\n",
       "    .dataframe thead th {\n",
       "        text-align: right;\n",
       "    }\n",
       "</style>\n",
       "<table border=\"1\" class=\"dataframe\">\n",
       "  <thead>\n",
       "    <tr style=\"text-align: right;\">\n",
       "      <th>year</th>\n",
       "      <th>2001</th>\n",
       "      <th>2002</th>\n",
       "      <th>2003</th>\n",
       "      <th>2004</th>\n",
       "      <th>2005</th>\n",
       "      <th>2006</th>\n",
       "      <th>2007</th>\n",
       "      <th>2008</th>\n",
       "      <th>2009</th>\n",
       "      <th>2010</th>\n",
       "      <th>2011</th>\n",
       "      <th>2012</th>\n",
       "      <th>2013</th>\n",
       "      <th>2014</th>\n",
       "      <th>2015</th>\n",
       "      <th>2016</th>\n",
       "    </tr>\n",
       "    <tr>\n",
       "      <th>platform</th>\n",
       "      <th></th>\n",
       "      <th></th>\n",
       "      <th></th>\n",
       "      <th></th>\n",
       "      <th></th>\n",
       "      <th></th>\n",
       "      <th></th>\n",
       "      <th></th>\n",
       "      <th></th>\n",
       "      <th></th>\n",
       "      <th></th>\n",
       "      <th></th>\n",
       "      <th></th>\n",
       "      <th></th>\n",
       "      <th></th>\n",
       "      <th></th>\n",
       "    </tr>\n",
       "  </thead>\n",
       "  <tbody>\n",
       "    <tr>\n",
       "      <td>3DS</td>\n",
       "      <td>-</td>\n",
       "      <td>-</td>\n",
       "      <td>-</td>\n",
       "      <td>-</td>\n",
       "      <td>-</td>\n",
       "      <td>-</td>\n",
       "      <td>-</td>\n",
       "      <td>-</td>\n",
       "      <td>-</td>\n",
       "      <td>-</td>\n",
       "      <td>116</td>\n",
       "      <td>93</td>\n",
       "      <td>91</td>\n",
       "      <td>80</td>\n",
       "      <td>86</td>\n",
       "      <td>46</td>\n",
       "    </tr>\n",
       "    <tr>\n",
       "      <td>DC</td>\n",
       "      <td>8</td>\n",
       "      <td>1</td>\n",
       "      <td>-</td>\n",
       "      <td>-</td>\n",
       "      <td>-</td>\n",
       "      <td>-</td>\n",
       "      <td>1</td>\n",
       "      <td>1</td>\n",
       "      <td>-</td>\n",
       "      <td>-</td>\n",
       "      <td>-</td>\n",
       "      <td>-</td>\n",
       "      <td>-</td>\n",
       "      <td>-</td>\n",
       "      <td>-</td>\n",
       "      <td>-</td>\n",
       "    </tr>\n",
       "    <tr>\n",
       "      <td>DS</td>\n",
       "      <td>-</td>\n",
       "      <td>-</td>\n",
       "      <td>-</td>\n",
       "      <td>23</td>\n",
       "      <td>118</td>\n",
       "      <td>201</td>\n",
       "      <td>376</td>\n",
       "      <td>492</td>\n",
       "      <td>403</td>\n",
       "      <td>323</td>\n",
       "      <td>153</td>\n",
       "      <td>23</td>\n",
       "      <td>8</td>\n",
       "      <td>-</td>\n",
       "      <td>-</td>\n",
       "      <td>-</td>\n",
       "    </tr>\n",
       "    <tr>\n",
       "      <td>GB</td>\n",
       "      <td>10</td>\n",
       "      <td>-</td>\n",
       "      <td>-</td>\n",
       "      <td>-</td>\n",
       "      <td>-</td>\n",
       "      <td>-</td>\n",
       "      <td>-</td>\n",
       "      <td>-</td>\n",
       "      <td>-</td>\n",
       "      <td>-</td>\n",
       "      <td>-</td>\n",
       "      <td>-</td>\n",
       "      <td>-</td>\n",
       "      <td>-</td>\n",
       "      <td>-</td>\n",
       "      <td>-</td>\n",
       "    </tr>\n",
       "    <tr>\n",
       "      <td>GBA</td>\n",
       "      <td>107</td>\n",
       "      <td>198</td>\n",
       "      <td>150</td>\n",
       "      <td>175</td>\n",
       "      <td>135</td>\n",
       "      <td>39</td>\n",
       "      <td>6</td>\n",
       "      <td>-</td>\n",
       "      <td>-</td>\n",
       "      <td>-</td>\n",
       "      <td>-</td>\n",
       "      <td>-</td>\n",
       "      <td>-</td>\n",
       "      <td>-</td>\n",
       "      <td>-</td>\n",
       "      <td>-</td>\n",
       "    </tr>\n",
       "    <tr>\n",
       "      <td>GC</td>\n",
       "      <td>22</td>\n",
       "      <td>152</td>\n",
       "      <td>144</td>\n",
       "      <td>83</td>\n",
       "      <td>97</td>\n",
       "      <td>40</td>\n",
       "      <td>4</td>\n",
       "      <td>-</td>\n",
       "      <td>-</td>\n",
       "      <td>-</td>\n",
       "      <td>-</td>\n",
       "      <td>-</td>\n",
       "      <td>-</td>\n",
       "      <td>-</td>\n",
       "      <td>-</td>\n",
       "      <td>-</td>\n",
       "    </tr>\n",
       "    <tr>\n",
       "      <td>N64</td>\n",
       "      <td>9</td>\n",
       "      <td>1</td>\n",
       "      <td>-</td>\n",
       "      <td>-</td>\n",
       "      <td>-</td>\n",
       "      <td>-</td>\n",
       "      <td>-</td>\n",
       "      <td>-</td>\n",
       "      <td>-</td>\n",
       "      <td>-</td>\n",
       "      <td>-</td>\n",
       "      <td>-</td>\n",
       "      <td>-</td>\n",
       "      <td>-</td>\n",
       "      <td>-</td>\n",
       "      <td>-</td>\n",
       "    </tr>\n",
       "    <tr>\n",
       "      <td>PC</td>\n",
       "      <td>15</td>\n",
       "      <td>19</td>\n",
       "      <td>33</td>\n",
       "      <td>30</td>\n",
       "      <td>37</td>\n",
       "      <td>52</td>\n",
       "      <td>62</td>\n",
       "      <td>76</td>\n",
       "      <td>107</td>\n",
       "      <td>90</td>\n",
       "      <td>139</td>\n",
       "      <td>61</td>\n",
       "      <td>38</td>\n",
       "      <td>47</td>\n",
       "      <td>50</td>\n",
       "      <td>54</td>\n",
       "    </tr>\n",
       "    <tr>\n",
       "      <td>PS</td>\n",
       "      <td>91</td>\n",
       "      <td>20</td>\n",
       "      <td>3</td>\n",
       "      <td>-</td>\n",
       "      <td>-</td>\n",
       "      <td>-</td>\n",
       "      <td>-</td>\n",
       "      <td>-</td>\n",
       "      <td>-</td>\n",
       "      <td>-</td>\n",
       "      <td>-</td>\n",
       "      <td>-</td>\n",
       "      <td>-</td>\n",
       "      <td>-</td>\n",
       "      <td>-</td>\n",
       "      <td>-</td>\n",
       "    </tr>\n",
       "    <tr>\n",
       "      <td>PS2</td>\n",
       "      <td>185</td>\n",
       "      <td>280</td>\n",
       "      <td>256</td>\n",
       "      <td>259</td>\n",
       "      <td>260</td>\n",
       "      <td>259</td>\n",
       "      <td>214</td>\n",
       "      <td>191</td>\n",
       "      <td>96</td>\n",
       "      <td>38</td>\n",
       "      <td>7</td>\n",
       "      <td>-</td>\n",
       "      <td>-</td>\n",
       "      <td>-</td>\n",
       "      <td>-</td>\n",
       "      <td>-</td>\n",
       "    </tr>\n",
       "    <tr>\n",
       "      <td>PS3</td>\n",
       "      <td>-</td>\n",
       "      <td>-</td>\n",
       "      <td>-</td>\n",
       "      <td>-</td>\n",
       "      <td>-</td>\n",
       "      <td>27</td>\n",
       "      <td>90</td>\n",
       "      <td>138</td>\n",
       "      <td>162</td>\n",
       "      <td>181</td>\n",
       "      <td>215</td>\n",
       "      <td>148</td>\n",
       "      <td>126</td>\n",
       "      <td>108</td>\n",
       "      <td>73</td>\n",
       "      <td>38</td>\n",
       "    </tr>\n",
       "    <tr>\n",
       "      <td>PS4</td>\n",
       "      <td>-</td>\n",
       "      <td>-</td>\n",
       "      <td>-</td>\n",
       "      <td>-</td>\n",
       "      <td>-</td>\n",
       "      <td>-</td>\n",
       "      <td>-</td>\n",
       "      <td>-</td>\n",
       "      <td>-</td>\n",
       "      <td>-</td>\n",
       "      <td>-</td>\n",
       "      <td>-</td>\n",
       "      <td>16</td>\n",
       "      <td>75</td>\n",
       "      <td>137</td>\n",
       "      <td>164</td>\n",
       "    </tr>\n",
       "    <tr>\n",
       "      <td>PSP</td>\n",
       "      <td>-</td>\n",
       "      <td>-</td>\n",
       "      <td>-</td>\n",
       "      <td>15</td>\n",
       "      <td>95</td>\n",
       "      <td>189</td>\n",
       "      <td>133</td>\n",
       "      <td>100</td>\n",
       "      <td>161</td>\n",
       "      <td>188</td>\n",
       "      <td>139</td>\n",
       "      <td>106</td>\n",
       "      <td>54</td>\n",
       "      <td>10</td>\n",
       "      <td>3</td>\n",
       "      <td>-</td>\n",
       "    </tr>\n",
       "    <tr>\n",
       "      <td>PSV</td>\n",
       "      <td>-</td>\n",
       "      <td>-</td>\n",
       "      <td>-</td>\n",
       "      <td>-</td>\n",
       "      <td>-</td>\n",
       "      <td>-</td>\n",
       "      <td>-</td>\n",
       "      <td>-</td>\n",
       "      <td>-</td>\n",
       "      <td>-</td>\n",
       "      <td>18</td>\n",
       "      <td>53</td>\n",
       "      <td>63</td>\n",
       "      <td>100</td>\n",
       "      <td>110</td>\n",
       "      <td>85</td>\n",
       "    </tr>\n",
       "    <tr>\n",
       "      <td>WS</td>\n",
       "      <td>2</td>\n",
       "      <td>-</td>\n",
       "      <td>-</td>\n",
       "      <td>-</td>\n",
       "      <td>-</td>\n",
       "      <td>-</td>\n",
       "      <td>-</td>\n",
       "      <td>-</td>\n",
       "      <td>-</td>\n",
       "      <td>-</td>\n",
       "      <td>-</td>\n",
       "      <td>-</td>\n",
       "      <td>-</td>\n",
       "      <td>-</td>\n",
       "      <td>-</td>\n",
       "      <td>-</td>\n",
       "    </tr>\n",
       "    <tr>\n",
       "      <td>Wii</td>\n",
       "      <td>-</td>\n",
       "      <td>-</td>\n",
       "      <td>-</td>\n",
       "      <td>-</td>\n",
       "      <td>-</td>\n",
       "      <td>44</td>\n",
       "      <td>185</td>\n",
       "      <td>282</td>\n",
       "      <td>325</td>\n",
       "      <td>253</td>\n",
       "      <td>143</td>\n",
       "      <td>31</td>\n",
       "      <td>12</td>\n",
       "      <td>6</td>\n",
       "      <td>4</td>\n",
       "      <td>1</td>\n",
       "    </tr>\n",
       "    <tr>\n",
       "      <td>WiiU</td>\n",
       "      <td>-</td>\n",
       "      <td>-</td>\n",
       "      <td>-</td>\n",
       "      <td>-</td>\n",
       "      <td>-</td>\n",
       "      <td>-</td>\n",
       "      <td>-</td>\n",
       "      <td>-</td>\n",
       "      <td>-</td>\n",
       "      <td>-</td>\n",
       "      <td>-</td>\n",
       "      <td>32</td>\n",
       "      <td>42</td>\n",
       "      <td>31</td>\n",
       "      <td>28</td>\n",
       "      <td>14</td>\n",
       "    </tr>\n",
       "    <tr>\n",
       "      <td>X360</td>\n",
       "      <td>-</td>\n",
       "      <td>-</td>\n",
       "      <td>-</td>\n",
       "      <td>-</td>\n",
       "      <td>18</td>\n",
       "      <td>93</td>\n",
       "      <td>123</td>\n",
       "      <td>146</td>\n",
       "      <td>172</td>\n",
       "      <td>182</td>\n",
       "      <td>206</td>\n",
       "      <td>106</td>\n",
       "      <td>75</td>\n",
       "      <td>63</td>\n",
       "      <td>35</td>\n",
       "      <td>13</td>\n",
       "    </tr>\n",
       "    <tr>\n",
       "      <td>XB</td>\n",
       "      <td>33</td>\n",
       "      <td>158</td>\n",
       "      <td>189</td>\n",
       "      <td>177</td>\n",
       "      <td>179</td>\n",
       "      <td>62</td>\n",
       "      <td>3</td>\n",
       "      <td>1</td>\n",
       "      <td>-</td>\n",
       "      <td>-</td>\n",
       "      <td>-</td>\n",
       "      <td>-</td>\n",
       "      <td>-</td>\n",
       "      <td>-</td>\n",
       "      <td>-</td>\n",
       "      <td>-</td>\n",
       "    </tr>\n",
       "    <tr>\n",
       "      <td>XOne</td>\n",
       "      <td>-</td>\n",
       "      <td>-</td>\n",
       "      <td>-</td>\n",
       "      <td>-</td>\n",
       "      <td>-</td>\n",
       "      <td>-</td>\n",
       "      <td>-</td>\n",
       "      <td>-</td>\n",
       "      <td>-</td>\n",
       "      <td>-</td>\n",
       "      <td>-</td>\n",
       "      <td>-</td>\n",
       "      <td>19</td>\n",
       "      <td>61</td>\n",
       "      <td>80</td>\n",
       "      <td>87</td>\n",
       "    </tr>\n",
       "  </tbody>\n",
       "</table>\n",
       "</div>"
      ],
      "text/plain": [
       "year     2001 2002 2003 2004 2005 2006 2007 2008 2009 2010 2011 2012 2013  \\\n",
       "platform                                                                    \n",
       "3DS         -    -    -    -    -    -    -    -    -    -  116   93   91   \n",
       "DC          8    1    -    -    -    -    1    1    -    -    -    -    -   \n",
       "DS          -    -    -   23  118  201  376  492  403  323  153   23    8   \n",
       "GB         10    -    -    -    -    -    -    -    -    -    -    -    -   \n",
       "GBA       107  198  150  175  135   39    6    -    -    -    -    -    -   \n",
       "GC         22  152  144   83   97   40    4    -    -    -    -    -    -   \n",
       "N64         9    1    -    -    -    -    -    -    -    -    -    -    -   \n",
       "PC         15   19   33   30   37   52   62   76  107   90  139   61   38   \n",
       "PS         91   20    3    -    -    -    -    -    -    -    -    -    -   \n",
       "PS2       185  280  256  259  260  259  214  191   96   38    7    -    -   \n",
       "PS3         -    -    -    -    -   27   90  138  162  181  215  148  126   \n",
       "PS4         -    -    -    -    -    -    -    -    -    -    -    -   16   \n",
       "PSP         -    -    -   15   95  189  133  100  161  188  139  106   54   \n",
       "PSV         -    -    -    -    -    -    -    -    -    -   18   53   63   \n",
       "WS          2    -    -    -    -    -    -    -    -    -    -    -    -   \n",
       "Wii         -    -    -    -    -   44  185  282  325  253  143   31   12   \n",
       "WiiU        -    -    -    -    -    -    -    -    -    -    -   32   42   \n",
       "X360        -    -    -    -   18   93  123  146  172  182  206  106   75   \n",
       "XB         33  158  189  177  179   62    3    1    -    -    -    -    -   \n",
       "XOne        -    -    -    -    -    -    -    -    -    -    -    -   19   \n",
       "\n",
       "year     2014 2015 2016  \n",
       "platform                 \n",
       "3DS        80   86   46  \n",
       "DC          -    -    -  \n",
       "DS          -    -    -  \n",
       "GB          -    -    -  \n",
       "GBA         -    -    -  \n",
       "GC          -    -    -  \n",
       "N64         -    -    -  \n",
       "PC         47   50   54  \n",
       "PS          -    -    -  \n",
       "PS2         -    -    -  \n",
       "PS3       108   73   38  \n",
       "PS4        75  137  164  \n",
       "PSP        10    3    -  \n",
       "PSV       100  110   85  \n",
       "WS          -    -    -  \n",
       "Wii         6    4    1  \n",
       "WiiU       31   28   14  \n",
       "X360       63   35   13  \n",
       "XB          -    -    -  \n",
       "XOne       61   80   87  "
      ]
     },
     "execution_count": 20,
     "metadata": {},
     "output_type": "execute_result"
    }
   ],
   "source": [
    "# Построим сводную таблицу и посмотрим как менялись продажи на приставках по годам\n",
    "df.query('year > 2000').pivot_table(index='platform', columns='year', values='name', aggfunc='count', fill_value='-')"
   ]
  },
  {
   "cell_type": "markdown",
   "metadata": {},
   "source": [
    "**Видно что имеем периоды когда поколение одних приставок заканчивается и на смену им приходят новые или обновленные версии.**"
   ]
  },
  {
   "cell_type": "markdown",
   "metadata": {},
   "source": [
    "Для дальнейшего исследования нам будет вполне достаточно последних 2 года. Оставим данные с 2015 года по 2016 включительно."
   ]
  },
  {
   "cell_type": "code",
   "execution_count": 21,
   "metadata": {},
   "outputs": [
    {
     "data": {
      "image/png": "[encoded data removed]",
      "text/plain": [
       "<Figure size 720x216 with 2 Axes>"
      ]
     },
     "metadata": {
      "needs_background": "light"
     },
     "output_type": "display_data"
    }
   ],
   "source": [
    "platform_sales_pivot = df.query('year >= 2012').pivot_table(index = 'year', columns = 'platform', \n",
    "                  values = 'total_sales', aggfunc = 'sum')\n",
    "plt.figure(figsize = (10, 3))\n",
    "sns.heatmap(platform_sales_pivot, annot = True, fmt='.4g', cmap = \"Blues\")\n",
    "plt.show()"
   ]
  },
  {
   "cell_type": "code",
   "execution_count": 22,
   "metadata": {},
   "outputs": [
    {
     "data": {
      "text/html": [
       "<div>\n",
       "<style scoped>\n",
       "    .dataframe tbody tr th:only-of-type {\n",
       "        vertical-align: middle;\n",
       "    }\n",
       "\n",
       "    .dataframe tbody tr th {\n",
       "        vertical-align: top;\n",
       "    }\n",
       "\n",
       "    .dataframe thead th {\n",
       "        text-align: right;\n",
       "    }\n",
       "</style>\n",
       "<table border=\"1\" class=\"dataframe\">\n",
       "  <thead>\n",
       "    <tr style=\"text-align: right;\">\n",
       "      <th></th>\n",
       "      <th>platform</th>\n",
       "      <th>total_sales</th>\n",
       "    </tr>\n",
       "  </thead>\n",
       "  <tbody>\n",
       "    <tr>\n",
       "      <td>0</td>\n",
       "      <td>PS4</td>\n",
       "      <td>188.15</td>\n",
       "    </tr>\n",
       "    <tr>\n",
       "      <td>1</td>\n",
       "      <td>XOne</td>\n",
       "      <td>86.29</td>\n",
       "    </tr>\n",
       "    <tr>\n",
       "      <td>2</td>\n",
       "      <td>3DS</td>\n",
       "      <td>42.92</td>\n",
       "    </tr>\n",
       "    <tr>\n",
       "      <td>3</td>\n",
       "      <td>WiiU</td>\n",
       "      <td>20.95</td>\n",
       "    </tr>\n",
       "    <tr>\n",
       "      <td>4</td>\n",
       "      <td>PS3</td>\n",
       "      <td>20.42</td>\n",
       "    </tr>\n",
       "    <tr>\n",
       "      <td>5</td>\n",
       "      <td>PC</td>\n",
       "      <td>13.77</td>\n",
       "    </tr>\n",
       "    <tr>\n",
       "      <td>6</td>\n",
       "      <td>X360</td>\n",
       "      <td>13.48</td>\n",
       "    </tr>\n",
       "    <tr>\n",
       "      <td>7</td>\n",
       "      <td>PSV</td>\n",
       "      <td>10.50</td>\n",
       "    </tr>\n",
       "    <tr>\n",
       "      <td>8</td>\n",
       "      <td>Wii</td>\n",
       "      <td>1.32</td>\n",
       "    </tr>\n",
       "    <tr>\n",
       "      <td>9</td>\n",
       "      <td>PSP</td>\n",
       "      <td>0.12</td>\n",
       "    </tr>\n",
       "  </tbody>\n",
       "</table>\n",
       "</div>"
      ],
      "text/plain": [
       "  platform  total_sales\n",
       "0      PS4       188.15\n",
       "1     XOne        86.29\n",
       "2      3DS        42.92\n",
       "3     WiiU        20.95\n",
       "4      PS3        20.42\n",
       "5       PC        13.77\n",
       "6     X360        13.48\n",
       "7      PSV        10.50\n",
       "8      Wii         1.32\n",
       "9      PSP         0.12"
      ]
     },
     "execution_count": 22,
     "metadata": {},
     "output_type": "execute_result"
    }
   ],
   "source": [
    "df_new = df.query('year >= 2015')\n",
    "#найдем платформы с наибольшими суммарными продажами за 2 года\n",
    "platform_sales = df_new.groupby('platform')['total_sales'].sum().sort_values(ascending=False).reset_index().head(10)\n",
    "platform_sales.head(10)"
   ]
  },
  {
   "cell_type": "markdown",
   "metadata": {},
   "source": [
    "**ТОП 3 платформы разделили (PS4,XOne,3DS)**"
   ]
  },
  {
   "cell_type": "code",
   "execution_count": 23,
   "metadata": {},
   "outputs": [
    {
     "data": {
      "text/plain": [
       "Text(0.5, 0, 'Выручка, млн дол.')"
      ]
     },
     "execution_count": 23,
     "metadata": {},
     "output_type": "execute_result"
    },
    {
     "data": {
      "image/png": "[encoded data removed]",
      "text/plain": [
       "<Figure size 432x288 with 1 Axes>"
      ]
     },
     "metadata": {
      "needs_background": "light"
     },
     "output_type": "display_data"
    }
   ],
   "source": [
    "# Строим ящик с усами\n",
    "#берем только те игры, общие продажи которых больше 1 млн долларов\n",
    "g = df_new.query('total_sales > 1')\n",
    "ax = sns.boxplot('total_sales', data= g);\n",
    "ax.set_title('Глобальные сборы по играм')\n",
    "ax.set_xlabel('Выручка, млн дол.')"
   ]
  },
  {
   "cell_type": "code",
   "execution_count": 24,
   "metadata": {},
   "outputs": [
    {
     "data": {
      "text/plain": [
       "Text(0.5, 0, 'Выручка, млн дол.')"
      ]
     },
     "execution_count": 24,
     "metadata": {},
     "output_type": "execute_result"
    },
    {
     "data": {
      "image/png": "[encoded data removed]",
      "text/plain": [
       "<Figure size 432x288 with 1 Axes>"
      ]
     },
     "metadata": {
      "needs_background": "light"
     },
     "output_type": "display_data"
    }
   ],
   "source": [
    "#Убираем выбросы находящиеся за cвыше 5 млн\n",
    "new_bp=df.query('total_sales > 1 and total_sales < 5')\n",
    "ax = sns.boxplot('total_sales', data= new_bp);\n",
    "ax.set_title('Глобальные сборы по играм')\n",
    "ax.set_xlabel('Выручка, млн дол.')"
   ]
  },
  {
   "cell_type": "markdown",
   "metadata": {},
   "source": [
    "Разница в продажах игр очень велика. Нормальные значения продаж не превышают 7-8 миллионов долларов, но при этом на графике очень много выбросов (больших значений), и есть даже такие игры, продажи которых принесли аж 80 млн долларов."
   ]
  },
  {
   "cell_type": "code",
   "execution_count": 25,
   "metadata": {},
   "outputs": [
    {
     "data": {
      "text/plain": [
       "Text(0.5, 0, 'Выручка, млн дол.')"
      ]
     },
     "execution_count": 25,
     "metadata": {},
     "output_type": "execute_result"
    },
    {
     "data": {
      "image/png": "[encoded data removed]",
      "text/plain": [
       "<Figure size 432x288 with 1 Axes>"
      ]
     },
     "metadata": {
      "needs_background": "light"
     },
     "output_type": "display_data"
    }
   ],
   "source": [
    "p = df_new.groupby('platform')['total_sales'].sum().reset_index()\n",
    "ax = sns.boxplot('total_sales', data=p)\n",
    "ax.set_title('Глобальные сборы по платформам')\n",
    "ax.set_xlabel('Выручка, млн дол.')"
   ]
  },
  {
   "cell_type": "code",
   "execution_count": 26,
   "metadata": {},
   "outputs": [
    {
     "data": {
      "text/plain": [
       "platform\n",
       "3DS     0.090\n",
       "PC      0.050\n",
       "PS3     0.060\n",
       "PS4     0.120\n",
       "PSP     0.020\n",
       "PSV     0.030\n",
       "Wii     0.150\n",
       "WiiU    0.215\n",
       "X360    0.110\n",
       "XOne    0.130\n",
       "Name: total_sales, dtype: float64"
      ]
     },
     "execution_count": 26,
     "metadata": {},
     "output_type": "execute_result"
    },
    {
     "data": {
      "image/png": "[encoded data removed]",
      "text/plain": [
       "<Figure size 1152x576 with 1 Axes>"
      ]
     },
     "metadata": {
      "needs_background": "light"
     },
     "output_type": "display_data"
    }
   ],
   "source": [
    "import warnings\n",
    "warnings.filterwarnings('ignore')\n",
    "new_qw=df_new.query('total_sales > 0.01 and total_sales < 1.25')\n",
    "new_qw.boxplot('total_sales', by='platform',figsize=(16, 8));\n",
    "#df_new.groupby('platform')['total_sales'].describe()\n",
    "df_new.groupby('platform')['total_sales'].median()"
   ]
  },
  {
   "cell_type": "markdown",
   "metadata": {},
   "source": [
    "Основная часть значений находится в промежутке 50 - 400, также видим хвост из больших значений, которые однако не влияют на медиану."
   ]
  },
  {
   "cell_type": "code",
   "execution_count": 27,
   "metadata": {},
   "outputs": [
    {
     "data": {
      "text/plain": [
       "Text(0, 0.5, '')"
      ]
     },
     "execution_count": 27,
     "metadata": {},
     "output_type": "execute_result"
    },
    {
     "data": {
      "image/png": "[encoded data removed]",
      "text/plain": [
       "<Figure size 648x648 with 1 Axes>"
      ]
     },
     "metadata": {},
     "output_type": "display_data"
    }
   ],
   "source": [
    "#посмотрим на среднюю выручку платформ по годам за выбранный период\n",
    "revenue_mean = df_new.groupby('platform')['total_sales'].mean()\n",
    "revenue_mean.plot(kind='pie', figsize=(9, 9), autopct='%1.0f%%', shadow=True, title='Доля выручки платформ за 2006-2016 гг.')\n",
    "ax = plt.gca()\n",
    "ax.set_ylabel('')"
   ]
  },
  {
   "cell_type": "markdown",
   "metadata": {},
   "source": [
    "За выбранный период есть несколько лидеров по средним продажам - PS4 (эту платформу мы уже отметили ранее), XOne, Wii и 3DS."
   ]
  },
  {
   "cell_type": "markdown",
   "metadata": {},
   "source": [
    "- Посмотрим, как влияют на продажи внутри одной популярной  -платформы (PS4) отзывы пользователей и критиков. Построим диаграммы рассеяния и посчитаем корреляцию между отзывами и продажами."
   ]
  },
  {
   "cell_type": "markdown",
   "metadata": {},
   "source": [
    "### Диаграмма рассеивания PS4"
   ]
  },
  {
   "cell_type": "code",
   "execution_count": 28,
   "metadata": {},
   "outputs": [],
   "source": [
    "#выделим в отдельную таблицу продажи по PS4\n",
    "game_stat_ps4 = df_new.query('platform == \"PS4\"and user_score != -1 and critic_score != -1')"
   ]
  },
  {
   "cell_type": "code",
   "execution_count": 29,
   "metadata": {},
   "outputs": [
    {
     "data": {
      "text/plain": [
       "Text(0.5, 0, 'Оценка пользователей')"
      ]
     },
     "execution_count": 29,
     "metadata": {},
     "output_type": "execute_result"
    },
    {
     "data": {
      "image/png": "[encoded data removed]",
      "text/plain": [
       "<Figure size 432x288 with 1 Axes>"
      ]
     },
     "metadata": {
      "needs_background": "light"
     },
     "output_type": "display_data"
    }
   ],
   "source": [
    "# Строим диаграмму рассеивания\n",
    "game_stat_ps4.plot(y='total_sales', x='user_score', kind='scatter', alpha=0.5, title='Зависимость выручки PS4 от оценки пользователей')\n",
    "ax = plt.gca()\n",
    "ax.set_ylabel('Выручка, млн дол.')\n",
    "ax.set_xlabel('Оценка пользователей')\n"
   ]
  },
  {
   "cell_type": "code",
   "execution_count": 30,
   "metadata": {},
   "outputs": [
    {
     "data": {
      "text/plain": [
       "-0.06436843081030288"
      ]
     },
     "execution_count": 30,
     "metadata": {},
     "output_type": "execute_result"
    }
   ],
   "source": [
    "#Считаем корреляцию пользователей\n",
    "game_stat_ps4['total_sales'].corr(game_stat_ps4['user_score'])"
   ]
  },
  {
   "cell_type": "code",
   "execution_count": 31,
   "metadata": {},
   "outputs": [
    {
     "data": {
      "text/plain": [
       "Text(0.5, 0, 'Оценка критиков')"
      ]
     },
     "execution_count": 31,
     "metadata": {},
     "output_type": "execute_result"
    },
    {
     "data": {
      "image/png": "[encoded data removed]",
      "text/plain": [
       "<Figure size 432x288 with 1 Axes>"
      ]
     },
     "metadata": {
      "needs_background": "light"
     },
     "output_type": "display_data"
    }
   ],
   "source": [
    "# Строим диаграмму рассеивания\n",
    "game_stat_ps4.plot(y='total_sales', x='critic_score', kind='scatter', alpha=0.5, title='Зависимость выручки PS4 от оценки критиков')\n",
    "ax = plt.gca()\n",
    "ax.set_ylabel('Выручка, млн дол.')\n",
    "ax.set_xlabel('Оценка критиков')"
   ]
  },
  {
   "cell_type": "code",
   "execution_count": 32,
   "metadata": {},
   "outputs": [
    {
     "data": {
      "text/plain": [
       "0.3920741369660568"
      ]
     },
     "execution_count": 32,
     "metadata": {},
     "output_type": "execute_result"
    }
   ],
   "source": [
    "# Считаем корреляцию критиков\n",
    "game_stat_ps4['total_sales'].corr(game_stat_ps4['critic_score'])"
   ]
  },
  {
   "cell_type": "markdown",
   "metadata": {},
   "source": [
    "И по графикам, и по значению корреляции видим, что отзывы критиков в большей степени влияют на продажи, чем отзывы пользователей. Больше всего выручка при оценке критиков 60 и выше."
   ]
  },
  {
   "cell_type": "markdown",
   "metadata": {},
   "source": [
    "### Диаграмма рассеивания по тотал платформам"
   ]
  },
  {
   "cell_type": "code",
   "execution_count": 33,
   "metadata": {},
   "outputs": [
    {
     "data": {
      "text/plain": [
       "Text(0.5, 0, 'Оценка пользователей')"
      ]
     },
     "execution_count": 33,
     "metadata": {},
     "output_type": "execute_result"
    },
    {
     "data": {
      "image/png": "[encoded data removed]",
      "text/plain": [
       "<Figure size 432x288 with 1 Axes>"
      ]
     },
     "metadata": {
      "needs_background": "light"
     },
     "output_type": "display_data"
    }
   ],
   "source": [
    "# Посмотрим, как графики и корреляция будут выглядеть для всех десяти платформ.\n",
    "game_stat_new_filtered = df_new.query('user_score != -1 and critic_score != -1')\n",
    "game_stat_new_filtered.plot(y='total_sales', x='user_score', kind='scatter', alpha=0.5, title='Зависимость выручки всех платформ от оценки пользователей')\n",
    "ax = plt.gca()\n",
    "ax.set_ylabel('Выручка, млн дол.')\n",
    "ax.set_xlabel('Оценка пользователей')"
   ]
  },
  {
   "cell_type": "code",
   "execution_count": 34,
   "metadata": {},
   "outputs": [
    {
     "data": {
      "text/plain": [
       "-0.014618298703672263"
      ]
     },
     "execution_count": 34,
     "metadata": {},
     "output_type": "execute_result"
    }
   ],
   "source": [
    "game_stat_new_filtered['total_sales'].corr(game_stat_new_filtered['user_score'])"
   ]
  },
  {
   "cell_type": "code",
   "execution_count": 35,
   "metadata": {},
   "outputs": [
    {
     "data": {
      "text/plain": [
       "Text(0.5, 0, 'Оценка критиков')"
      ]
     },
     "execution_count": 35,
     "metadata": {},
     "output_type": "execute_result"
    },
    {
     "data": {
      "image/png": "[encoded data removed]",
      "text/plain": [
       "<Figure size 432x288 with 1 Axes>"
      ]
     },
     "metadata": {
      "needs_background": "light"
     },
     "output_type": "display_data"
    }
   ],
   "source": [
    "game_stat_new_filtered.plot(y='total_sales', x='critic_score', kind='scatter', alpha=0.5, title='Зависимость выручки всех платформ от оценки критиков')\n",
    "ax = plt.gca()\n",
    "ax.set_ylabel('Выручка, млн дол.')\n",
    "ax.set_xlabel('Оценка критиков')"
   ]
  },
  {
   "cell_type": "code",
   "execution_count": 36,
   "metadata": {},
   "outputs": [
    {
     "data": {
      "text/plain": [
       "0.32337465925659875"
      ]
     },
     "execution_count": 36,
     "metadata": {},
     "output_type": "execute_result"
    }
   ],
   "source": [
    "game_stat_new_filtered['total_sales'].corr(game_stat_new_filtered['critic_score'])"
   ]
  },
  {
   "cell_type": "markdown",
   "metadata": {},
   "source": [
    "### Диаграмма рассеивания XOne"
   ]
  },
  {
   "cell_type": "code",
   "execution_count": 37,
   "metadata": {},
   "outputs": [],
   "source": [
    "#выделим в отдельную таблицу продажи по XOne\n",
    "game_stat_XOne = df_new.query('platform == \"XOne\"and user_score != -1 and critic_score != -1')"
   ]
  },
  {
   "cell_type": "code",
   "execution_count": 38,
   "metadata": {},
   "outputs": [
    {
     "data": {
      "text/plain": [
       "Text(0.5, 0, 'Оценка пользователей')"
      ]
     },
     "execution_count": 38,
     "metadata": {},
     "output_type": "execute_result"
    },
    {
     "data": {
      "image/png": "[encoded data removed]",
      "text/plain": [
       "<Figure size 432x288 with 1 Axes>"
      ]
     },
     "metadata": {
      "needs_background": "light"
     },
     "output_type": "display_data"
    }
   ],
   "source": [
    "# Посмотрим, как графики и корреляция будут выглядеть для XOne.\n",
    "game_stat_XOne.plot(y='total_sales', x='user_score', kind='scatter', alpha=0.5, title='Зависимость выручки XOne от оценки пользователей');\n",
    "ax = plt.gca()\n",
    "ax.set_ylabel('Выручка, млн дол.')\n",
    "ax.set_xlabel('Оценка пользователей')"
   ]
  },
  {
   "cell_type": "code",
   "execution_count": 39,
   "metadata": {},
   "outputs": [
    {
     "data": {
      "text/plain": [
       "-0.06868389218473443"
      ]
     },
     "execution_count": 39,
     "metadata": {},
     "output_type": "execute_result"
    }
   ],
   "source": [
    "game_stat_XOne['total_sales'].corr(game_stat_XOne['user_score'])"
   ]
  },
  {
   "cell_type": "code",
   "execution_count": 40,
   "metadata": {},
   "outputs": [
    {
     "data": {
      "text/plain": [
       "Text(0.5, 0, 'Оценка критиков')"
      ]
     },
     "execution_count": 40,
     "metadata": {},
     "output_type": "execute_result"
    },
    {
     "data": {
      "image/png": "[encoded data removed]",
      "text/plain": [
       "<Figure size 432x288 with 1 Axes>"
      ]
     },
     "metadata": {
      "needs_background": "light"
     },
     "output_type": "display_data"
    }
   ],
   "source": [
    "game_stat_XOne.plot(y='total_sales', x='critic_score', kind='scatter', alpha=0.5, title='Зависимость выручки XOne от оценки критиков')\n",
    "ax = plt.gca()\n",
    "ax.set_ylabel('Выручка, млн дол.')\n",
    "ax.set_xlabel('Оценка критиков')"
   ]
  },
  {
   "cell_type": "code",
   "execution_count": 41,
   "metadata": {},
   "outputs": [
    {
     "data": {
      "text/plain": [
       "0.4225192624742895"
      ]
     },
     "execution_count": 41,
     "metadata": {},
     "output_type": "execute_result"
    }
   ],
   "source": [
    "game_stat_XOne['total_sales'].corr(game_stat_XOne['critic_score'])"
   ]
  },
  {
   "cell_type": "markdown",
   "metadata": {},
   "source": [
    "**Нет взамосвязи между оценками пользователей и продажам. -0,06 интерпретируем как отсутствие взаимосвязи.**"
   ]
  },
  {
   "cell_type": "markdown",
   "metadata": {},
   "source": [
    "---"
   ]
  },
  {
   "cell_type": "markdown",
   "metadata": {},
   "source": [
    "### Диаграмма рассеивания 3DS"
   ]
  },
  {
   "cell_type": "code",
   "execution_count": 42,
   "metadata": {},
   "outputs": [],
   "source": [
    "#выделим в отдельную таблицу продажи по 3DS\n",
    "game_stat_3DS = df_new.query('platform == \"3DS\"and user_score != -1 and critic_score != -1')"
   ]
  },
  {
   "cell_type": "code",
   "execution_count": 43,
   "metadata": {},
   "outputs": [
    {
     "data": {
      "text/plain": [
       "Text(0.5, 0, 'Оценка пользователей')"
      ]
     },
     "execution_count": 43,
     "metadata": {},
     "output_type": "execute_result"
    },
    {
     "data": {
      "image/png": "[encoded data removed]",
      "text/plain": [
       "<Figure size 432x288 with 1 Axes>"
      ]
     },
     "metadata": {
      "needs_background": "light"
     },
     "output_type": "display_data"
    }
   ],
   "source": [
    "# Посмотрим, как графики и корреляция будут выглядеть для 3DS.\n",
    "game_stat_3DS.plot(y='total_sales', x='user_score', kind='scatter', alpha=0.5, title='Зависимость выручки 3DS от оценки пользователей');\n",
    "ax = plt.gca()\n",
    "ax.set_ylabel('Выручка, млн дол.')\n",
    "ax.set_xlabel('Оценка пользователей')"
   ]
  },
  {
   "cell_type": "code",
   "execution_count": 44,
   "metadata": {},
   "outputs": [
    {
     "data": {
      "text/plain": [
       "0.24047698587957067"
      ]
     },
     "execution_count": 44,
     "metadata": {},
     "output_type": "execute_result"
    }
   ],
   "source": [
    "game_stat_3DS['total_sales'].corr(game_stat_3DS['user_score'])"
   ]
  },
  {
   "cell_type": "code",
   "execution_count": 45,
   "metadata": {},
   "outputs": [
    {
     "data": {
      "text/plain": [
       "Text(0.5, 0, 'Оценка критиков')"
      ]
     },
     "execution_count": 45,
     "metadata": {},
     "output_type": "execute_result"
    },
    {
     "data": {
      "image/png": "[encoded data removed]",
      "text/plain": [
       "<Figure size 432x288 with 1 Axes>"
      ]
     },
     "metadata": {
      "needs_background": "light"
     },
     "output_type": "display_data"
    }
   ],
   "source": [
    "game_stat_3DS.plot(y='total_sales', x='critic_score', kind='scatter', alpha=0.5, title='Зависимость выручки 3DS от оценки критиков')\n",
    "ax = plt.gca()\n",
    "ax.set_ylabel('Выручка, млн дол.')\n",
    "ax.set_xlabel('Оценка критиков')"
   ]
  },
  {
   "cell_type": "code",
   "execution_count": 46,
   "metadata": {},
   "outputs": [
    {
     "data": {
      "text/plain": [
       "0.17757455046092874"
      ]
     },
     "execution_count": 46,
     "metadata": {},
     "output_type": "execute_result"
    }
   ],
   "source": [
    "game_stat_3DS['total_sales'].corr(game_stat_3DS['critic_score'])"
   ]
  },
  {
   "cell_type": "markdown",
   "metadata": {},
   "source": [
    "**С 3DS плтаформой наблюдаем слабю положительную корреляцию.**"
   ]
  },
  {
   "cell_type": "markdown",
   "metadata": {},
   "source": [
    "При взгляде на два последних графика можно заметить, что разница в корреляции оценка критика/выручка и оценка пользователя/выручка совсем **небольшая**. Для платформы PS4 и XOne она заметнее, а корреляция оценка критика/выручка **сильнее**.В отличии от 3DS"
   ]
  },
  {
   "cell_type": "markdown",
   "metadata": {},
   "source": [
    "- Посмотрим на общее распределение игр по жанрам."
   ]
  },
  {
   "cell_type": "code",
   "execution_count": 47,
   "metadata": {},
   "outputs": [
    {
     "data": {
      "text/html": [
       "<div>\n",
       "<style scoped>\n",
       "    .dataframe tbody tr th:only-of-type {\n",
       "        vertical-align: middle;\n",
       "    }\n",
       "\n",
       "    .dataframe tbody tr th {\n",
       "        vertical-align: top;\n",
       "    }\n",
       "\n",
       "    .dataframe thead th {\n",
       "        text-align: right;\n",
       "    }\n",
       "</style>\n",
       "<table border=\"1\" class=\"dataframe\">\n",
       "  <thead>\n",
       "    <tr style=\"text-align: right;\">\n",
       "      <th></th>\n",
       "      <th>total_sales</th>\n",
       "    </tr>\n",
       "    <tr>\n",
       "      <th>genre</th>\n",
       "      <th></th>\n",
       "    </tr>\n",
       "  </thead>\n",
       "  <tbody>\n",
       "    <tr>\n",
       "      <td>Shooter</td>\n",
       "      <td>105.73</td>\n",
       "    </tr>\n",
       "    <tr>\n",
       "      <td>Action</td>\n",
       "      <td>102.13</td>\n",
       "    </tr>\n",
       "    <tr>\n",
       "      <td>Sports</td>\n",
       "      <td>64.33</td>\n",
       "    </tr>\n",
       "    <tr>\n",
       "      <td>Role-Playing</td>\n",
       "      <td>55.82</td>\n",
       "    </tr>\n",
       "    <tr>\n",
       "      <td>Misc</td>\n",
       "      <td>14.17</td>\n",
       "    </tr>\n",
       "    <tr>\n",
       "      <td>Fighting</td>\n",
       "      <td>12.37</td>\n",
       "    </tr>\n",
       "    <tr>\n",
       "      <td>Adventure</td>\n",
       "      <td>11.98</td>\n",
       "    </tr>\n",
       "    <tr>\n",
       "      <td>Racing</td>\n",
       "      <td>10.86</td>\n",
       "    </tr>\n",
       "    <tr>\n",
       "      <td>Platform</td>\n",
       "      <td>9.28</td>\n",
       "    </tr>\n",
       "    <tr>\n",
       "      <td>Simulation</td>\n",
       "      <td>7.55</td>\n",
       "    </tr>\n",
       "    <tr>\n",
       "      <td>Strategy</td>\n",
       "      <td>2.98</td>\n",
       "    </tr>\n",
       "    <tr>\n",
       "      <td>Puzzle</td>\n",
       "      <td>0.72</td>\n",
       "    </tr>\n",
       "  </tbody>\n",
       "</table>\n",
       "</div>"
      ],
      "text/plain": [
       "              total_sales\n",
       "genre                    \n",
       "Shooter            105.73\n",
       "Action             102.13\n",
       "Sports              64.33\n",
       "Role-Playing        55.82\n",
       "Misc                14.17\n",
       "Fighting            12.37\n",
       "Adventure           11.98\n",
       "Racing              10.86\n",
       "Platform             9.28\n",
       "Simulation           7.55\n",
       "Strategy             2.98\n",
       "Puzzle               0.72"
      ]
     },
     "execution_count": 47,
     "metadata": {},
     "output_type": "execute_result"
    }
   ],
   "source": [
    "# Общие продажи по жанрам\n",
    "df_new.pivot_table(index='genre', values='total_sales', aggfunc='sum').sort_values(by='total_sales', ascending=False)"
   ]
  },
  {
   "cell_type": "code",
   "execution_count": 48,
   "metadata": {},
   "outputs": [
    {
     "data": {
      "text/html": [
       "<div>\n",
       "<style scoped>\n",
       "    .dataframe tbody tr th:only-of-type {\n",
       "        vertical-align: middle;\n",
       "    }\n",
       "\n",
       "    .dataframe tbody tr th {\n",
       "        vertical-align: top;\n",
       "    }\n",
       "\n",
       "    .dataframe thead th {\n",
       "        text-align: right;\n",
       "    }\n",
       "</style>\n",
       "<table border=\"1\" class=\"dataframe\">\n",
       "  <thead>\n",
       "    <tr style=\"text-align: right;\">\n",
       "      <th></th>\n",
       "      <th>total_sales</th>\n",
       "    </tr>\n",
       "    <tr>\n",
       "      <th>genre</th>\n",
       "      <th></th>\n",
       "    </tr>\n",
       "  </thead>\n",
       "  <tbody>\n",
       "    <tr>\n",
       "      <td>Shooter</td>\n",
       "      <td>0.380</td>\n",
       "    </tr>\n",
       "    <tr>\n",
       "      <td>Sports</td>\n",
       "      <td>0.120</td>\n",
       "    </tr>\n",
       "    <tr>\n",
       "      <td>Role-Playing</td>\n",
       "      <td>0.115</td>\n",
       "    </tr>\n",
       "    <tr>\n",
       "      <td>Platform</td>\n",
       "      <td>0.100</td>\n",
       "    </tr>\n",
       "    <tr>\n",
       "      <td>Simulation</td>\n",
       "      <td>0.100</td>\n",
       "    </tr>\n",
       "    <tr>\n",
       "      <td>Fighting</td>\n",
       "      <td>0.090</td>\n",
       "    </tr>\n",
       "    <tr>\n",
       "      <td>Action</td>\n",
       "      <td>0.060</td>\n",
       "    </tr>\n",
       "    <tr>\n",
       "      <td>Misc</td>\n",
       "      <td>0.060</td>\n",
       "    </tr>\n",
       "    <tr>\n",
       "      <td>Racing</td>\n",
       "      <td>0.055</td>\n",
       "    </tr>\n",
       "    <tr>\n",
       "      <td>Strategy</td>\n",
       "      <td>0.050</td>\n",
       "    </tr>\n",
       "    <tr>\n",
       "      <td>Adventure</td>\n",
       "      <td>0.030</td>\n",
       "    </tr>\n",
       "    <tr>\n",
       "      <td>Puzzle</td>\n",
       "      <td>0.030</td>\n",
       "    </tr>\n",
       "  </tbody>\n",
       "</table>\n",
       "</div>"
      ],
      "text/plain": [
       "              total_sales\n",
       "genre                    \n",
       "Shooter             0.380\n",
       "Sports              0.120\n",
       "Role-Playing        0.115\n",
       "Platform            0.100\n",
       "Simulation          0.100\n",
       "Fighting            0.090\n",
       "Action              0.060\n",
       "Misc                0.060\n",
       "Racing              0.055\n",
       "Strategy            0.050\n",
       "Adventure           0.030\n",
       "Puzzle              0.030"
      ]
     },
     "execution_count": 48,
     "metadata": {},
     "output_type": "execute_result"
    }
   ],
   "source": [
    "# Медиананые продажи по жанрам\n",
    "df_new.pivot_table(index='genre', values='total_sales', aggfunc='median').sort_values(by='total_sales', ascending=False)"
   ]
  },
  {
   "cell_type": "markdown",
   "metadata": {},
   "source": [
    "Из сводных таблиц видно по 2 метрикам **(Тотал и медиана)**, что с большим отрывом по продажам лидируют игры жанра **Shooter**. Самые низкие сборы у жанров **Puzzle**."
   ]
  },
  {
   "cell_type": "markdown",
   "metadata": {},
   "source": [
    "**Вывод:**\n",
    "\n",
    "Провели исследовательский анализ данных, выделили срез данных за 2015-2016 гг, нашли 10 платформ-лидеров по продажам.\n",
    "\n",
    "На примере PS4 рассмотрели корреляцию оценка критика/выручка и оценка пользователя/выручка и пришли к выводу, что отзывы критиков в большей степени влияют на продажи, чем отзывы пользователей.\n",
    "\n",
    "Больше всего выручка у платформы при оценке критиков 60 и выше.\n",
    "\n",
    "Самыми прибыльными оказались жанры Shooter.\n",
    "\n",
    "Самые низкие сборы у жанров Puzzle."
   ]
  },
  {
   "cell_type": "markdown",
   "metadata": {},
   "source": [
    "---"
   ]
  },
  {
   "cell_type": "markdown",
   "metadata": {},
   "source": [
    "# Шаг 4. Составим портрет пользователя каждого региона\n",
    "\n",
    "- Определите для пользователя каждого региона (NA, EU, JP):\n",
    "- Самые популярные платформы (топ-5). Опишите различия в долях продаж.\n",
    "- Самые популярные жанры (топ-5). Поясните разницу.\n",
    "- Влияет ли рейтинг ESRB на продажи в отдельном регионе?\n"
   ]
  },
  {
   "cell_type": "code",
   "execution_count": 49,
   "metadata": {},
   "outputs": [
    {
     "data": {
      "text/html": [
       "<div>\n",
       "<style scoped>\n",
       "    .dataframe tbody tr th:only-of-type {\n",
       "        vertical-align: middle;\n",
       "    }\n",
       "\n",
       "    .dataframe tbody tr th {\n",
       "        vertical-align: top;\n",
       "    }\n",
       "\n",
       "    .dataframe thead th {\n",
       "        text-align: right;\n",
       "    }\n",
       "</style>\n",
       "<table border=\"1\" class=\"dataframe\">\n",
       "  <thead>\n",
       "    <tr style=\"text-align: right;\">\n",
       "      <th></th>\n",
       "      <th>name</th>\n",
       "      <th>platform</th>\n",
       "      <th>genre</th>\n",
       "      <th>na_sales</th>\n",
       "      <th>eu_sales</th>\n",
       "      <th>jp_sales</th>\n",
       "      <th>other_sales</th>\n",
       "      <th>critic_score</th>\n",
       "      <th>user_score</th>\n",
       "      <th>rating</th>\n",
       "      <th>year</th>\n",
       "      <th>total_sales</th>\n",
       "    </tr>\n",
       "  </thead>\n",
       "  <tbody>\n",
       "    <tr>\n",
       "      <td>0</td>\n",
       "      <td>Wii Sports</td>\n",
       "      <td>Wii</td>\n",
       "      <td>Sports</td>\n",
       "      <td>41.36</td>\n",
       "      <td>28.96</td>\n",
       "      <td>3.77</td>\n",
       "      <td>8.45</td>\n",
       "      <td>76.0</td>\n",
       "      <td>8.0</td>\n",
       "      <td>E</td>\n",
       "      <td>2006</td>\n",
       "      <td>82.54</td>\n",
       "    </tr>\n",
       "    <tr>\n",
       "      <td>1</td>\n",
       "      <td>Super Mario Bros.</td>\n",
       "      <td>NES</td>\n",
       "      <td>Platform</td>\n",
       "      <td>29.08</td>\n",
       "      <td>3.58</td>\n",
       "      <td>6.81</td>\n",
       "      <td>0.77</td>\n",
       "      <td>-1.0</td>\n",
       "      <td>-1.0</td>\n",
       "      <td>-1</td>\n",
       "      <td>1985</td>\n",
       "      <td>40.24</td>\n",
       "    </tr>\n",
       "    <tr>\n",
       "      <td>2</td>\n",
       "      <td>Mario Kart Wii</td>\n",
       "      <td>Wii</td>\n",
       "      <td>Racing</td>\n",
       "      <td>15.68</td>\n",
       "      <td>12.76</td>\n",
       "      <td>3.79</td>\n",
       "      <td>3.29</td>\n",
       "      <td>82.0</td>\n",
       "      <td>8.3</td>\n",
       "      <td>E</td>\n",
       "      <td>2008</td>\n",
       "      <td>35.52</td>\n",
       "    </tr>\n",
       "    <tr>\n",
       "      <td>3</td>\n",
       "      <td>Wii Sports Resort</td>\n",
       "      <td>Wii</td>\n",
       "      <td>Sports</td>\n",
       "      <td>15.61</td>\n",
       "      <td>10.93</td>\n",
       "      <td>3.28</td>\n",
       "      <td>2.95</td>\n",
       "      <td>80.0</td>\n",
       "      <td>8.0</td>\n",
       "      <td>E</td>\n",
       "      <td>2009</td>\n",
       "      <td>32.77</td>\n",
       "    </tr>\n",
       "    <tr>\n",
       "      <td>4</td>\n",
       "      <td>Pokemon Red/Pokemon Blue</td>\n",
       "      <td>GB</td>\n",
       "      <td>Role-Playing</td>\n",
       "      <td>11.27</td>\n",
       "      <td>8.89</td>\n",
       "      <td>10.22</td>\n",
       "      <td>1.00</td>\n",
       "      <td>-1.0</td>\n",
       "      <td>-1.0</td>\n",
       "      <td>-1</td>\n",
       "      <td>1996</td>\n",
       "      <td>31.38</td>\n",
       "    </tr>\n",
       "    <tr>\n",
       "      <td>...</td>\n",
       "      <td>...</td>\n",
       "      <td>...</td>\n",
       "      <td>...</td>\n",
       "      <td>...</td>\n",
       "      <td>...</td>\n",
       "      <td>...</td>\n",
       "      <td>...</td>\n",
       "      <td>...</td>\n",
       "      <td>...</td>\n",
       "      <td>...</td>\n",
       "      <td>...</td>\n",
       "      <td>...</td>\n",
       "    </tr>\n",
       "    <tr>\n",
       "      <td>16710</td>\n",
       "      <td>Samurai Warriors: Sanada Maru</td>\n",
       "      <td>PS3</td>\n",
       "      <td>Action</td>\n",
       "      <td>0.00</td>\n",
       "      <td>0.00</td>\n",
       "      <td>0.01</td>\n",
       "      <td>0.00</td>\n",
       "      <td>-1.0</td>\n",
       "      <td>-1.0</td>\n",
       "      <td>-1</td>\n",
       "      <td>2016</td>\n",
       "      <td>0.01</td>\n",
       "    </tr>\n",
       "    <tr>\n",
       "      <td>16711</td>\n",
       "      <td>LMA Manager 2007</td>\n",
       "      <td>X360</td>\n",
       "      <td>Sports</td>\n",
       "      <td>0.00</td>\n",
       "      <td>0.01</td>\n",
       "      <td>0.00</td>\n",
       "      <td>0.00</td>\n",
       "      <td>-1.0</td>\n",
       "      <td>-1.0</td>\n",
       "      <td>-1</td>\n",
       "      <td>2006</td>\n",
       "      <td>0.01</td>\n",
       "    </tr>\n",
       "    <tr>\n",
       "      <td>16712</td>\n",
       "      <td>Haitaka no Psychedelica</td>\n",
       "      <td>PSV</td>\n",
       "      <td>Adventure</td>\n",
       "      <td>0.00</td>\n",
       "      <td>0.00</td>\n",
       "      <td>0.01</td>\n",
       "      <td>0.00</td>\n",
       "      <td>-1.0</td>\n",
       "      <td>-1.0</td>\n",
       "      <td>-1</td>\n",
       "      <td>2016</td>\n",
       "      <td>0.01</td>\n",
       "    </tr>\n",
       "    <tr>\n",
       "      <td>16713</td>\n",
       "      <td>Spirits &amp; Spells</td>\n",
       "      <td>GBA</td>\n",
       "      <td>Platform</td>\n",
       "      <td>0.01</td>\n",
       "      <td>0.00</td>\n",
       "      <td>0.00</td>\n",
       "      <td>0.00</td>\n",
       "      <td>-1.0</td>\n",
       "      <td>-1.0</td>\n",
       "      <td>-1</td>\n",
       "      <td>2003</td>\n",
       "      <td>0.01</td>\n",
       "    </tr>\n",
       "    <tr>\n",
       "      <td>16714</td>\n",
       "      <td>Winning Post 8 2016</td>\n",
       "      <td>PSV</td>\n",
       "      <td>Simulation</td>\n",
       "      <td>0.00</td>\n",
       "      <td>0.00</td>\n",
       "      <td>0.01</td>\n",
       "      <td>0.00</td>\n",
       "      <td>-1.0</td>\n",
       "      <td>-1.0</td>\n",
       "      <td>-1</td>\n",
       "      <td>2016</td>\n",
       "      <td>0.01</td>\n",
       "    </tr>\n",
       "  </tbody>\n",
       "</table>\n",
       "<p>16713 rows × 12 columns</p>\n",
       "</div>"
      ],
      "text/plain": [
       "                                name platform         genre  na_sales  \\\n",
       "0                         Wii Sports      Wii        Sports     41.36   \n",
       "1                  Super Mario Bros.      NES      Platform     29.08   \n",
       "2                     Mario Kart Wii      Wii        Racing     15.68   \n",
       "3                  Wii Sports Resort      Wii        Sports     15.61   \n",
       "4           Pokemon Red/Pokemon Blue       GB  Role-Playing     11.27   \n",
       "...                              ...      ...           ...       ...   \n",
       "16710  Samurai Warriors: Sanada Maru      PS3        Action      0.00   \n",
       "16711               LMA Manager 2007     X360        Sports      0.00   \n",
       "16712        Haitaka no Psychedelica      PSV     Adventure      0.00   \n",
       "16713               Spirits & Spells      GBA      Platform      0.01   \n",
       "16714            Winning Post 8 2016      PSV    Simulation      0.00   \n",
       "\n",
       "       eu_sales  jp_sales  other_sales  critic_score  user_score rating  year  \\\n",
       "0         28.96      3.77         8.45          76.0         8.0      E  2006   \n",
       "1          3.58      6.81         0.77          -1.0        -1.0     -1  1985   \n",
       "2         12.76      3.79         3.29          82.0         8.3      E  2008   \n",
       "3         10.93      3.28         2.95          80.0         8.0      E  2009   \n",
       "4          8.89     10.22         1.00          -1.0        -1.0     -1  1996   \n",
       "...         ...       ...          ...           ...         ...    ...   ...   \n",
       "16710      0.00      0.01         0.00          -1.0        -1.0     -1  2016   \n",
       "16711      0.01      0.00         0.00          -1.0        -1.0     -1  2006   \n",
       "16712      0.00      0.01         0.00          -1.0        -1.0     -1  2016   \n",
       "16713      0.00      0.00         0.00          -1.0        -1.0     -1  2003   \n",
       "16714      0.00      0.01         0.00          -1.0        -1.0     -1  2016   \n",
       "\n",
       "       total_sales  \n",
       "0            82.54  \n",
       "1            40.24  \n",
       "2            35.52  \n",
       "3            32.77  \n",
       "4            31.38  \n",
       "...            ...  \n",
       "16710         0.01  \n",
       "16711         0.01  \n",
       "16712         0.01  \n",
       "16713         0.01  \n",
       "16714         0.01  \n",
       "\n",
       "[16713 rows x 12 columns]"
      ]
     },
     "execution_count": 49,
     "metadata": {},
     "output_type": "execute_result"
    }
   ],
   "source": [
    "df"
   ]
  },
  {
   "cell_type": "code",
   "execution_count": 50,
   "metadata": {},
   "outputs": [
    {
     "data": {
      "text/html": [
       "<div>\n",
       "<style scoped>\n",
       "    .dataframe tbody tr th:only-of-type {\n",
       "        vertical-align: middle;\n",
       "    }\n",
       "\n",
       "    .dataframe tbody tr th {\n",
       "        vertical-align: top;\n",
       "    }\n",
       "\n",
       "    .dataframe thead th {\n",
       "        text-align: right;\n",
       "    }\n",
       "</style>\n",
       "<table border=\"1\" class=\"dataframe\">\n",
       "  <thead>\n",
       "    <tr style=\"text-align: right;\">\n",
       "      <th></th>\n",
       "      <th>platform</th>\n",
       "      <th>na_sales</th>\n",
       "    </tr>\n",
       "  </thead>\n",
       "  <tbody>\n",
       "    <tr>\n",
       "      <td>3</td>\n",
       "      <td>PS4</td>\n",
       "      <td>63.86</td>\n",
       "    </tr>\n",
       "    <tr>\n",
       "      <td>9</td>\n",
       "      <td>XOne</td>\n",
       "      <td>50.30</td>\n",
       "    </tr>\n",
       "    <tr>\n",
       "      <td>0</td>\n",
       "      <td>3DS</td>\n",
       "      <td>10.31</td>\n",
       "    </tr>\n",
       "    <tr>\n",
       "      <td>7</td>\n",
       "      <td>WiiU</td>\n",
       "      <td>8.86</td>\n",
       "    </tr>\n",
       "    <tr>\n",
       "      <td>8</td>\n",
       "      <td>X360</td>\n",
       "      <td>8.05</td>\n",
       "    </tr>\n",
       "  </tbody>\n",
       "</table>\n",
       "</div>"
      ],
      "text/plain": [
       "  platform  na_sales\n",
       "3      PS4     63.86\n",
       "9     XOne     50.30\n",
       "0      3DS     10.31\n",
       "7     WiiU      8.86\n",
       "8     X360      8.05"
      ]
     },
     "execution_count": 50,
     "metadata": {},
     "output_type": "execute_result"
    }
   ],
   "source": [
    "# Cеверная Америка\n",
    "df_new.groupby('platform')['na_sales'].sum().reset_index().sort_values(by='na_sales', ascending=False).head()"
   ]
  },
  {
   "cell_type": "code",
   "execution_count": 51,
   "metadata": {},
   "outputs": [
    {
     "data": {
      "text/html": [
       "<div>\n",
       "<style scoped>\n",
       "    .dataframe tbody tr th:only-of-type {\n",
       "        vertical-align: middle;\n",
       "    }\n",
       "\n",
       "    .dataframe tbody tr th {\n",
       "        vertical-align: top;\n",
       "    }\n",
       "\n",
       "    .dataframe thead th {\n",
       "        text-align: right;\n",
       "    }\n",
       "</style>\n",
       "<table border=\"1\" class=\"dataframe\">\n",
       "  <thead>\n",
       "    <tr style=\"text-align: right;\">\n",
       "      <th></th>\n",
       "      <th>genre</th>\n",
       "      <th>na_sales</th>\n",
       "    </tr>\n",
       "  </thead>\n",
       "  <tbody>\n",
       "    <tr>\n",
       "      <td>8</td>\n",
       "      <td>Shooter</td>\n",
       "      <td>48.18</td>\n",
       "    </tr>\n",
       "    <tr>\n",
       "      <td>0</td>\n",
       "      <td>Action</td>\n",
       "      <td>33.68</td>\n",
       "    </tr>\n",
       "    <tr>\n",
       "      <td>10</td>\n",
       "      <td>Sports</td>\n",
       "      <td>26.31</td>\n",
       "    </tr>\n",
       "    <tr>\n",
       "      <td>7</td>\n",
       "      <td>Role-Playing</td>\n",
       "      <td>19.82</td>\n",
       "    </tr>\n",
       "    <tr>\n",
       "      <td>3</td>\n",
       "      <td>Misc</td>\n",
       "      <td>5.58</td>\n",
       "    </tr>\n",
       "  </tbody>\n",
       "</table>\n",
       "</div>"
      ],
      "text/plain": [
       "           genre  na_sales\n",
       "8        Shooter     48.18\n",
       "0         Action     33.68\n",
       "10        Sports     26.31\n",
       "7   Role-Playing     19.82\n",
       "3           Misc      5.58"
      ]
     },
     "execution_count": 51,
     "metadata": {},
     "output_type": "execute_result"
    }
   ],
   "source": [
    "df_new.groupby('genre')['na_sales'].sum().reset_index().sort_values(by='na_sales', ascending=False).head()"
   ]
  },
  {
   "cell_type": "code",
   "execution_count": 52,
   "metadata": {},
   "outputs": [
    {
     "data": {
      "text/html": [
       "<div>\n",
       "<style scoped>\n",
       "    .dataframe tbody tr th:only-of-type {\n",
       "        vertical-align: middle;\n",
       "    }\n",
       "\n",
       "    .dataframe tbody tr th {\n",
       "        vertical-align: top;\n",
       "    }\n",
       "\n",
       "    .dataframe thead th {\n",
       "        text-align: right;\n",
       "    }\n",
       "</style>\n",
       "<table border=\"1\" class=\"dataframe\">\n",
       "  <thead>\n",
       "    <tr style=\"text-align: right;\">\n",
       "      <th></th>\n",
       "      <th>rating</th>\n",
       "      <th>na_sales</th>\n",
       "    </tr>\n",
       "  </thead>\n",
       "  <tbody>\n",
       "    <tr>\n",
       "      <td>3</td>\n",
       "      <td>M</td>\n",
       "      <td>47.03</td>\n",
       "    </tr>\n",
       "    <tr>\n",
       "      <td>0</td>\n",
       "      <td>-1</td>\n",
       "      <td>37.44</td>\n",
       "    </tr>\n",
       "    <tr>\n",
       "      <td>1</td>\n",
       "      <td>E</td>\n",
       "      <td>26.59</td>\n",
       "    </tr>\n",
       "    <tr>\n",
       "      <td>4</td>\n",
       "      <td>T</td>\n",
       "      <td>22.86</td>\n",
       "    </tr>\n",
       "    <tr>\n",
       "      <td>2</td>\n",
       "      <td>E10+</td>\n",
       "      <td>17.87</td>\n",
       "    </tr>\n",
       "  </tbody>\n",
       "</table>\n",
       "</div>"
      ],
      "text/plain": [
       "  rating  na_sales\n",
       "3      M     47.03\n",
       "0     -1     37.44\n",
       "1      E     26.59\n",
       "4      T     22.86\n",
       "2   E10+     17.87"
      ]
     },
     "execution_count": 52,
     "metadata": {},
     "output_type": "execute_result"
    }
   ],
   "source": [
    "df_new.groupby('rating')['na_sales'].sum().reset_index().sort_values(by='na_sales', ascending=False).head()"
   ]
  },
  {
   "cell_type": "markdown",
   "metadata": {},
   "source": [
    "- в Северной Америке лидируют платформы PS4, XOne и 3DS, разница в продажах не очень велика\n",
    "- самые популярные жанры - Action, Sports,Shooter, Misc и Role-Playing\n",
    "- с большим отрывом по продажам лидирует рейтинг M, затем идут -1 и E"
   ]
  },
  {
   "cell_type": "code",
   "execution_count": 53,
   "metadata": {},
   "outputs": [
    {
     "data": {
      "text/html": [
       "<div>\n",
       "<style scoped>\n",
       "    .dataframe tbody tr th:only-of-type {\n",
       "        vertical-align: middle;\n",
       "    }\n",
       "\n",
       "    .dataframe tbody tr th {\n",
       "        vertical-align: top;\n",
       "    }\n",
       "\n",
       "    .dataframe thead th {\n",
       "        text-align: right;\n",
       "    }\n",
       "</style>\n",
       "<table border=\"1\" class=\"dataframe\">\n",
       "  <thead>\n",
       "    <tr style=\"text-align: right;\">\n",
       "      <th></th>\n",
       "      <th>platform</th>\n",
       "      <th>eu_sales</th>\n",
       "    </tr>\n",
       "  </thead>\n",
       "  <tbody>\n",
       "    <tr>\n",
       "      <td>3</td>\n",
       "      <td>PS4</td>\n",
       "      <td>83.54</td>\n",
       "    </tr>\n",
       "    <tr>\n",
       "      <td>9</td>\n",
       "      <td>XOne</td>\n",
       "      <td>28.10</td>\n",
       "    </tr>\n",
       "    <tr>\n",
       "      <td>1</td>\n",
       "      <td>PC</td>\n",
       "      <td>9.10</td>\n",
       "    </tr>\n",
       "    <tr>\n",
       "      <td>0</td>\n",
       "      <td>3DS</td>\n",
       "      <td>7.39</td>\n",
       "    </tr>\n",
       "    <tr>\n",
       "      <td>2</td>\n",
       "      <td>PS3</td>\n",
       "      <td>7.30</td>\n",
       "    </tr>\n",
       "  </tbody>\n",
       "</table>\n",
       "</div>"
      ],
      "text/plain": [
       "  platform  eu_sales\n",
       "3      PS4     83.54\n",
       "9     XOne     28.10\n",
       "1       PC      9.10\n",
       "0      3DS      7.39\n",
       "2      PS3      7.30"
      ]
     },
     "execution_count": 53,
     "metadata": {},
     "output_type": "execute_result"
    }
   ],
   "source": [
    "# Cеверная Европе\n",
    "df_new.groupby('platform')['eu_sales'].sum().reset_index().sort_values(by='eu_sales', ascending=False).head()"
   ]
  },
  {
   "cell_type": "code",
   "execution_count": 54,
   "metadata": {},
   "outputs": [
    {
     "data": {
      "text/html": [
       "<div>\n",
       "<style scoped>\n",
       "    .dataframe tbody tr th:only-of-type {\n",
       "        vertical-align: middle;\n",
       "    }\n",
       "\n",
       "    .dataframe tbody tr th {\n",
       "        vertical-align: top;\n",
       "    }\n",
       "\n",
       "    .dataframe thead th {\n",
       "        text-align: right;\n",
       "    }\n",
       "</style>\n",
       "<table border=\"1\" class=\"dataframe\">\n",
       "  <thead>\n",
       "    <tr style=\"text-align: right;\">\n",
       "      <th></th>\n",
       "      <th>genre</th>\n",
       "      <th>eu_sales</th>\n",
       "    </tr>\n",
       "  </thead>\n",
       "  <tbody>\n",
       "    <tr>\n",
       "      <td>8</td>\n",
       "      <td>Shooter</td>\n",
       "      <td>40.28</td>\n",
       "    </tr>\n",
       "    <tr>\n",
       "      <td>0</td>\n",
       "      <td>Action</td>\n",
       "      <td>34.82</td>\n",
       "    </tr>\n",
       "    <tr>\n",
       "      <td>10</td>\n",
       "      <td>Sports</td>\n",
       "      <td>27.82</td>\n",
       "    </tr>\n",
       "    <tr>\n",
       "      <td>7</td>\n",
       "      <td>Role-Playing</td>\n",
       "      <td>17.21</td>\n",
       "    </tr>\n",
       "    <tr>\n",
       "      <td>6</td>\n",
       "      <td>Racing</td>\n",
       "      <td>6.52</td>\n",
       "    </tr>\n",
       "  </tbody>\n",
       "</table>\n",
       "</div>"
      ],
      "text/plain": [
       "           genre  eu_sales\n",
       "8        Shooter     40.28\n",
       "0         Action     34.82\n",
       "10        Sports     27.82\n",
       "7   Role-Playing     17.21\n",
       "6         Racing      6.52"
      ]
     },
     "execution_count": 54,
     "metadata": {},
     "output_type": "execute_result"
    }
   ],
   "source": [
    "df_new.groupby('genre')['eu_sales'].sum().reset_index().sort_values(by='eu_sales', ascending=False).head()"
   ]
  },
  {
   "cell_type": "code",
   "execution_count": 55,
   "metadata": {},
   "outputs": [
    {
     "data": {
      "text/html": [
       "<div>\n",
       "<style scoped>\n",
       "    .dataframe tbody tr th:only-of-type {\n",
       "        vertical-align: middle;\n",
       "    }\n",
       "\n",
       "    .dataframe tbody tr th {\n",
       "        vertical-align: top;\n",
       "    }\n",
       "\n",
       "    .dataframe thead th {\n",
       "        text-align: right;\n",
       "    }\n",
       "</style>\n",
       "<table border=\"1\" class=\"dataframe\">\n",
       "  <thead>\n",
       "    <tr style=\"text-align: right;\">\n",
       "      <th></th>\n",
       "      <th>rating</th>\n",
       "      <th>eu_sales</th>\n",
       "    </tr>\n",
       "  </thead>\n",
       "  <tbody>\n",
       "    <tr>\n",
       "      <td>3</td>\n",
       "      <td>M</td>\n",
       "      <td>45.54</td>\n",
       "    </tr>\n",
       "    <tr>\n",
       "      <td>0</td>\n",
       "      <td>-1</td>\n",
       "      <td>35.71</td>\n",
       "    </tr>\n",
       "    <tr>\n",
       "      <td>1</td>\n",
       "      <td>E</td>\n",
       "      <td>34.83</td>\n",
       "    </tr>\n",
       "    <tr>\n",
       "      <td>4</td>\n",
       "      <td>T</td>\n",
       "      <td>20.32</td>\n",
       "    </tr>\n",
       "    <tr>\n",
       "      <td>2</td>\n",
       "      <td>E10+</td>\n",
       "      <td>11.54</td>\n",
       "    </tr>\n",
       "  </tbody>\n",
       "</table>\n",
       "</div>"
      ],
      "text/plain": [
       "  rating  eu_sales\n",
       "3      M     45.54\n",
       "0     -1     35.71\n",
       "1      E     34.83\n",
       "4      T     20.32\n",
       "2   E10+     11.54"
      ]
     },
     "execution_count": 55,
     "metadata": {},
     "output_type": "execute_result"
    }
   ],
   "source": [
    "df_new.groupby('rating')['eu_sales'].sum().reset_index().sort_values(by='eu_sales', ascending=False).head()"
   ]
  },
  {
   "cell_type": "markdown",
   "metadata": {},
   "source": [
    "- в Европе лидируют все те же приставки, но распределение немного другое, здесь в топе PS4, затем XOne и PC\n",
    "- самые популярные жанры все те же - Action, Sports,Shooter, Misc. Жанра Role-Playing, который был в топе по СА, здесь нет, зато есть Racing.\n",
    "- также лидируют рейтинги M , -1 , E"
   ]
  },
  {
   "cell_type": "code",
   "execution_count": 56,
   "metadata": {},
   "outputs": [
    {
     "data": {
      "text/html": [
       "<div>\n",
       "<style scoped>\n",
       "    .dataframe tbody tr th:only-of-type {\n",
       "        vertical-align: middle;\n",
       "    }\n",
       "\n",
       "    .dataframe tbody tr th {\n",
       "        vertical-align: top;\n",
       "    }\n",
       "\n",
       "    .dataframe thead th {\n",
       "        text-align: right;\n",
       "    }\n",
       "</style>\n",
       "<table border=\"1\" class=\"dataframe\">\n",
       "  <thead>\n",
       "    <tr style=\"text-align: right;\">\n",
       "      <th></th>\n",
       "      <th>platform</th>\n",
       "      <th>jp_sales</th>\n",
       "    </tr>\n",
       "  </thead>\n",
       "  <tbody>\n",
       "    <tr>\n",
       "      <td>0</td>\n",
       "      <td>3DS</td>\n",
       "      <td>23.55</td>\n",
       "    </tr>\n",
       "    <tr>\n",
       "      <td>3</td>\n",
       "      <td>PS4</td>\n",
       "      <td>12.05</td>\n",
       "    </tr>\n",
       "    <tr>\n",
       "      <td>5</td>\n",
       "      <td>PSV</td>\n",
       "      <td>8.41</td>\n",
       "    </tr>\n",
       "    <tr>\n",
       "      <td>2</td>\n",
       "      <td>PS3</td>\n",
       "      <td>4.97</td>\n",
       "    </tr>\n",
       "    <tr>\n",
       "      <td>7</td>\n",
       "      <td>WiiU</td>\n",
       "      <td>4.12</td>\n",
       "    </tr>\n",
       "  </tbody>\n",
       "</table>\n",
       "</div>"
      ],
      "text/plain": [
       "  platform  jp_sales\n",
       "0      3DS     23.55\n",
       "3      PS4     12.05\n",
       "5      PSV      8.41\n",
       "2      PS3      4.97\n",
       "7     WiiU      4.12"
      ]
     },
     "execution_count": 56,
     "metadata": {},
     "output_type": "execute_result"
    }
   ],
   "source": [
    "# Япония\n",
    "df_new.groupby('platform')['jp_sales'].sum().reset_index().sort_values(by='jp_sales', ascending=False).head()"
   ]
  },
  {
   "cell_type": "code",
   "execution_count": 57,
   "metadata": {},
   "outputs": [
    {
     "data": {
      "text/html": [
       "<div>\n",
       "<style scoped>\n",
       "    .dataframe tbody tr th:only-of-type {\n",
       "        vertical-align: middle;\n",
       "    }\n",
       "\n",
       "    .dataframe tbody tr th {\n",
       "        vertical-align: top;\n",
       "    }\n",
       "\n",
       "    .dataframe thead th {\n",
       "        text-align: right;\n",
       "    }\n",
       "</style>\n",
       "<table border=\"1\" class=\"dataframe\">\n",
       "  <thead>\n",
       "    <tr style=\"text-align: right;\">\n",
       "      <th></th>\n",
       "      <th>genre</th>\n",
       "      <th>jp_sales</th>\n",
       "    </tr>\n",
       "  </thead>\n",
       "  <tbody>\n",
       "    <tr>\n",
       "      <td>0</td>\n",
       "      <td>Action</td>\n",
       "      <td>23.05</td>\n",
       "    </tr>\n",
       "    <tr>\n",
       "      <td>7</td>\n",
       "      <td>Role-Playing</td>\n",
       "      <td>13.41</td>\n",
       "    </tr>\n",
       "    <tr>\n",
       "      <td>8</td>\n",
       "      <td>Shooter</td>\n",
       "      <td>3.79</td>\n",
       "    </tr>\n",
       "    <tr>\n",
       "      <td>3</td>\n",
       "      <td>Misc</td>\n",
       "      <td>3.19</td>\n",
       "    </tr>\n",
       "    <tr>\n",
       "      <td>1</td>\n",
       "      <td>Adventure</td>\n",
       "      <td>2.22</td>\n",
       "    </tr>\n",
       "  </tbody>\n",
       "</table>\n",
       "</div>"
      ],
      "text/plain": [
       "          genre  jp_sales\n",
       "0        Action     23.05\n",
       "7  Role-Playing     13.41\n",
       "8       Shooter      3.79\n",
       "3          Misc      3.19\n",
       "1     Adventure      2.22"
      ]
     },
     "execution_count": 57,
     "metadata": {},
     "output_type": "execute_result"
    }
   ],
   "source": [
    "df_new.groupby('genre')['jp_sales'].sum().reset_index().sort_values(by='jp_sales', ascending=False).head()"
   ]
  },
  {
   "cell_type": "code",
   "execution_count": 58,
   "metadata": {},
   "outputs": [
    {
     "data": {
      "text/html": [
       "<div>\n",
       "<style scoped>\n",
       "    .dataframe tbody tr th:only-of-type {\n",
       "        vertical-align: middle;\n",
       "    }\n",
       "\n",
       "    .dataframe tbody tr th {\n",
       "        vertical-align: top;\n",
       "    }\n",
       "\n",
       "    .dataframe thead th {\n",
       "        text-align: right;\n",
       "    }\n",
       "</style>\n",
       "<table border=\"1\" class=\"dataframe\">\n",
       "  <thead>\n",
       "    <tr style=\"text-align: right;\">\n",
       "      <th></th>\n",
       "      <th>rating</th>\n",
       "      <th>jp_sales</th>\n",
       "    </tr>\n",
       "  </thead>\n",
       "  <tbody>\n",
       "    <tr>\n",
       "      <td>0</td>\n",
       "      <td>-1</td>\n",
       "      <td>32.89</td>\n",
       "    </tr>\n",
       "    <tr>\n",
       "      <td>4</td>\n",
       "      <td>T</td>\n",
       "      <td>7.70</td>\n",
       "    </tr>\n",
       "    <tr>\n",
       "      <td>1</td>\n",
       "      <td>E</td>\n",
       "      <td>5.25</td>\n",
       "    </tr>\n",
       "    <tr>\n",
       "      <td>3</td>\n",
       "      <td>M</td>\n",
       "      <td>4.29</td>\n",
       "    </tr>\n",
       "    <tr>\n",
       "      <td>2</td>\n",
       "      <td>E10+</td>\n",
       "      <td>3.27</td>\n",
       "    </tr>\n",
       "  </tbody>\n",
       "</table>\n",
       "</div>"
      ],
      "text/plain": [
       "  rating  jp_sales\n",
       "0     -1     32.89\n",
       "4      T      7.70\n",
       "1      E      5.25\n",
       "3      M      4.29\n",
       "2   E10+      3.27"
      ]
     },
     "execution_count": 58,
     "metadata": {},
     "output_type": "execute_result"
    }
   ],
   "source": [
    "df_new.groupby('rating')['jp_sales'].sum().reset_index().sort_values(by='jp_sales', ascending=False).head()\n",
    "#  Методом GROUPBY сгруппируем наши датасеты по ['user_id', 'month']"
   ]
  },
  {
   "cell_type": "markdown",
   "metadata": {},
   "source": [
    "- лидируют совсем другие платформы - 3DS, PS4\n",
    "- самые популярные жанры - Role-Playing, Shooter, Action. В Японии популярные жанры выглядят более безобидно\n",
    "- самые большие продажи у рейтингов -1,  E (для всех) и T (для подростков). "
   ]
  },
  {
   "cell_type": "code",
   "execution_count": 59,
   "metadata": {},
   "outputs": [
    {
     "data": {
      "text/html": [
       "<div>\n",
       "<style scoped>\n",
       "    .dataframe tbody tr th:only-of-type {\n",
       "        vertical-align: middle;\n",
       "    }\n",
       "\n",
       "    .dataframe tbody tr th {\n",
       "        vertical-align: top;\n",
       "    }\n",
       "\n",
       "    .dataframe thead th {\n",
       "        text-align: right;\n",
       "    }\n",
       "</style>\n",
       "<table border=\"1\" class=\"dataframe\">\n",
       "  <thead>\n",
       "    <tr style=\"text-align: right;\">\n",
       "      <th></th>\n",
       "      <th>platform</th>\n",
       "      <th>other_sales</th>\n",
       "    </tr>\n",
       "  </thead>\n",
       "  <tbody>\n",
       "    <tr>\n",
       "      <td>3</td>\n",
       "      <td>PS4</td>\n",
       "      <td>28.70</td>\n",
       "    </tr>\n",
       "    <tr>\n",
       "      <td>9</td>\n",
       "      <td>XOne</td>\n",
       "      <td>7.71</td>\n",
       "    </tr>\n",
       "    <tr>\n",
       "      <td>2</td>\n",
       "      <td>PS3</td>\n",
       "      <td>2.49</td>\n",
       "    </tr>\n",
       "    <tr>\n",
       "      <td>0</td>\n",
       "      <td>3DS</td>\n",
       "      <td>1.67</td>\n",
       "    </tr>\n",
       "    <tr>\n",
       "      <td>7</td>\n",
       "      <td>WiiU</td>\n",
       "      <td>1.48</td>\n",
       "    </tr>\n",
       "  </tbody>\n",
       "</table>\n",
       "</div>"
      ],
      "text/plain": [
       "  platform  other_sales\n",
       "3      PS4        28.70\n",
       "9     XOne         7.71\n",
       "2      PS3         2.49\n",
       "0      3DS         1.67\n",
       "7     WiiU         1.48"
      ]
     },
     "execution_count": 59,
     "metadata": {},
     "output_type": "execute_result"
    }
   ],
   "source": [
    "# Другие страны\n",
    "df_new.groupby('platform')['other_sales'].sum().reset_index().sort_values(by='other_sales', ascending=False).head()"
   ]
  },
  {
   "cell_type": "code",
   "execution_count": 60,
   "metadata": {},
   "outputs": [
    {
     "data": {
      "text/html": [
       "<div>\n",
       "<style scoped>\n",
       "    .dataframe tbody tr th:only-of-type {\n",
       "        vertical-align: middle;\n",
       "    }\n",
       "\n",
       "    .dataframe tbody tr th {\n",
       "        vertical-align: top;\n",
       "    }\n",
       "\n",
       "    .dataframe thead th {\n",
       "        text-align: right;\n",
       "    }\n",
       "</style>\n",
       "<table border=\"1\" class=\"dataframe\">\n",
       "  <thead>\n",
       "    <tr style=\"text-align: right;\">\n",
       "      <th></th>\n",
       "      <th>genre</th>\n",
       "      <th>other_sales</th>\n",
       "    </tr>\n",
       "  </thead>\n",
       "  <tbody>\n",
       "    <tr>\n",
       "      <td>8</td>\n",
       "      <td>Shooter</td>\n",
       "      <td>13.48</td>\n",
       "    </tr>\n",
       "    <tr>\n",
       "      <td>0</td>\n",
       "      <td>Action</td>\n",
       "      <td>10.58</td>\n",
       "    </tr>\n",
       "    <tr>\n",
       "      <td>10</td>\n",
       "      <td>Sports</td>\n",
       "      <td>8.55</td>\n",
       "    </tr>\n",
       "    <tr>\n",
       "      <td>7</td>\n",
       "      <td>Role-Playing</td>\n",
       "      <td>5.38</td>\n",
       "    </tr>\n",
       "    <tr>\n",
       "      <td>2</td>\n",
       "      <td>Fighting</td>\n",
       "      <td>1.57</td>\n",
       "    </tr>\n",
       "  </tbody>\n",
       "</table>\n",
       "</div>"
      ],
      "text/plain": [
       "           genre  other_sales\n",
       "8        Shooter        13.48\n",
       "0         Action        10.58\n",
       "10        Sports         8.55\n",
       "7   Role-Playing         5.38\n",
       "2       Fighting         1.57"
      ]
     },
     "execution_count": 60,
     "metadata": {},
     "output_type": "execute_result"
    }
   ],
   "source": [
    "df_new.groupby('genre')['other_sales'].sum().reset_index().sort_values(by='other_sales', ascending=False).head()"
   ]
  },
  {
   "cell_type": "code",
   "execution_count": 61,
   "metadata": {},
   "outputs": [
    {
     "data": {
      "text/html": [
       "<div>\n",
       "<style scoped>\n",
       "    .dataframe tbody tr th:only-of-type {\n",
       "        vertical-align: middle;\n",
       "    }\n",
       "\n",
       "    .dataframe tbody tr th {\n",
       "        vertical-align: top;\n",
       "    }\n",
       "\n",
       "    .dataframe thead th {\n",
       "        text-align: right;\n",
       "    }\n",
       "</style>\n",
       "<table border=\"1\" class=\"dataframe\">\n",
       "  <thead>\n",
       "    <tr style=\"text-align: right;\">\n",
       "      <th></th>\n",
       "      <th>rating</th>\n",
       "      <th>other_sales</th>\n",
       "    </tr>\n",
       "  </thead>\n",
       "  <tbody>\n",
       "    <tr>\n",
       "      <td>3</td>\n",
       "      <td>M</td>\n",
       "      <td>14.24</td>\n",
       "    </tr>\n",
       "    <tr>\n",
       "      <td>0</td>\n",
       "      <td>-1</td>\n",
       "      <td>11.13</td>\n",
       "    </tr>\n",
       "    <tr>\n",
       "      <td>1</td>\n",
       "      <td>E</td>\n",
       "      <td>8.57</td>\n",
       "    </tr>\n",
       "    <tr>\n",
       "      <td>4</td>\n",
       "      <td>T</td>\n",
       "      <td>6.85</td>\n",
       "    </tr>\n",
       "    <tr>\n",
       "      <td>2</td>\n",
       "      <td>E10+</td>\n",
       "      <td>4.00</td>\n",
       "    </tr>\n",
       "  </tbody>\n",
       "</table>\n",
       "</div>"
      ],
      "text/plain": [
       "  rating  other_sales\n",
       "3      M        14.24\n",
       "0     -1        11.13\n",
       "1      E         8.57\n",
       "4      T         6.85\n",
       "2   E10+         4.00"
      ]
     },
     "execution_count": 61,
     "metadata": {},
     "output_type": "execute_result"
    }
   ],
   "source": [
    "df_new.groupby('rating')['other_sales'].sum().reset_index().sort_values(by='other_sales', ascending=False).head()"
   ]
  },
  {
   "cell_type": "markdown",
   "metadata": {},
   "source": [
    "**Вывод:**\n",
    "    \n",
    "    В Северной Америке и Европе картина примерно одинакова:\n",
    "\n",
    "- лидируют платформы , PS4 и XOne, 3DS с небольшой разницей в распределении продаж.\n",
    "- самые популярные жанры - Action, Sports,Shooter, Misc\n",
    "- с большим отрывом по продажам лидирует рейтинг E (для всех), на втором месте M (18+)\n",
    "- В Японии немного по-другому:\n",
    "\n",
    "- лидируют совсем другие платформы - 3DS, PS4\n",
    "- самые популярные жанры - Role-Playing, Platform, Sports, Misc, Action. В Японии популярные жанры выглядят более безобидно\n",
    "- самые большие продажи у рейтингов E (для всех) и T (для подростков). Похоже, в Японии выбирают более спокойные игры.\n",
    "\n",
    "**Другие страны:**\n",
    "\n",
    "для остальных стран портрет потребителя примерно одинаков с потребителями из СА и Европы. Лидируют те же платформы, жанры и рейтинги. Выходит, Япония - достаточно специфический рынок, к которому нужен особый подход в плане рекламных кампаний. Так как Япония является производителем платформ PS,PSP,3DS. Видимо поэтому вкус у пользователей жанров свойхарактерный,например как: **Role-Playing**,"
   ]
  },
  {
   "cell_type": "markdown",
   "metadata": {},
   "source": [
    "---"
   ]
  },
  {
   "cell_type": "markdown",
   "metadata": {},
   "source": [
    "# Шаг 5. Проверим гипотезы"
   ]
  },
  {
   "cell_type": "markdown",
   "metadata": {},
   "source": [
    "1. Средние пользовательские рейтинги платформ Xbox One и PC одинаковые\n",
    "\n",
    "Сформулируем нулевую и альтернативную гипотезы. Нулевую гипотезу будем формулировать так, чтобы использовать знак равенства. Альтернативную гипотезу сформулируем оттакливаясь от нулевой гипотезы.\n",
    "\n",
    "H₀ - средние пользовательские рейтинги платформ Xbox One и PC равны\n",
    "\n",
    "H₁ - средние пользовательские рейтинги платформ Xbox One и PC не равны"
   ]
  },
  {
   "cell_type": "code",
   "execution_count": 62,
   "metadata": {},
   "outputs": [],
   "source": [
    "#зададим критический уровень статистической значимости\n",
    "alpha = 0.05\n",
    "xone = game_stat_new_filtered.query('platform == \"XOne\"')\n",
    "pc = game_stat_new_filtered.query('platform == \"PC\"')"
   ]
  },
  {
   "cell_type": "code",
   "execution_count": 63,
   "metadata": {},
   "outputs": [
    {
     "name": "stdout",
     "output_type": "stream",
     "text": [
      "p-значение: 0.328025722139469\n",
      "Не получилось отвергнуть нулевую гипотезу\n"
     ]
    }
   ],
   "source": [
    "results = st.ttest_ind(\n",
    "    xone['user_score'],\n",
    "    pc['user_score'],\n",
    ")\n",
    "\n",
    "print('p-значение:', results.pvalue)\n",
    "\n",
    "if (results.pvalue < alpha):\n",
    "    print(\"Отвергаем нулевую гипотезу\")\n",
    "else:\n",
    "    print(\"Не получилось отвергнуть нулевую гипотезу\")"
   ]
  },
  {
   "cell_type": "markdown",
   "metadata": {},
   "source": [
    "**2. Средние пользовательские рейтинги жанров Action (англ. «действие», экшен-игры) и Sports (англ. «спортивные соревнования») разные.**\n",
    "\n",
    "H₀ - средние пользовательские рейтинги жанров Action и Sports равны\n",
    "\n",
    "H₁ - средние пользовательские рейтинги жанров Action и Sports не равны"
   ]
  },
  {
   "cell_type": "code",
   "execution_count": 64,
   "metadata": {},
   "outputs": [],
   "source": [
    "action = game_stat_new_filtered.query('genre == \"Action\"')\n",
    "sports = game_stat_new_filtered.query('genre == \"Sports\"')"
   ]
  },
  {
   "cell_type": "code",
   "execution_count": 65,
   "metadata": {},
   "outputs": [
    {
     "name": "stdout",
     "output_type": "stream",
     "text": [
      "p-значение: 3.5087325539494814e-07\n",
      "Отвергаем нулевую гипотезу\n"
     ]
    }
   ],
   "source": [
    "results = st.ttest_ind(\n",
    "    action['user_score'],\n",
    "    sports['user_score'],\n",
    ")\n",
    "\n",
    "print('p-значение:', results.pvalue)\n",
    "\n",
    "if (results.pvalue < alpha):\n",
    "    print(\"Отвергаем нулевую гипотезу\")\n",
    "else:\n",
    "    print(\"Не получилось отвергнуть нулевую гипотезу\")"
   ]
  },
  {
   "cell_type": "markdown",
   "metadata": {},
   "source": [
    "**Вывод:** Проверили две гипотезы:\n",
    "\n",
    "средние пользовательские рейтинги платформ Xbox One и PC равны\n",
    "\n",
    "средние пользовательские рейтинги жанров Action и Sports не равны\n"
   ]
  },
  {
   "cell_type": "markdown",
   "metadata": {},
   "source": [
    "# Шаг 6. Общий вывод"
   ]
  },
  {
   "cell_type": "markdown",
   "metadata": {},
   "source": [
    "В ходе работы:\n",
    "\n",
    " - ознакомились с предоставленными данными, выявили ошибки и пропуски в датасете и обработали их: привели названия столбцов к нижнему регистру, преобразовали данные в нужные типы, заполнили пропуски, посчитали суммарные продажи во всех регионах и добавили в датасет.\n",
    "\n",
    "- провели исследовательский анализ данных, выделили срез данных за 2015-2016 гг\n",
    "\n",
    "- нашли 10 платформ-лидеров по продажам: XOne, PS4, 3DS, WiiU, PS3, PC, X360, PSV, PSP\n",
    "\n",
    "- Выяснили, что:\n",
    "\n",
    "- На примере PS4,XOne,3DS рассмотрели корреляцию оценка критика/выручка и оценка пользователя/выручка и пришли к выводу, что отзывы критиков в большей степени влияют на продажи, чем отзывы пользователей.\n",
    "\n",
    "- Больше всего выручка у платформы при оценке критиков 60 и выше.\n",
    "\n",
    "- Самыми прибыльными оказались жанры Shooter.\n",
    "\n",
    "- Самые низкие сборы у жанров Puzzle.\n",
    "\n",
    "- Составили портрет пользователей в Северной Америке, Европе и Японии:\n",
    "\n",
    "- В Северной Америке и Европе картина примерно одинакова:\n",
    "\n",
    "лидируют платформы XOne, 3DS, PS4 с небольшой разницей в распределении продаж.\n",
    "самые популярные жанры - Action, Sports,Shooter, Misc\n",
    "с большим отрывом по продажам лидирует рейтинг E (для всех), на втором месте M (18+)\n",
    "- В Японии немного по-другому:\n",
    "\n",
    "лидируют совсем другие платформы - 3DS,PS4\n",
    "самые популярные жанры - Role-Playing, Platform, Sports, Misc, Action. В Японии популярные жанры выглядят более безобидно\n",
    "самые большие продажи у рейтингов -1, E (для всех) и T (для подростков). Похоже, в Японии выбирают более спокойные игры.\n",
    " - Другие страны:\n",
    "\n",
    "для остальных стран портрет потребителя примерно одинаков с потребителями из СА и Европы. Лидируют те же платформы, жанры и рейтинги. Выходит, Япония - достаточно специфический рынок, к которому нужен особый подход в плане рекламных кампаний."
   ]
  },
  {
   "cell_type": "markdown",
   "metadata": {},
   "source": [
    "- Проверили следующие две гипотезы и первую отвергли,вторую нет (всё же разница между пользовательскими рейтингами платформ и жанров есть):\n",
    "\n",
    "**средние пользовательские рейтинги платформ Xbox One и PC равны**\n",
    "\n",
    "**средние пользовательские рейтинги жанров Action и Sports  не равны**"
   ]
  },
  {
   "cell_type": "markdown",
   "metadata": {},
   "source": [
    "Планируя рекламную кампанию на 2017 год стоит обратить особое внимание на продвижение платформы PS4 (возможности её моификации и выпуска эксклюзивных игр), а также платформ XOne и 3DS, и в особенности игр в жанрах Action, Sports, Shooter.\n",
    "\n",
    "Стоит также не забывать об особенностях рынка и подстроить рекламу конкретно под него. На примере Японии мы разобрали, как требования потребителей одной страны могут отличаться от предпочтений основной массы пользователей"
   ]
  }
 ],
 "metadata": {
  "ExecuteTimeLog": [
   {
    "duration": 1112,
    "start_time": "2021-12-12T12:48:46.871Z"
   },
   {
    "duration": 36,
    "start_time": "2021-12-12T12:49:37.144Z"
   },
   {
    "duration": 21,
    "start_time": "2021-12-12T12:49:41.711Z"
   },
   {
    "duration": 12,
    "start_time": "2021-12-12T12:52:36.447Z"
   },
   {
    "duration": 12,
    "start_time": "2021-12-12T12:52:46.771Z"
   },
   {
    "duration": 334,
    "start_time": "2021-12-12T12:52:58.375Z"
   },
   {
    "duration": 27,
    "start_time": "2021-12-12T12:53:18.815Z"
   },
   {
    "duration": 91,
    "start_time": "2021-12-12T14:41:58.411Z"
   },
   {
    "duration": 306,
    "start_time": "2021-12-12T14:45:46.560Z"
   },
   {
    "duration": 1226,
    "start_time": "2021-12-12T14:47:40.260Z"
   },
   {
    "duration": 3,
    "start_time": "2021-12-12T14:47:53.994Z"
   },
   {
    "duration": 37,
    "start_time": "2021-12-12T14:47:54.190Z"
   },
   {
    "duration": 16,
    "start_time": "2021-12-12T14:47:54.922Z"
   },
   {
    "duration": 11,
    "start_time": "2021-12-12T14:47:56.087Z"
   },
   {
    "duration": 29,
    "start_time": "2021-12-12T14:47:56.733Z"
   },
   {
    "duration": 7612,
    "start_time": "2021-12-12T14:47:58.247Z"
   },
   {
    "duration": 9377,
    "start_time": "2021-12-12T14:48:13.876Z"
   },
   {
    "duration": 4,
    "start_time": "2021-12-12T14:49:40.689Z"
   },
   {
    "duration": 3,
    "start_time": "2021-12-12T14:50:48.486Z"
   },
   {
    "duration": 4,
    "start_time": "2021-12-12T14:50:58.070Z"
   },
   {
    "duration": 5,
    "start_time": "2021-12-12T14:51:30.842Z"
   },
   {
    "duration": 9,
    "start_time": "2021-12-12T14:51:51.898Z"
   },
   {
    "duration": 424,
    "start_time": "2021-12-12T14:58:32.541Z"
   },
   {
    "duration": 284,
    "start_time": "2021-12-12T15:00:15.293Z"
   },
   {
    "duration": 8,
    "start_time": "2021-12-12T15:00:53.665Z"
   },
   {
    "duration": 24,
    "start_time": "2021-12-12T15:01:01.492Z"
   },
   {
    "duration": 14,
    "start_time": "2021-12-12T15:01:36.402Z"
   },
   {
    "duration": 5,
    "start_time": "2021-12-12T15:02:41.755Z"
   },
   {
    "duration": 2,
    "start_time": "2021-12-12T15:02:41.982Z"
   },
   {
    "duration": 10,
    "start_time": "2021-12-12T15:02:43.007Z"
   },
   {
    "duration": 14,
    "start_time": "2021-12-12T15:04:47.199Z"
   },
   {
    "duration": 14,
    "start_time": "2021-12-12T15:04:57.032Z"
   },
   {
    "duration": 9,
    "start_time": "2021-12-12T15:05:18.020Z"
   },
   {
    "duration": 16,
    "start_time": "2021-12-12T15:10:47.054Z"
   },
   {
    "duration": 25,
    "start_time": "2021-12-12T15:10:57.161Z"
   },
   {
    "duration": 25,
    "start_time": "2021-12-12T15:11:39.901Z"
   },
   {
    "duration": 23,
    "start_time": "2021-12-12T15:11:57.846Z"
   },
   {
    "duration": 425,
    "start_time": "2021-12-12T15:13:04.963Z"
   },
   {
    "duration": 10,
    "start_time": "2021-12-12T15:15:04.167Z"
   },
   {
    "duration": 26,
    "start_time": "2021-12-12T15:15:14.768Z"
   },
   {
    "duration": 17,
    "start_time": "2021-12-12T15:15:22.824Z"
   },
   {
    "duration": 32,
    "start_time": "2021-12-12T15:15:30.058Z"
   },
   {
    "duration": 24,
    "start_time": "2021-12-12T15:16:47.361Z"
   },
   {
    "duration": 326,
    "start_time": "2021-12-12T15:18:28.964Z"
   },
   {
    "duration": 20,
    "start_time": "2021-12-12T15:18:43.197Z"
   },
   {
    "duration": 302,
    "start_time": "2021-12-12T15:19:32.528Z"
   },
   {
    "duration": 281,
    "start_time": "2021-12-12T15:19:47.596Z"
   },
   {
    "duration": 264,
    "start_time": "2021-12-12T15:20:00.821Z"
   },
   {
    "duration": 18,
    "start_time": "2021-12-12T15:21:37.078Z"
   },
   {
    "duration": 6723,
    "start_time": "2021-12-12T15:22:03.719Z"
   },
   {
    "duration": 1233,
    "start_time": "2021-12-12T15:22:26.397Z"
   },
   {
    "duration": 42,
    "start_time": "2021-12-12T15:22:27.632Z"
   },
   {
    "duration": 15,
    "start_time": "2021-12-12T15:22:27.677Z"
   },
   {
    "duration": 52,
    "start_time": "2021-12-12T15:22:27.694Z"
   },
   {
    "duration": 42,
    "start_time": "2021-12-12T15:22:27.747Z"
   },
   {
    "duration": 21,
    "start_time": "2021-12-12T15:22:27.791Z"
   },
   {
    "duration": 33,
    "start_time": "2021-12-12T15:22:27.814Z"
   },
   {
    "duration": 50,
    "start_time": "2021-12-12T15:22:27.849Z"
   },
   {
    "duration": 23,
    "start_time": "2021-12-12T15:22:27.901Z"
   },
   {
    "duration": 17,
    "start_time": "2021-12-12T15:26:21.621Z"
   },
   {
    "duration": 6,
    "start_time": "2021-12-12T15:28:42.613Z"
   },
   {
    "duration": 7,
    "start_time": "2021-12-12T15:28:54.168Z"
   },
   {
    "duration": 6,
    "start_time": "2021-12-12T15:29:18.665Z"
   },
   {
    "duration": 7,
    "start_time": "2021-12-12T15:29:40.412Z"
   },
   {
    "duration": 6,
    "start_time": "2021-12-12T15:30:50.855Z"
   },
   {
    "duration": 445,
    "start_time": "2021-12-12T15:31:12.432Z"
   },
   {
    "duration": 8,
    "start_time": "2021-12-12T15:31:22.679Z"
   },
   {
    "duration": 6,
    "start_time": "2021-12-12T15:31:35.809Z"
   },
   {
    "duration": 5,
    "start_time": "2021-12-12T15:31:54.849Z"
   },
   {
    "duration": 20,
    "start_time": "2021-12-12T15:32:17.900Z"
   },
   {
    "duration": 18,
    "start_time": "2021-12-12T15:33:04.637Z"
   },
   {
    "duration": 17,
    "start_time": "2021-12-12T15:33:13.683Z"
   },
   {
    "duration": 27,
    "start_time": "2021-12-12T15:33:22.480Z"
   },
   {
    "duration": 17,
    "start_time": "2021-12-12T15:33:34.079Z"
   },
   {
    "duration": 13,
    "start_time": "2021-12-12T15:36:39.692Z"
   },
   {
    "duration": 6,
    "start_time": "2021-12-12T15:40:07.852Z"
   },
   {
    "duration": 6,
    "start_time": "2021-12-12T15:40:44.114Z"
   },
   {
    "duration": 9,
    "start_time": "2021-12-12T15:43:48.559Z"
   },
   {
    "duration": 271,
    "start_time": "2021-12-12T15:44:08.861Z"
   },
   {
    "duration": 358,
    "start_time": "2021-12-12T15:44:18.544Z"
   },
   {
    "duration": 15,
    "start_time": "2021-12-12T15:44:39.905Z"
   },
   {
    "duration": 14,
    "start_time": "2021-12-12T15:45:05.193Z"
   },
   {
    "duration": 9,
    "start_time": "2021-12-12T15:45:21.593Z"
   },
   {
    "duration": 9,
    "start_time": "2021-12-12T15:45:27.862Z"
   },
   {
    "duration": 19,
    "start_time": "2021-12-12T15:45:35.902Z"
   },
   {
    "duration": 9,
    "start_time": "2021-12-12T15:46:03.698Z"
   },
   {
    "duration": 10,
    "start_time": "2021-12-12T15:46:28.005Z"
   },
   {
    "duration": 8,
    "start_time": "2021-12-12T15:46:47.158Z"
   },
   {
    "duration": 14,
    "start_time": "2021-12-12T15:53:30.786Z"
   },
   {
    "duration": 4,
    "start_time": "2021-12-12T15:54:04.774Z"
   },
   {
    "duration": 5,
    "start_time": "2021-12-12T15:55:00.932Z"
   },
   {
    "duration": 6,
    "start_time": "2021-12-12T15:55:21.945Z"
   },
   {
    "duration": 388,
    "start_time": "2021-12-13T07:17:41.070Z"
   },
   {
    "duration": 1206,
    "start_time": "2021-12-13T07:17:48.229Z"
   },
   {
    "duration": 44,
    "start_time": "2021-12-13T07:17:49.437Z"
   },
   {
    "duration": 14,
    "start_time": "2021-12-13T07:17:49.484Z"
   },
   {
    "duration": 10,
    "start_time": "2021-12-13T07:17:49.507Z"
   },
   {
    "duration": 28,
    "start_time": "2021-12-13T07:17:49.519Z"
   },
   {
    "duration": 5,
    "start_time": "2021-12-13T07:17:49.548Z"
   },
   {
    "duration": 20,
    "start_time": "2021-12-13T07:17:49.555Z"
   },
   {
    "duration": 33,
    "start_time": "2021-12-13T07:17:49.577Z"
   },
   {
    "duration": 17,
    "start_time": "2021-12-13T07:17:49.612Z"
   },
   {
    "duration": 13,
    "start_time": "2021-12-13T07:17:49.631Z"
   },
   {
    "duration": -1002,
    "start_time": "2021-12-13T07:18:00.597Z"
   },
   {
    "duration": -1003,
    "start_time": "2021-12-13T07:18:00.599Z"
   },
   {
    "duration": 14,
    "start_time": "2021-12-13T07:18:05.389Z"
   },
   {
    "duration": 405,
    "start_time": "2021-12-13T07:21:18.665Z"
   },
   {
    "duration": 9,
    "start_time": "2021-12-13T07:21:33.363Z"
   },
   {
    "duration": 11,
    "start_time": "2021-12-13T07:22:06.272Z"
   },
   {
    "duration": 10,
    "start_time": "2021-12-13T07:23:31.273Z"
   },
   {
    "duration": 12,
    "start_time": "2021-12-13T07:23:35.540Z"
   },
   {
    "duration": 11,
    "start_time": "2021-12-13T07:23:35.984Z"
   },
   {
    "duration": 477,
    "start_time": "2021-12-13T07:23:46.195Z"
   },
   {
    "duration": 15,
    "start_time": "2021-12-13T07:25:26.582Z"
   },
   {
    "duration": 13,
    "start_time": "2021-12-13T07:26:32.731Z"
   },
   {
    "duration": 363,
    "start_time": "2021-12-13T07:31:53.722Z"
   },
   {
    "duration": 12,
    "start_time": "2021-12-13T07:32:27.985Z"
   },
   {
    "duration": 6,
    "start_time": "2021-12-13T07:42:04.804Z"
   },
   {
    "duration": 9,
    "start_time": "2021-12-13T07:42:28.206Z"
   },
   {
    "duration": 8,
    "start_time": "2021-12-13T07:42:56.205Z"
   },
   {
    "duration": 352,
    "start_time": "2021-12-13T07:43:04.238Z"
   },
   {
    "duration": 10,
    "start_time": "2021-12-13T07:43:07.347Z"
   },
   {
    "duration": 9,
    "start_time": "2021-12-13T07:43:24.132Z"
   },
   {
    "duration": 10,
    "start_time": "2021-12-13T07:43:30.804Z"
   },
   {
    "duration": 9,
    "start_time": "2021-12-13T07:43:38.646Z"
   },
   {
    "duration": 9,
    "start_time": "2021-12-13T07:43:47.775Z"
   },
   {
    "duration": 12,
    "start_time": "2021-12-13T07:44:25.888Z"
   },
   {
    "duration": 11,
    "start_time": "2021-12-13T07:44:45.167Z"
   },
   {
    "duration": 11,
    "start_time": "2021-12-13T07:45:05.585Z"
   },
   {
    "duration": 11,
    "start_time": "2021-12-13T07:45:06.182Z"
   },
   {
    "duration": 12,
    "start_time": "2021-12-13T07:45:08.886Z"
   },
   {
    "duration": 16,
    "start_time": "2021-12-13T07:47:33.652Z"
   },
   {
    "duration": 35,
    "start_time": "2021-12-13T07:48:01.031Z"
   },
   {
    "duration": 10,
    "start_time": "2021-12-13T07:55:32.945Z"
   },
   {
    "duration": 7,
    "start_time": "2021-12-13T07:56:07.350Z"
   },
   {
    "duration": 7,
    "start_time": "2021-12-13T07:56:37.204Z"
   },
   {
    "duration": 8,
    "start_time": "2021-12-13T07:56:47.414Z"
   },
   {
    "duration": 10,
    "start_time": "2021-12-13T07:56:57.264Z"
   },
   {
    "duration": 1164,
    "start_time": "2021-12-13T07:57:16.139Z"
   },
   {
    "duration": 38,
    "start_time": "2021-12-13T07:57:17.305Z"
   },
   {
    "duration": 15,
    "start_time": "2021-12-13T07:57:17.345Z"
   },
   {
    "duration": 11,
    "start_time": "2021-12-13T07:57:17.362Z"
   },
   {
    "duration": 44,
    "start_time": "2021-12-13T07:57:17.375Z"
   },
   {
    "duration": 5,
    "start_time": "2021-12-13T07:57:17.420Z"
   },
   {
    "duration": 19,
    "start_time": "2021-12-13T07:57:17.427Z"
   },
   {
    "duration": 11,
    "start_time": "2021-12-13T07:57:17.449Z"
   },
   {
    "duration": 16,
    "start_time": "2021-12-13T07:57:17.463Z"
   },
   {
    "duration": 7,
    "start_time": "2021-12-13T07:57:17.507Z"
   },
   {
    "duration": 12,
    "start_time": "2021-12-13T07:57:17.515Z"
   },
   {
    "duration": 10,
    "start_time": "2021-12-13T07:57:17.529Z"
   },
   {
    "duration": 11,
    "start_time": "2021-12-13T07:57:42.973Z"
   },
   {
    "duration": 13,
    "start_time": "2021-12-13T07:58:25.395Z"
   },
   {
    "duration": 12,
    "start_time": "2021-12-13T07:58:27.388Z"
   },
   {
    "duration": 12,
    "start_time": "2021-12-13T07:58:44.694Z"
   },
   {
    "duration": 12,
    "start_time": "2021-12-13T07:58:55.800Z"
   },
   {
    "duration": 11,
    "start_time": "2021-12-13T07:58:57.641Z"
   },
   {
    "duration": 11,
    "start_time": "2021-12-13T08:01:55.479Z"
   },
   {
    "duration": 426,
    "start_time": "2021-12-13T08:04:57.407Z"
   },
   {
    "duration": 349,
    "start_time": "2021-12-13T08:05:09.328Z"
   },
   {
    "duration": 355,
    "start_time": "2021-12-13T08:05:23.913Z"
   },
   {
    "duration": 348,
    "start_time": "2021-12-13T08:06:10.954Z"
   },
   {
    "duration": 13,
    "start_time": "2021-12-13T08:08:18.732Z"
   },
   {
    "duration": 12,
    "start_time": "2021-12-13T08:08:32.973Z"
   },
   {
    "duration": -422,
    "start_time": "2021-12-13T08:09:16.462Z"
   },
   {
    "duration": 1144,
    "start_time": "2021-12-13T08:09:28.304Z"
   },
   {
    "duration": 38,
    "start_time": "2021-12-13T08:09:29.449Z"
   },
   {
    "duration": 15,
    "start_time": "2021-12-13T08:09:29.489Z"
   },
   {
    "duration": 16,
    "start_time": "2021-12-13T08:09:29.506Z"
   },
   {
    "duration": 27,
    "start_time": "2021-12-13T08:09:29.523Z"
   },
   {
    "duration": 4,
    "start_time": "2021-12-13T08:09:29.552Z"
   },
   {
    "duration": 20,
    "start_time": "2021-12-13T08:09:29.557Z"
   },
   {
    "duration": 33,
    "start_time": "2021-12-13T08:09:29.579Z"
   },
   {
    "duration": 18,
    "start_time": "2021-12-13T08:09:29.615Z"
   },
   {
    "duration": 13,
    "start_time": "2021-12-13T08:09:29.635Z"
   },
   {
    "duration": 16,
    "start_time": "2021-12-13T08:09:29.650Z"
   },
   {
    "duration": 4,
    "start_time": "2021-12-13T08:09:29.668Z"
   },
   {
    "duration": 37,
    "start_time": "2021-12-13T08:09:29.674Z"
   },
   {
    "duration": 5,
    "start_time": "2021-12-13T08:10:02.999Z"
   },
   {
    "duration": 1121,
    "start_time": "2021-12-13T08:10:56.505Z"
   },
   {
    "duration": 37,
    "start_time": "2021-12-13T08:10:57.628Z"
   },
   {
    "duration": 14,
    "start_time": "2021-12-13T08:10:57.667Z"
   },
   {
    "duration": 10,
    "start_time": "2021-12-13T08:10:57.683Z"
   },
   {
    "duration": 36,
    "start_time": "2021-12-13T08:10:57.695Z"
   },
   {
    "duration": 5,
    "start_time": "2021-12-13T08:10:57.732Z"
   },
   {
    "duration": 19,
    "start_time": "2021-12-13T08:10:57.739Z"
   },
   {
    "duration": 8,
    "start_time": "2021-12-13T08:10:57.759Z"
   },
   {
    "duration": 40,
    "start_time": "2021-12-13T08:10:57.770Z"
   },
   {
    "duration": 14,
    "start_time": "2021-12-13T08:10:57.812Z"
   },
   {
    "duration": 15,
    "start_time": "2021-12-13T08:10:57.828Z"
   },
   {
    "duration": 5,
    "start_time": "2021-12-13T08:10:57.845Z"
   },
   {
    "duration": 11,
    "start_time": "2021-12-13T08:10:57.851Z"
   },
   {
    "duration": 5,
    "start_time": "2021-12-13T08:11:29.889Z"
   },
   {
    "duration": 5,
    "start_time": "2021-12-13T08:11:44.429Z"
   },
   {
    "duration": 4,
    "start_time": "2021-12-13T08:11:52.603Z"
   },
   {
    "duration": 4,
    "start_time": "2021-12-13T08:11:57.357Z"
   },
   {
    "duration": 5,
    "start_time": "2021-12-13T08:18:09.278Z"
   },
   {
    "duration": 4,
    "start_time": "2021-12-13T08:18:43.540Z"
   },
   {
    "duration": 21,
    "start_time": "2021-12-13T08:18:50.442Z"
   },
   {
    "duration": 438,
    "start_time": "2021-12-13T08:34:02.837Z"
   },
   {
    "duration": 15,
    "start_time": "2021-12-13T08:34:23.954Z"
   },
   {
    "duration": 17,
    "start_time": "2021-12-13T08:35:06.097Z"
   },
   {
    "duration": 8963,
    "start_time": "2021-12-13T08:37:48.525Z"
   },
   {
    "duration": 16,
    "start_time": "2021-12-13T08:38:35.118Z"
   },
   {
    "duration": 5,
    "start_time": "2021-12-13T08:41:30.730Z"
   },
   {
    "duration": 2,
    "start_time": "2021-12-13T08:43:20.105Z"
   },
   {
    "duration": 15,
    "start_time": "2021-12-13T08:48:30.081Z"
   },
   {
    "duration": 1115,
    "start_time": "2021-12-13T08:48:55.320Z"
   },
   {
    "duration": 39,
    "start_time": "2021-12-13T08:48:56.437Z"
   },
   {
    "duration": 15,
    "start_time": "2021-12-13T08:48:56.478Z"
   },
   {
    "duration": 12,
    "start_time": "2021-12-13T08:48:56.495Z"
   },
   {
    "duration": 28,
    "start_time": "2021-12-13T08:48:56.508Z"
   },
   {
    "duration": 4,
    "start_time": "2021-12-13T08:48:56.538Z"
   },
   {
    "duration": 24,
    "start_time": "2021-12-13T08:48:56.543Z"
   },
   {
    "duration": 38,
    "start_time": "2021-12-13T08:48:56.569Z"
   },
   {
    "duration": 16,
    "start_time": "2021-12-13T08:48:56.610Z"
   },
   {
    "duration": 12,
    "start_time": "2021-12-13T08:48:56.628Z"
   },
   {
    "duration": 13,
    "start_time": "2021-12-13T08:48:56.641Z"
   },
   {
    "duration": 4,
    "start_time": "2021-12-13T08:48:56.656Z"
   },
   {
    "duration": 46,
    "start_time": "2021-12-13T08:48:56.662Z"
   },
   {
    "duration": 13,
    "start_time": "2021-12-13T08:49:21.126Z"
   },
   {
    "duration": 1112,
    "start_time": "2021-12-13T08:49:29.546Z"
   },
   {
    "duration": 39,
    "start_time": "2021-12-13T08:49:30.660Z"
   },
   {
    "duration": 15,
    "start_time": "2021-12-13T08:49:30.701Z"
   },
   {
    "duration": 15,
    "start_time": "2021-12-13T08:49:30.718Z"
   },
   {
    "duration": 32,
    "start_time": "2021-12-13T08:49:30.735Z"
   },
   {
    "duration": 5,
    "start_time": "2021-12-13T08:49:30.769Z"
   },
   {
    "duration": 41,
    "start_time": "2021-12-13T08:49:30.776Z"
   },
   {
    "duration": 9,
    "start_time": "2021-12-13T08:49:30.818Z"
   },
   {
    "duration": 17,
    "start_time": "2021-12-13T08:49:30.829Z"
   },
   {
    "duration": 22,
    "start_time": "2021-12-13T08:49:30.848Z"
   },
   {
    "duration": 35,
    "start_time": "2021-12-13T08:49:30.872Z"
   },
   {
    "duration": 5,
    "start_time": "2021-12-13T08:49:30.909Z"
   },
   {
    "duration": 23,
    "start_time": "2021-12-13T08:49:30.916Z"
   },
   {
    "duration": 432,
    "start_time": "2021-12-13T08:56:52.571Z"
   },
   {
    "duration": 184,
    "start_time": "2021-12-13T08:57:17.274Z"
   },
   {
    "duration": 212,
    "start_time": "2021-12-13T08:57:52.039Z"
   },
   {
    "duration": 198,
    "start_time": "2021-12-13T08:58:19.292Z"
   },
   {
    "duration": 190,
    "start_time": "2021-12-13T08:58:28.197Z"
   },
   {
    "duration": 183,
    "start_time": "2021-12-13T08:58:42.933Z"
   },
   {
    "duration": 200,
    "start_time": "2021-12-13T09:00:25.623Z"
   },
   {
    "duration": 9,
    "start_time": "2021-12-13T09:01:07.048Z"
   },
   {
    "duration": 249,
    "start_time": "2021-12-13T09:01:25.011Z"
   },
   {
    "duration": 15,
    "start_time": "2021-12-13T09:09:47.373Z"
   },
   {
    "duration": 243,
    "start_time": "2021-12-13T09:18:30.934Z"
   },
   {
    "duration": 282,
    "start_time": "2021-12-13T09:20:06.505Z"
   },
   {
    "duration": 10,
    "start_time": "2021-12-13T09:24:02.831Z"
   },
   {
    "duration": 10,
    "start_time": "2021-12-13T09:24:13.910Z"
   },
   {
    "duration": 178,
    "start_time": "2021-12-13T09:24:22.567Z"
   },
   {
    "duration": 109,
    "start_time": "2021-12-13T09:28:32.742Z"
   },
   {
    "duration": 41,
    "start_time": "2021-12-13T09:30:03.766Z"
   },
   {
    "duration": 710,
    "start_time": "2021-12-13T09:45:14.542Z"
   },
   {
    "duration": 354,
    "start_time": "2021-12-13T09:45:55.678Z"
   },
   {
    "duration": 341,
    "start_time": "2021-12-13T09:47:45.517Z"
   },
   {
    "duration": 23,
    "start_time": "2021-12-13T09:48:27.167Z"
   },
   {
    "duration": 14,
    "start_time": "2021-12-13T09:50:40.080Z"
   },
   {
    "duration": 11,
    "start_time": "2021-12-13T09:51:24.223Z"
   },
   {
    "duration": 11,
    "start_time": "2021-12-13T09:51:42.840Z"
   },
   {
    "duration": 14,
    "start_time": "2021-12-13T09:51:48.712Z"
   },
   {
    "duration": 30,
    "start_time": "2021-12-13T09:58:58.260Z"
   },
   {
    "duration": 36,
    "start_time": "2021-12-13T09:59:14.222Z"
   },
   {
    "duration": 28,
    "start_time": "2021-12-13T09:59:23.579Z"
   },
   {
    "duration": 3,
    "start_time": "2021-12-13T10:00:26.866Z"
   },
   {
    "duration": 314,
    "start_time": "2021-12-13T10:00:54.285Z"
   },
   {
    "duration": 29,
    "start_time": "2021-12-13T11:17:04.902Z"
   },
   {
    "duration": 263,
    "start_time": "2021-12-13T11:18:16.793Z"
   },
   {
    "duration": 149,
    "start_time": "2021-12-13T11:19:19.248Z"
   },
   {
    "duration": 132,
    "start_time": "2021-12-13T11:20:35.063Z"
   },
   {
    "duration": 889,
    "start_time": "2021-12-13T11:22:17.376Z"
   },
   {
    "duration": 207,
    "start_time": "2021-12-13T11:22:34.451Z"
   },
   {
    "duration": 220,
    "start_time": "2021-12-13T11:23:15.170Z"
   },
   {
    "duration": 1892,
    "start_time": "2021-12-13T11:24:14.459Z"
   },
   {
    "duration": 39,
    "start_time": "2021-12-13T11:24:16.354Z"
   },
   {
    "duration": 16,
    "start_time": "2021-12-13T11:24:16.395Z"
   },
   {
    "duration": 12,
    "start_time": "2021-12-13T11:24:16.413Z"
   },
   {
    "duration": 31,
    "start_time": "2021-12-13T11:24:16.427Z"
   },
   {
    "duration": 5,
    "start_time": "2021-12-13T11:24:16.460Z"
   },
   {
    "duration": 57,
    "start_time": "2021-12-13T11:24:16.467Z"
   },
   {
    "duration": 9,
    "start_time": "2021-12-13T11:24:16.528Z"
   },
   {
    "duration": 17,
    "start_time": "2021-12-13T11:24:16.539Z"
   },
   {
    "duration": 16,
    "start_time": "2021-12-13T11:24:16.559Z"
   },
   {
    "duration": 42,
    "start_time": "2021-12-13T11:24:16.577Z"
   },
   {
    "duration": 6,
    "start_time": "2021-12-13T11:24:16.621Z"
   },
   {
    "duration": 18,
    "start_time": "2021-12-13T11:24:16.628Z"
   },
   {
    "duration": 239,
    "start_time": "2021-12-13T11:24:16.648Z"
   },
   {
    "duration": 213,
    "start_time": "2021-12-13T11:24:16.888Z"
   },
   {
    "duration": 41,
    "start_time": "2021-12-13T11:24:17.107Z"
   },
   {
    "duration": 14,
    "start_time": "2021-12-13T11:24:17.150Z"
   },
   {
    "duration": 56,
    "start_time": "2021-12-13T11:24:17.167Z"
   },
   {
    "duration": 170,
    "start_time": "2021-12-13T11:24:17.225Z"
   },
   {
    "duration": 156,
    "start_time": "2021-12-13T11:24:17.397Z"
   },
   {
    "duration": 222,
    "start_time": "2021-12-13T11:24:17.555Z"
   },
   {
    "duration": 416,
    "start_time": "2021-12-13T11:27:35.922Z"
   },
   {
    "duration": 111,
    "start_time": "2021-12-13T11:27:54.701Z"
   },
   {
    "duration": 115,
    "start_time": "2021-12-13T11:28:16.724Z"
   },
   {
    "duration": 8,
    "start_time": "2021-12-13T11:28:26.749Z"
   },
   {
    "duration": 478,
    "start_time": "2021-12-13T11:28:29.391Z"
   },
   {
    "duration": 10,
    "start_time": "2021-12-13T11:30:04.899Z"
   },
   {
    "duration": 10,
    "start_time": "2021-12-13T11:30:15.629Z"
   },
   {
    "duration": 314,
    "start_time": "2021-12-13T11:30:16.221Z"
   },
   {
    "duration": 15,
    "start_time": "2021-12-13T11:30:38.050Z"
   },
   {
    "duration": 1314,
    "start_time": "2021-12-13T11:31:35.314Z"
   },
   {
    "duration": 4,
    "start_time": "2021-12-13T11:34:34.539Z"
   },
   {
    "duration": 5,
    "start_time": "2021-12-13T11:36:11.332Z"
   },
   {
    "duration": 10,
    "start_time": "2021-12-13T11:36:12.201Z"
   },
   {
    "duration": 12,
    "start_time": "2021-12-13T11:36:23.382Z"
   },
   {
    "duration": 12,
    "start_time": "2021-12-13T11:36:42.556Z"
   },
   {
    "duration": 5,
    "start_time": "2021-12-13T11:38:57.472Z"
   },
   {
    "duration": 5,
    "start_time": "2021-12-13T11:39:05.555Z"
   },
   {
    "duration": 342,
    "start_time": "2021-12-13T11:39:54.207Z"
   },
   {
    "duration": 10913,
    "start_time": "2021-12-13T11:40:02.843Z"
   },
   {
    "duration": 2056,
    "start_time": "2021-12-13T11:41:09.093Z"
   },
   {
    "duration": 1270,
    "start_time": "2021-12-13T11:41:21.360Z"
   },
   {
    "duration": 38,
    "start_time": "2021-12-13T11:41:22.632Z"
   },
   {
    "duration": 15,
    "start_time": "2021-12-13T11:41:22.672Z"
   },
   {
    "duration": 11,
    "start_time": "2021-12-13T11:41:22.689Z"
   },
   {
    "duration": 32,
    "start_time": "2021-12-13T11:41:22.706Z"
   },
   {
    "duration": 4,
    "start_time": "2021-12-13T11:41:22.740Z"
   },
   {
    "duration": 23,
    "start_time": "2021-12-13T11:41:22.746Z"
   },
   {
    "duration": 4,
    "start_time": "2021-12-13T11:41:22.772Z"
   },
   {
    "duration": 9065,
    "start_time": "2021-12-13T11:41:22.778Z"
   },
   {
    "duration": 311,
    "start_time": "2021-12-13T11:41:31.535Z"
   },
   {
    "duration": 310,
    "start_time": "2021-12-13T11:41:31.538Z"
   },
   {
    "duration": 307,
    "start_time": "2021-12-13T11:41:31.542Z"
   },
   {
    "duration": 306,
    "start_time": "2021-12-13T11:41:31.545Z"
   },
   {
    "duration": 305,
    "start_time": "2021-12-13T11:41:31.547Z"
   },
   {
    "duration": 305,
    "start_time": "2021-12-13T11:41:31.549Z"
   },
   {
    "duration": 304,
    "start_time": "2021-12-13T11:41:31.551Z"
   },
   {
    "duration": 302,
    "start_time": "2021-12-13T11:41:31.554Z"
   },
   {
    "duration": 301,
    "start_time": "2021-12-13T11:41:31.557Z"
   },
   {
    "duration": 301,
    "start_time": "2021-12-13T11:41:31.559Z"
   },
   {
    "duration": 301,
    "start_time": "2021-12-13T11:41:31.561Z"
   },
   {
    "duration": 299,
    "start_time": "2021-12-13T11:41:31.564Z"
   },
   {
    "duration": 297,
    "start_time": "2021-12-13T11:41:31.568Z"
   },
   {
    "duration": 296,
    "start_time": "2021-12-13T11:41:31.570Z"
   },
   {
    "duration": 294,
    "start_time": "2021-12-13T11:41:31.573Z"
   },
   {
    "duration": 294,
    "start_time": "2021-12-13T11:41:31.575Z"
   },
   {
    "duration": 292,
    "start_time": "2021-12-13T11:41:31.578Z"
   },
   {
    "duration": 4,
    "start_time": "2021-12-13T11:42:11.460Z"
   },
   {
    "duration": 1193,
    "start_time": "2021-12-13T11:42:18.064Z"
   },
   {
    "duration": 40,
    "start_time": "2021-12-13T11:42:19.259Z"
   },
   {
    "duration": 18,
    "start_time": "2021-12-13T11:42:19.301Z"
   },
   {
    "duration": 14,
    "start_time": "2021-12-13T11:42:19.321Z"
   },
   {
    "duration": 31,
    "start_time": "2021-12-13T11:42:19.337Z"
   },
   {
    "duration": 4,
    "start_time": "2021-12-13T11:42:19.370Z"
   },
   {
    "duration": 42,
    "start_time": "2021-12-13T11:42:19.377Z"
   },
   {
    "duration": 4,
    "start_time": "2021-12-13T11:42:19.421Z"
   },
   {
    "duration": 11,
    "start_time": "2021-12-13T11:42:19.427Z"
   },
   {
    "duration": 14,
    "start_time": "2021-12-13T11:42:19.440Z"
   },
   {
    "duration": 18,
    "start_time": "2021-12-13T11:42:19.456Z"
   },
   {
    "duration": 32,
    "start_time": "2021-12-13T11:42:19.476Z"
   },
   {
    "duration": 16,
    "start_time": "2021-12-13T11:42:19.510Z"
   },
   {
    "duration": 9,
    "start_time": "2021-12-13T11:42:19.527Z"
   },
   {
    "duration": 17,
    "start_time": "2021-12-13T11:42:19.538Z"
   },
   {
    "duration": 225,
    "start_time": "2021-12-13T11:42:19.557Z"
   },
   {
    "duration": 206,
    "start_time": "2021-12-13T11:42:19.784Z"
   },
   {
    "duration": 45,
    "start_time": "2021-12-13T11:42:19.992Z"
   },
   {
    "duration": 14,
    "start_time": "2021-12-13T11:42:20.039Z"
   },
   {
    "duration": 30,
    "start_time": "2021-12-13T11:42:20.054Z"
   },
   {
    "duration": 171,
    "start_time": "2021-12-13T11:42:20.086Z"
   },
   {
    "duration": 151,
    "start_time": "2021-12-13T11:42:20.260Z"
   },
   {
    "duration": 228,
    "start_time": "2021-12-13T11:42:20.413Z"
   },
   {
    "duration": 4,
    "start_time": "2021-12-13T11:42:20.643Z"
   },
   {
    "duration": 15,
    "start_time": "2021-12-13T11:42:20.649Z"
   },
   {
    "duration": 367,
    "start_time": "2021-12-13T11:42:20.667Z"
   },
   {
    "duration": 10,
    "start_time": "2021-12-13T11:43:09.455Z"
   },
   {
    "duration": 1128,
    "start_time": "2021-12-13T11:46:04.805Z"
   },
   {
    "duration": 38,
    "start_time": "2021-12-13T11:46:05.934Z"
   },
   {
    "duration": 15,
    "start_time": "2021-12-13T11:46:05.974Z"
   },
   {
    "duration": 17,
    "start_time": "2021-12-13T11:46:05.991Z"
   },
   {
    "duration": 31,
    "start_time": "2021-12-13T11:46:06.009Z"
   },
   {
    "duration": 4,
    "start_time": "2021-12-13T11:46:06.042Z"
   },
   {
    "duration": 21,
    "start_time": "2021-12-13T11:46:06.048Z"
   },
   {
    "duration": 4,
    "start_time": "2021-12-13T11:46:06.071Z"
   },
   {
    "duration": 32,
    "start_time": "2021-12-13T11:46:06.078Z"
   },
   {
    "duration": 11,
    "start_time": "2021-12-13T11:46:06.112Z"
   },
   {
    "duration": 16,
    "start_time": "2021-12-13T11:46:06.124Z"
   },
   {
    "duration": 14,
    "start_time": "2021-12-13T11:46:06.142Z"
   },
   {
    "duration": 17,
    "start_time": "2021-12-13T11:46:06.157Z"
   },
   {
    "duration": 34,
    "start_time": "2021-12-13T11:46:06.176Z"
   },
   {
    "duration": 9,
    "start_time": "2021-12-13T11:46:06.212Z"
   },
   {
    "duration": 12,
    "start_time": "2021-12-13T11:46:06.223Z"
   },
   {
    "duration": 19,
    "start_time": "2021-12-13T11:46:06.237Z"
   },
   {
    "duration": 230,
    "start_time": "2021-12-13T11:46:06.258Z"
   },
   {
    "duration": 204,
    "start_time": "2021-12-13T11:46:06.490Z"
   },
   {
    "duration": 41,
    "start_time": "2021-12-13T11:46:06.706Z"
   },
   {
    "duration": 14,
    "start_time": "2021-12-13T11:46:06.749Z"
   },
   {
    "duration": 50,
    "start_time": "2021-12-13T11:46:06.765Z"
   },
   {
    "duration": 160,
    "start_time": "2021-12-13T11:46:06.818Z"
   },
   {
    "duration": 144,
    "start_time": "2021-12-13T11:46:06.980Z"
   },
   {
    "duration": 233,
    "start_time": "2021-12-13T11:46:07.126Z"
   },
   {
    "duration": 6,
    "start_time": "2021-12-13T11:46:07.361Z"
   },
   {
    "duration": 15,
    "start_time": "2021-12-13T11:46:07.369Z"
   },
   {
    "duration": 323,
    "start_time": "2021-12-13T11:46:07.386Z"
   },
   {
    "duration": 5,
    "start_time": "2021-12-13T11:46:27.665Z"
   },
   {
    "duration": 7,
    "start_time": "2021-12-13T11:46:28.111Z"
   },
   {
    "duration": 11,
    "start_time": "2021-12-13T11:46:28.694Z"
   },
   {
    "duration": 8,
    "start_time": "2021-12-13T11:47:19.831Z"
   },
   {
    "duration": 7,
    "start_time": "2021-12-13T11:47:33.117Z"
   },
   {
    "duration": 7,
    "start_time": "2021-12-13T11:47:45.678Z"
   },
   {
    "duration": 339,
    "start_time": "2021-12-13T11:47:46.884Z"
   },
   {
    "duration": 7,
    "start_time": "2021-12-13T11:48:15.950Z"
   },
   {
    "duration": 330,
    "start_time": "2021-12-13T11:48:16.587Z"
   },
   {
    "duration": 5,
    "start_time": "2021-12-13T11:48:49.020Z"
   },
   {
    "duration": 268,
    "start_time": "2021-12-13T11:48:50.157Z"
   },
   {
    "duration": 6,
    "start_time": "2021-12-13T11:49:31.668Z"
   },
   {
    "duration": 307,
    "start_time": "2021-12-13T11:49:33.505Z"
   },
   {
    "duration": 7,
    "start_time": "2021-12-13T11:49:41.544Z"
   },
   {
    "duration": 6,
    "start_time": "2021-12-13T11:51:18.545Z"
   },
   {
    "duration": 267,
    "start_time": "2021-12-13T11:52:23.551Z"
   },
   {
    "duration": 5,
    "start_time": "2021-12-13T11:52:48.454Z"
   },
   {
    "duration": 294,
    "start_time": "2021-12-13T11:54:32.323Z"
   },
   {
    "duration": 5,
    "start_time": "2021-12-13T11:54:32.619Z"
   },
   {
    "duration": 273,
    "start_time": "2021-12-13T11:54:33.534Z"
   },
   {
    "duration": 5,
    "start_time": "2021-12-13T11:54:34.173Z"
   },
   {
    "duration": 294,
    "start_time": "2021-12-13T11:55:45.240Z"
   },
   {
    "duration": 325,
    "start_time": "2021-12-13T11:58:21.495Z"
   },
   {
    "duration": 285,
    "start_time": "2021-12-13T11:58:40.330Z"
   },
   {
    "duration": 374,
    "start_time": "2021-12-13T11:59:36.349Z"
   },
   {
    "duration": 327,
    "start_time": "2021-12-13T11:59:54.849Z"
   },
   {
    "duration": 14,
    "start_time": "2021-12-13T12:00:04.174Z"
   },
   {
    "duration": 13,
    "start_time": "2021-12-13T12:00:26.889Z"
   },
   {
    "duration": 10,
    "start_time": "2021-12-13T12:00:52.638Z"
   },
   {
    "duration": 6,
    "start_time": "2021-12-13T12:01:14.622Z"
   },
   {
    "duration": 337,
    "start_time": "2021-12-13T12:01:24.324Z"
   },
   {
    "duration": 6,
    "start_time": "2021-12-13T12:01:36.037Z"
   },
   {
    "duration": 14,
    "start_time": "2021-12-13T12:03:42.234Z"
   },
   {
    "duration": 20,
    "start_time": "2021-12-13T12:07:54.233Z"
   },
   {
    "duration": 98,
    "start_time": "2021-12-13T12:08:46.895Z"
   },
   {
    "duration": 307,
    "start_time": "2021-12-13T12:08:55.483Z"
   },
   {
    "duration": 11,
    "start_time": "2021-12-13T12:09:08.927Z"
   },
   {
    "duration": 11,
    "start_time": "2021-12-13T12:09:50.315Z"
   },
   {
    "duration": 16,
    "start_time": "2021-12-13T12:12:20.904Z"
   },
   {
    "duration": 16,
    "start_time": "2021-12-13T12:12:40.543Z"
   },
   {
    "duration": 270,
    "start_time": "2021-12-13T12:13:06.179Z"
   },
   {
    "duration": 10,
    "start_time": "2021-12-13T12:13:47.653Z"
   },
   {
    "duration": 11,
    "start_time": "2021-12-13T12:14:01.833Z"
   },
   {
    "duration": 11,
    "start_time": "2021-12-13T12:14:28.925Z"
   },
   {
    "duration": 11,
    "start_time": "2021-12-13T12:14:29.433Z"
   },
   {
    "duration": 14,
    "start_time": "2021-12-13T12:14:30.028Z"
   },
   {
    "duration": 11,
    "start_time": "2021-12-13T12:15:31.218Z"
   },
   {
    "duration": 13,
    "start_time": "2021-12-13T12:16:11.214Z"
   },
   {
    "duration": 15,
    "start_time": "2021-12-13T12:16:43.656Z"
   },
   {
    "duration": 19,
    "start_time": "2021-12-13T12:18:12.968Z"
   },
   {
    "duration": 12,
    "start_time": "2021-12-13T12:18:25.301Z"
   },
   {
    "duration": 14,
    "start_time": "2021-12-13T12:18:48.463Z"
   },
   {
    "duration": 3,
    "start_time": "2021-12-13T12:20:39.906Z"
   },
   {
    "duration": 8,
    "start_time": "2021-12-13T12:21:33.986Z"
   },
   {
    "duration": 6,
    "start_time": "2021-12-13T12:22:19.819Z"
   },
   {
    "duration": 7,
    "start_time": "2021-12-13T12:23:19.658Z"
   },
   {
    "duration": 8,
    "start_time": "2021-12-13T12:25:33.586Z"
   },
   {
    "duration": 6,
    "start_time": "2021-12-13T12:25:44.500Z"
   },
   {
    "duration": 1528,
    "start_time": "2021-12-14T06:43:48.374Z"
   },
   {
    "duration": 46,
    "start_time": "2021-12-14T06:43:49.904Z"
   },
   {
    "duration": 22,
    "start_time": "2021-12-14T06:43:49.953Z"
   },
   {
    "duration": 14,
    "start_time": "2021-12-14T06:43:49.978Z"
   },
   {
    "duration": 64,
    "start_time": "2021-12-14T06:43:49.995Z"
   },
   {
    "duration": 6,
    "start_time": "2021-12-14T06:43:50.061Z"
   },
   {
    "duration": 55,
    "start_time": "2021-12-14T06:43:50.069Z"
   },
   {
    "duration": 6,
    "start_time": "2021-12-14T06:43:50.128Z"
   },
   {
    "duration": 8,
    "start_time": "2021-12-14T06:43:50.137Z"
   },
   {
    "duration": 14,
    "start_time": "2021-12-14T06:43:50.147Z"
   },
   {
    "duration": 58,
    "start_time": "2021-12-14T06:43:50.164Z"
   },
   {
    "duration": 19,
    "start_time": "2021-12-14T06:43:50.224Z"
   },
   {
    "duration": 22,
    "start_time": "2021-12-14T06:43:50.246Z"
   },
   {
    "duration": 8,
    "start_time": "2021-12-14T06:43:50.271Z"
   },
   {
    "duration": 51,
    "start_time": "2021-12-14T06:43:50.281Z"
   },
   {
    "duration": 16,
    "start_time": "2021-12-14T06:43:50.335Z"
   },
   {
    "duration": 27,
    "start_time": "2021-12-14T06:43:50.354Z"
   },
   {
    "duration": 330,
    "start_time": "2021-12-14T06:43:50.418Z"
   },
   {
    "duration": 424,
    "start_time": "2021-12-14T06:43:50.750Z"
   },
   {
    "duration": 68,
    "start_time": "2021-12-14T06:43:51.176Z"
   },
   {
    "duration": 20,
    "start_time": "2021-12-14T06:43:51.246Z"
   },
   {
    "duration": 68,
    "start_time": "2021-12-14T06:43:51.269Z"
   },
   {
    "duration": 254,
    "start_time": "2021-12-14T06:43:51.342Z"
   },
   {
    "duration": 224,
    "start_time": "2021-12-14T06:43:51.600Z"
   },
   {
    "duration": 357,
    "start_time": "2021-12-14T06:43:51.826Z"
   },
   {
    "duration": 10,
    "start_time": "2021-12-14T06:43:52.185Z"
   },
   {
    "duration": 430,
    "start_time": "2021-12-14T06:43:52.197Z"
   },
   {
    "duration": 6,
    "start_time": "2021-12-14T06:43:52.629Z"
   },
   {
    "duration": 498,
    "start_time": "2021-12-14T06:43:52.637Z"
   },
   {
    "duration": 6,
    "start_time": "2021-12-14T06:43:53.137Z"
   },
   {
    "duration": 513,
    "start_time": "2021-12-14T06:43:53.145Z"
   },
   {
    "duration": 8,
    "start_time": "2021-12-14T06:43:53.660Z"
   },
   {
    "duration": 499,
    "start_time": "2021-12-14T06:43:53.670Z"
   },
   {
    "duration": 9,
    "start_time": "2021-12-14T06:43:54.172Z"
   },
   {
    "duration": 49,
    "start_time": "2021-12-14T06:43:54.184Z"
   },
   {
    "duration": 29,
    "start_time": "2021-12-14T06:43:54.236Z"
   },
   {
    "duration": 37,
    "start_time": "2021-12-14T06:43:54.269Z"
   },
   {
    "duration": 22,
    "start_time": "2021-12-14T06:43:54.309Z"
   },
   {
    "duration": 22,
    "start_time": "2021-12-14T06:43:54.334Z"
   },
   {
    "duration": 14,
    "start_time": "2021-12-14T06:43:54.358Z"
   },
   {
    "duration": 54,
    "start_time": "2021-12-14T06:43:54.374Z"
   },
   {
    "duration": 19,
    "start_time": "2021-12-14T06:43:54.430Z"
   },
   {
    "duration": 16,
    "start_time": "2021-12-14T06:43:54.452Z"
   },
   {
    "duration": 56,
    "start_time": "2021-12-14T06:43:54.471Z"
   },
   {
    "duration": 20,
    "start_time": "2021-12-14T06:43:54.531Z"
   },
   {
    "duration": 17,
    "start_time": "2021-12-14T06:43:54.554Z"
   },
   {
    "duration": 49,
    "start_time": "2021-12-14T06:43:54.573Z"
   },
   {
    "duration": 21,
    "start_time": "2021-12-14T06:43:54.625Z"
   },
   {
    "duration": 12,
    "start_time": "2021-12-14T06:43:54.649Z"
   },
   {
    "duration": 57,
    "start_time": "2021-12-14T06:43:54.663Z"
   },
   {
    "duration": 11,
    "start_time": "2021-12-14T06:43:54.723Z"
   },
   {
    "duration": 9,
    "start_time": "2021-12-14T06:43:54.737Z"
   },
   {
    "duration": 1522,
    "start_time": "2021-12-14T07:09:55.395Z"
   },
   {
    "duration": 46,
    "start_time": "2021-12-14T07:09:56.920Z"
   },
   {
    "duration": 21,
    "start_time": "2021-12-14T07:09:56.969Z"
   },
   {
    "duration": 32,
    "start_time": "2021-12-14T07:09:56.993Z"
   },
   {
    "duration": 45,
    "start_time": "2021-12-14T07:09:57.027Z"
   },
   {
    "duration": 6,
    "start_time": "2021-12-14T07:09:57.074Z"
   },
   {
    "duration": 57,
    "start_time": "2021-12-14T07:09:57.083Z"
   },
   {
    "duration": 5,
    "start_time": "2021-12-14T07:09:57.144Z"
   },
   {
    "duration": 9,
    "start_time": "2021-12-14T07:09:57.152Z"
   },
   {
    "duration": 14,
    "start_time": "2021-12-14T07:09:57.163Z"
   },
   {
    "duration": 64,
    "start_time": "2021-12-14T07:09:57.180Z"
   },
   {
    "duration": 18,
    "start_time": "2021-12-14T07:09:57.247Z"
   },
   {
    "duration": 51,
    "start_time": "2021-12-14T07:09:57.268Z"
   },
   {
    "duration": 7,
    "start_time": "2021-12-14T07:09:57.321Z"
   },
   {
    "duration": 16,
    "start_time": "2021-12-14T07:09:57.331Z"
   },
   {
    "duration": 15,
    "start_time": "2021-12-14T07:09:57.350Z"
   },
   {
    "duration": 56,
    "start_time": "2021-12-14T07:09:57.367Z"
   },
   {
    "duration": 334,
    "start_time": "2021-12-14T07:09:57.426Z"
   },
   {
    "duration": 334,
    "start_time": "2021-12-14T07:09:57.762Z"
   },
   {
    "duration": 70,
    "start_time": "2021-12-14T07:09:58.099Z"
   },
   {
    "duration": 20,
    "start_time": "2021-12-14T07:09:58.171Z"
   },
   {
    "duration": 44,
    "start_time": "2021-12-14T07:09:58.218Z"
   },
   {
    "duration": 256,
    "start_time": "2021-12-14T07:09:58.267Z"
   },
   {
    "duration": 249,
    "start_time": "2021-12-14T07:09:58.526Z"
   },
   {
    "duration": 356,
    "start_time": "2021-12-14T07:09:58.778Z"
   },
   {
    "duration": 11,
    "start_time": "2021-12-14T07:09:59.137Z"
   },
   {
    "duration": 409,
    "start_time": "2021-12-14T07:09:59.150Z"
   },
   {
    "duration": 6,
    "start_time": "2021-12-14T07:09:59.561Z"
   },
   {
    "duration": 519,
    "start_time": "2021-12-14T07:09:59.570Z"
   },
   {
    "duration": 7,
    "start_time": "2021-12-14T07:10:00.091Z"
   },
   {
    "duration": 469,
    "start_time": "2021-12-14T07:10:00.101Z"
   },
   {
    "duration": 8,
    "start_time": "2021-12-14T07:10:00.573Z"
   },
   {
    "duration": 467,
    "start_time": "2021-12-14T07:10:00.584Z"
   },
   {
    "duration": 8,
    "start_time": "2021-12-14T07:10:01.054Z"
   },
   {
    "duration": 31,
    "start_time": "2021-12-14T07:10:01.065Z"
   },
   {
    "duration": 46,
    "start_time": "2021-12-14T07:10:01.099Z"
   },
   {
    "duration": 20,
    "start_time": "2021-12-14T07:10:01.148Z"
   },
   {
    "duration": 14,
    "start_time": "2021-12-14T07:10:01.171Z"
   },
   {
    "duration": 47,
    "start_time": "2021-12-14T07:10:01.187Z"
   },
   {
    "duration": 14,
    "start_time": "2021-12-14T07:10:01.236Z"
   },
   {
    "duration": 35,
    "start_time": "2021-12-14T07:10:01.253Z"
   },
   {
    "duration": 38,
    "start_time": "2021-12-14T07:10:01.290Z"
   },
   {
    "duration": 17,
    "start_time": "2021-12-14T07:10:01.331Z"
   },
   {
    "duration": 35,
    "start_time": "2021-12-14T07:10:01.351Z"
   },
   {
    "duration": 41,
    "start_time": "2021-12-14T07:10:01.389Z"
   },
   {
    "duration": 15,
    "start_time": "2021-12-14T07:10:01.433Z"
   },
   {
    "duration": 15,
    "start_time": "2021-12-14T07:10:01.450Z"
   },
   {
    "duration": 56,
    "start_time": "2021-12-14T07:10:01.467Z"
   },
   {
    "duration": 10,
    "start_time": "2021-12-14T07:10:01.526Z"
   },
   {
    "duration": 14,
    "start_time": "2021-12-14T07:10:01.539Z"
   },
   {
    "duration": 36,
    "start_time": "2021-12-14T07:10:01.555Z"
   },
   {
    "duration": 15,
    "start_time": "2021-12-14T07:10:01.593Z"
   },
   {
    "duration": 1575,
    "start_time": "2021-12-14T07:17:00.517Z"
   },
   {
    "duration": 48,
    "start_time": "2021-12-14T07:17:02.095Z"
   },
   {
    "duration": 22,
    "start_time": "2021-12-14T07:17:02.146Z"
   },
   {
    "duration": 15,
    "start_time": "2021-12-14T07:17:02.171Z"
   },
   {
    "duration": 63,
    "start_time": "2021-12-14T07:17:02.189Z"
   },
   {
    "duration": 6,
    "start_time": "2021-12-14T07:17:02.255Z"
   },
   {
    "duration": 55,
    "start_time": "2021-12-14T07:17:02.263Z"
   },
   {
    "duration": 6,
    "start_time": "2021-12-14T07:17:02.322Z"
   },
   {
    "duration": 27,
    "start_time": "2021-12-14T07:17:02.331Z"
   },
   {
    "duration": 40,
    "start_time": "2021-12-14T07:17:02.361Z"
   },
   {
    "duration": 35,
    "start_time": "2021-12-14T07:17:02.403Z"
   },
   {
    "duration": 30,
    "start_time": "2021-12-14T07:17:02.441Z"
   },
   {
    "duration": 65,
    "start_time": "2021-12-14T07:17:02.474Z"
   },
   {
    "duration": 10,
    "start_time": "2021-12-14T07:17:02.541Z"
   },
   {
    "duration": 33,
    "start_time": "2021-12-14T07:17:02.553Z"
   },
   {
    "duration": 37,
    "start_time": "2021-12-14T07:17:02.588Z"
   },
   {
    "duration": 52,
    "start_time": "2021-12-14T07:17:02.627Z"
   },
   {
    "duration": 321,
    "start_time": "2021-12-14T07:17:02.681Z"
   },
   {
    "duration": 340,
    "start_time": "2021-12-14T07:17:03.005Z"
   },
   {
    "duration": 84,
    "start_time": "2021-12-14T07:17:03.347Z"
   },
   {
    "duration": 23,
    "start_time": "2021-12-14T07:17:03.434Z"
   },
   {
    "duration": 70,
    "start_time": "2021-12-14T07:17:03.460Z"
   },
   {
    "duration": 250,
    "start_time": "2021-12-14T07:17:03.537Z"
   },
   {
    "duration": 232,
    "start_time": "2021-12-14T07:17:03.791Z"
   },
   {
    "duration": 357,
    "start_time": "2021-12-14T07:17:04.025Z"
   },
   {
    "duration": 10,
    "start_time": "2021-12-14T07:17:04.385Z"
   },
   {
    "duration": 434,
    "start_time": "2021-12-14T07:17:04.398Z"
   },
   {
    "duration": 6,
    "start_time": "2021-12-14T07:17:04.835Z"
   },
   {
    "duration": 491,
    "start_time": "2021-12-14T07:17:04.844Z"
   },
   {
    "duration": 6,
    "start_time": "2021-12-14T07:17:05.338Z"
   },
   {
    "duration": 476,
    "start_time": "2021-12-14T07:17:05.346Z"
   },
   {
    "duration": 6,
    "start_time": "2021-12-14T07:17:05.825Z"
   },
   {
    "duration": 433,
    "start_time": "2021-12-14T07:17:05.834Z"
   },
   {
    "duration": 7,
    "start_time": "2021-12-14T07:17:06.270Z"
   },
   {
    "duration": 42,
    "start_time": "2021-12-14T07:17:06.280Z"
   },
   {
    "duration": 29,
    "start_time": "2021-12-14T07:17:06.325Z"
   },
   {
    "duration": 14,
    "start_time": "2021-12-14T07:17:06.357Z"
   },
   {
    "duration": 44,
    "start_time": "2021-12-14T07:17:06.374Z"
   },
   {
    "duration": 20,
    "start_time": "2021-12-14T07:17:06.421Z"
   },
   {
    "duration": 15,
    "start_time": "2021-12-14T07:17:06.444Z"
   },
   {
    "duration": 16,
    "start_time": "2021-12-14T07:17:06.461Z"
   },
   {
    "duration": 55,
    "start_time": "2021-12-14T07:17:06.480Z"
   },
   {
    "duration": 15,
    "start_time": "2021-12-14T07:17:06.538Z"
   },
   {
    "duration": 15,
    "start_time": "2021-12-14T07:17:06.555Z"
   },
   {
    "duration": 56,
    "start_time": "2021-12-14T07:17:06.572Z"
   },
   {
    "duration": 15,
    "start_time": "2021-12-14T07:17:06.630Z"
   },
   {
    "duration": 14,
    "start_time": "2021-12-14T07:17:06.648Z"
   },
   {
    "duration": 58,
    "start_time": "2021-12-14T07:17:06.665Z"
   },
   {
    "duration": 10,
    "start_time": "2021-12-14T07:17:06.725Z"
   },
   {
    "duration": 13,
    "start_time": "2021-12-14T07:17:06.737Z"
   },
   {
    "duration": 11,
    "start_time": "2021-12-14T07:17:06.753Z"
   },
   {
    "duration": 10,
    "start_time": "2021-12-14T07:17:06.767Z"
   },
   {
    "duration": 1428,
    "start_time": "2021-12-14T07:25:14.733Z"
   },
   {
    "duration": 43,
    "start_time": "2021-12-14T07:25:16.164Z"
   },
   {
    "duration": 30,
    "start_time": "2021-12-14T07:25:16.210Z"
   },
   {
    "duration": 14,
    "start_time": "2021-12-14T07:25:16.243Z"
   },
   {
    "duration": 64,
    "start_time": "2021-12-14T07:25:16.259Z"
   },
   {
    "duration": 7,
    "start_time": "2021-12-14T07:25:16.325Z"
   },
   {
    "duration": 34,
    "start_time": "2021-12-14T07:25:16.334Z"
   },
   {
    "duration": 5,
    "start_time": "2021-12-14T07:25:16.372Z"
   },
   {
    "duration": 10,
    "start_time": "2021-12-14T07:25:16.380Z"
   },
   {
    "duration": 37,
    "start_time": "2021-12-14T07:25:16.393Z"
   },
   {
    "duration": 25,
    "start_time": "2021-12-14T07:25:16.432Z"
   },
   {
    "duration": 17,
    "start_time": "2021-12-14T07:25:16.459Z"
   },
   {
    "duration": 52,
    "start_time": "2021-12-14T07:25:16.478Z"
   },
   {
    "duration": 7,
    "start_time": "2021-12-14T07:25:16.532Z"
   },
   {
    "duration": 18,
    "start_time": "2021-12-14T07:25:16.541Z"
   },
   {
    "duration": 14,
    "start_time": "2021-12-14T07:25:16.562Z"
   },
   {
    "duration": 52,
    "start_time": "2021-12-14T07:25:16.578Z"
   },
   {
    "duration": 335,
    "start_time": "2021-12-14T07:25:16.633Z"
   },
   {
    "duration": 299,
    "start_time": "2021-12-14T07:25:16.970Z"
   },
   {
    "duration": 69,
    "start_time": "2021-12-14T07:25:17.271Z"
   },
   {
    "duration": 19,
    "start_time": "2021-12-14T07:25:17.342Z"
   },
   {
    "duration": 61,
    "start_time": "2021-12-14T07:25:17.363Z"
   },
   {
    "duration": 228,
    "start_time": "2021-12-14T07:25:17.429Z"
   },
   {
    "duration": 213,
    "start_time": "2021-12-14T07:25:17.660Z"
   },
   {
    "duration": 324,
    "start_time": "2021-12-14T07:25:17.876Z"
   },
   {
    "duration": 22,
    "start_time": "2021-12-14T07:25:18.204Z"
   },
   {
    "duration": 397,
    "start_time": "2021-12-14T07:25:18.229Z"
   },
   {
    "duration": 8,
    "start_time": "2021-12-14T07:25:18.629Z"
   },
   {
    "duration": 497,
    "start_time": "2021-12-14T07:25:18.640Z"
   },
   {
    "duration": 8,
    "start_time": "2021-12-14T07:25:19.140Z"
   },
   {
    "duration": 420,
    "start_time": "2021-12-14T07:25:19.151Z"
   },
   {
    "duration": 6,
    "start_time": "2021-12-14T07:25:19.573Z"
   },
   {
    "duration": 447,
    "start_time": "2021-12-14T07:25:19.581Z"
   },
   {
    "duration": 6,
    "start_time": "2021-12-14T07:25:20.030Z"
   },
   {
    "duration": 54,
    "start_time": "2021-12-14T07:25:20.038Z"
   },
   {
    "duration": 27,
    "start_time": "2021-12-14T07:25:20.094Z"
   },
   {
    "duration": 24,
    "start_time": "2021-12-14T07:25:20.123Z"
   },
   {
    "duration": 38,
    "start_time": "2021-12-14T07:25:20.149Z"
   },
   {
    "duration": 19,
    "start_time": "2021-12-14T07:25:20.189Z"
   },
   {
    "duration": 14,
    "start_time": "2021-12-14T07:25:20.210Z"
   },
   {
    "duration": 18,
    "start_time": "2021-12-14T07:25:20.226Z"
   },
   {
    "duration": 17,
    "start_time": "2021-12-14T07:25:20.247Z"
   },
   {
    "duration": 16,
    "start_time": "2021-12-14T07:25:20.266Z"
   },
   {
    "duration": 42,
    "start_time": "2021-12-14T07:25:20.284Z"
   },
   {
    "duration": 20,
    "start_time": "2021-12-14T07:25:20.329Z"
   },
   {
    "duration": 15,
    "start_time": "2021-12-14T07:25:20.351Z"
   },
   {
    "duration": 60,
    "start_time": "2021-12-14T07:25:20.369Z"
   },
   {
    "duration": 18,
    "start_time": "2021-12-14T07:25:20.432Z"
   },
   {
    "duration": 11,
    "start_time": "2021-12-14T07:25:20.453Z"
   },
   {
    "duration": 12,
    "start_time": "2021-12-14T07:25:20.466Z"
   },
   {
    "duration": 11,
    "start_time": "2021-12-14T07:25:20.524Z"
   },
   {
    "duration": 10,
    "start_time": "2021-12-14T07:25:20.537Z"
   },
   {
    "duration": 287,
    "start_time": "2021-12-14T07:25:26.735Z"
   },
   {
    "duration": 107,
    "start_time": "2021-12-14T07:26:35.089Z"
   },
   {
    "duration": 117,
    "start_time": "2021-12-14T07:27:15.477Z"
   },
   {
    "duration": 1500,
    "start_time": "2021-12-14T10:08:28.312Z"
   },
   {
    "duration": 56,
    "start_time": "2021-12-14T10:08:29.814Z"
   },
   {
    "duration": 22,
    "start_time": "2021-12-14T10:08:29.873Z"
   },
   {
    "duration": 45,
    "start_time": "2021-12-14T10:08:29.898Z"
   },
   {
    "duration": 41,
    "start_time": "2021-12-14T10:08:29.945Z"
   },
   {
    "duration": 6,
    "start_time": "2021-12-14T10:08:29.989Z"
   },
   {
    "duration": 43,
    "start_time": "2021-12-14T10:08:30.024Z"
   },
   {
    "duration": 5,
    "start_time": "2021-12-14T10:08:30.070Z"
   },
   {
    "duration": 16,
    "start_time": "2021-12-14T10:08:30.080Z"
   },
   {
    "duration": 43,
    "start_time": "2021-12-14T10:08:30.099Z"
   },
   {
    "duration": 30,
    "start_time": "2021-12-14T10:08:30.144Z"
   },
   {
    "duration": 27,
    "start_time": "2021-12-14T10:08:30.176Z"
   },
   {
    "duration": 45,
    "start_time": "2021-12-14T10:08:30.205Z"
   },
   {
    "duration": 10,
    "start_time": "2021-12-14T10:08:30.253Z"
   },
   {
    "duration": 19,
    "start_time": "2021-12-14T10:08:30.265Z"
   },
   {
    "duration": 48,
    "start_time": "2021-12-14T10:08:30.287Z"
   },
   {
    "duration": 27,
    "start_time": "2021-12-14T10:08:30.338Z"
   },
   {
    "duration": 334,
    "start_time": "2021-12-14T10:08:30.367Z"
   },
   {
    "duration": 348,
    "start_time": "2021-12-14T10:08:30.704Z"
   },
   {
    "duration": 81,
    "start_time": "2021-12-14T10:08:31.054Z"
   },
   {
    "duration": 22,
    "start_time": "2021-12-14T10:08:31.140Z"
   },
   {
    "duration": 281,
    "start_time": "2021-12-14T10:08:31.165Z"
   },
   {
    "duration": 276,
    "start_time": "2021-12-14T10:08:31.448Z"
   },
   {
    "duration": 268,
    "start_time": "2021-12-14T10:08:31.728Z"
   },
   {
    "duration": 1379,
    "start_time": "2021-12-14T10:08:31.998Z"
   },
   {
    "duration": 320,
    "start_time": "2021-12-14T10:08:33.380Z"
   },
   {
    "duration": 20,
    "start_time": "2021-12-14T10:08:33.706Z"
   },
   {
    "duration": 417,
    "start_time": "2021-12-14T10:08:33.732Z"
   },
   {
    "duration": 7,
    "start_time": "2021-12-14T10:08:34.151Z"
   },
   {
    "duration": 419,
    "start_time": "2021-12-14T10:08:34.160Z"
   },
   {
    "duration": 7,
    "start_time": "2021-12-14T10:08:34.582Z"
   },
   {
    "duration": 455,
    "start_time": "2021-12-14T10:08:34.591Z"
   },
   {
    "duration": 6,
    "start_time": "2021-12-14T10:08:35.049Z"
   },
   {
    "duration": 427,
    "start_time": "2021-12-14T10:08:35.057Z"
   },
   {
    "duration": 7,
    "start_time": "2021-12-14T10:08:35.486Z"
   },
   {
    "duration": 29,
    "start_time": "2021-12-14T10:08:35.496Z"
   },
   {
    "duration": 434,
    "start_time": "2021-12-14T10:08:35.528Z"
   },
   {
    "duration": 6,
    "start_time": "2021-12-14T10:08:35.965Z"
   },
   {
    "duration": 477,
    "start_time": "2021-12-14T10:08:35.974Z"
   },
   {
    "duration": 7,
    "start_time": "2021-12-14T10:08:36.453Z"
   },
   {
    "duration": 24,
    "start_time": "2021-12-14T10:08:36.462Z"
   },
   {
    "duration": 476,
    "start_time": "2021-12-14T10:08:36.488Z"
   },
   {
    "duration": 6,
    "start_time": "2021-12-14T10:08:36.967Z"
   },
   {
    "duration": 456,
    "start_time": "2021-12-14T10:08:36.975Z"
   },
   {
    "duration": 9,
    "start_time": "2021-12-14T10:08:37.434Z"
   },
   {
    "duration": 26,
    "start_time": "2021-12-14T10:08:37.445Z"
   },
   {
    "duration": 18,
    "start_time": "2021-12-14T10:08:37.474Z"
   },
   {
    "duration": 37,
    "start_time": "2021-12-14T10:08:37.523Z"
   },
   {
    "duration": 14,
    "start_time": "2021-12-14T10:08:37.563Z"
   },
   {
    "duration": 54,
    "start_time": "2021-12-14T10:08:37.579Z"
   },
   {
    "duration": 103,
    "start_time": "2021-12-14T10:08:37.638Z"
   },
   {
    "duration": 15,
    "start_time": "2021-12-14T10:08:37.744Z"
   },
   {
    "duration": 15,
    "start_time": "2021-12-14T10:08:37.761Z"
   },
   {
    "duration": 52,
    "start_time": "2021-12-14T10:08:37.778Z"
   },
   {
    "duration": 34,
    "start_time": "2021-12-14T10:08:37.833Z"
   },
   {
    "duration": 15,
    "start_time": "2021-12-14T10:08:37.870Z"
   },
   {
    "duration": 13,
    "start_time": "2021-12-14T10:08:37.887Z"
   },
   {
    "duration": 37,
    "start_time": "2021-12-14T10:08:37.903Z"
   },
   {
    "duration": 13,
    "start_time": "2021-12-14T10:08:37.943Z"
   },
   {
    "duration": 23,
    "start_time": "2021-12-14T10:08:37.959Z"
   },
   {
    "duration": 44,
    "start_time": "2021-12-14T10:08:37.985Z"
   },
   {
    "duration": 17,
    "start_time": "2021-12-14T10:08:38.032Z"
   },
   {
    "duration": 22,
    "start_time": "2021-12-14T10:08:38.051Z"
   },
   {
    "duration": 13,
    "start_time": "2021-12-14T10:08:38.075Z"
   },
   {
    "duration": 1300,
    "start_time": "2021-12-14T10:09:08.899Z"
   },
   {
    "duration": 1305,
    "start_time": "2021-12-14T10:10:05.079Z"
   },
   {
    "duration": 1485,
    "start_time": "2021-12-14T18:30:02.370Z"
   },
   {
    "duration": 51,
    "start_time": "2021-12-14T18:30:03.857Z"
   },
   {
    "duration": 25,
    "start_time": "2021-12-14T18:30:03.911Z"
   },
   {
    "duration": 33,
    "start_time": "2021-12-14T18:30:03.940Z"
   },
   {
    "duration": 43,
    "start_time": "2021-12-14T18:30:03.976Z"
   },
   {
    "duration": 39,
    "start_time": "2021-12-14T18:30:04.022Z"
   },
   {
    "duration": 30,
    "start_time": "2021-12-14T18:30:04.063Z"
   },
   {
    "duration": 5,
    "start_time": "2021-12-14T18:30:04.096Z"
   },
   {
    "duration": 12,
    "start_time": "2021-12-14T18:30:04.104Z"
   },
   {
    "duration": 42,
    "start_time": "2021-12-14T18:30:04.119Z"
   },
   {
    "duration": 26,
    "start_time": "2021-12-14T18:30:04.164Z"
   },
   {
    "duration": 19,
    "start_time": "2021-12-14T18:30:04.192Z"
   },
   {
    "duration": 47,
    "start_time": "2021-12-14T18:30:04.213Z"
   },
   {
    "duration": 7,
    "start_time": "2021-12-14T18:30:04.262Z"
   },
   {
    "duration": 20,
    "start_time": "2021-12-14T18:30:04.271Z"
   },
   {
    "duration": 15,
    "start_time": "2021-12-14T18:30:04.293Z"
   },
   {
    "duration": 52,
    "start_time": "2021-12-14T18:30:04.310Z"
   },
   {
    "duration": 316,
    "start_time": "2021-12-14T18:30:04.364Z"
   },
   {
    "duration": 314,
    "start_time": "2021-12-14T18:30:04.683Z"
   },
   {
    "duration": 95,
    "start_time": "2021-12-14T18:30:04.999Z"
   },
   {
    "duration": 21,
    "start_time": "2021-12-14T18:30:05.096Z"
   },
   {
    "duration": 242,
    "start_time": "2021-12-14T18:30:05.119Z"
   },
   {
    "duration": 245,
    "start_time": "2021-12-14T18:30:05.367Z"
   },
   {
    "duration": 232,
    "start_time": "2021-12-14T18:30:05.616Z"
   },
   {
    "duration": 1386,
    "start_time": "2021-12-14T18:30:05.850Z"
   },
   {
    "duration": 313,
    "start_time": "2021-12-14T18:30:07.239Z"
   },
   {
    "duration": 9,
    "start_time": "2021-12-14T18:30:07.555Z"
   },
   {
    "duration": 427,
    "start_time": "2021-12-14T18:30:07.566Z"
   },
   {
    "duration": 7,
    "start_time": "2021-12-14T18:30:07.995Z"
   },
   {
    "duration": 442,
    "start_time": "2021-12-14T18:30:08.005Z"
   },
   {
    "duration": 12,
    "start_time": "2021-12-14T18:30:08.450Z"
   },
   {
    "duration": 416,
    "start_time": "2021-12-14T18:30:08.465Z"
   },
   {
    "duration": 6,
    "start_time": "2021-12-14T18:30:08.884Z"
   },
   {
    "duration": 394,
    "start_time": "2021-12-14T18:30:08.893Z"
   },
   {
    "duration": 8,
    "start_time": "2021-12-14T18:30:09.290Z"
   },
   {
    "duration": 18,
    "start_time": "2021-12-14T18:30:09.301Z"
   },
   {
    "duration": 560,
    "start_time": "2021-12-14T18:30:09.322Z"
   },
   {
    "duration": 7,
    "start_time": "2021-12-14T18:30:09.884Z"
   },
   {
    "duration": 465,
    "start_time": "2021-12-14T18:30:09.894Z"
   },
   {
    "duration": 8,
    "start_time": "2021-12-14T18:30:10.361Z"
   },
   {
    "duration": 14,
    "start_time": "2021-12-14T18:30:10.371Z"
   },
   {
    "duration": 430,
    "start_time": "2021-12-14T18:30:10.388Z"
   },
   {
    "duration": 8,
    "start_time": "2021-12-14T18:30:10.821Z"
   },
   {
    "duration": 437,
    "start_time": "2021-12-14T18:30:10.831Z"
   },
   {
    "duration": 7,
    "start_time": "2021-12-14T18:30:11.270Z"
   },
   {
    "duration": 20,
    "start_time": "2021-12-14T18:30:11.279Z"
   },
   {
    "duration": 19,
    "start_time": "2021-12-14T18:30:11.301Z"
   },
   {
    "duration": 62,
    "start_time": "2021-12-14T18:30:11.323Z"
   },
   {
    "duration": 14,
    "start_time": "2021-12-14T18:30:11.388Z"
   },
   {
    "duration": 119,
    "start_time": "2021-12-14T18:30:11.404Z"
   },
   {
    "duration": 34,
    "start_time": "2021-12-14T18:30:11.526Z"
   },
   {
    "duration": 14,
    "start_time": "2021-12-14T18:30:11.563Z"
   },
   {
    "duration": 15,
    "start_time": "2021-12-14T18:30:11.580Z"
   },
   {
    "duration": 16,
    "start_time": "2021-12-14T18:30:11.597Z"
   },
   {
    "duration": 55,
    "start_time": "2021-12-14T18:30:11.616Z"
   },
   {
    "duration": 15,
    "start_time": "2021-12-14T18:30:11.674Z"
   },
   {
    "duration": 15,
    "start_time": "2021-12-14T18:30:11.691Z"
   },
   {
    "duration": 19,
    "start_time": "2021-12-14T18:30:11.708Z"
   },
   {
    "duration": 44,
    "start_time": "2021-12-14T18:30:11.729Z"
   },
   {
    "duration": 16,
    "start_time": "2021-12-14T18:30:11.776Z"
   },
   {
    "duration": 15,
    "start_time": "2021-12-14T18:30:11.795Z"
   },
   {
    "duration": 49,
    "start_time": "2021-12-14T18:30:11.813Z"
   },
   {
    "duration": 14,
    "start_time": "2021-12-14T18:30:11.864Z"
   },
   {
    "duration": 7,
    "start_time": "2021-12-14T18:30:11.880Z"
   },
   {
    "duration": 765,
    "start_time": "2021-12-14T19:22:54.386Z"
   },
   {
    "duration": 861,
    "start_time": "2021-12-14T19:25:22.027Z"
   },
   {
    "duration": 653,
    "start_time": "2021-12-14T19:25:31.406Z"
   },
   {
    "duration": 342,
    "start_time": "2021-12-14T19:43:23.754Z"
   },
   {
    "duration": 1431,
    "start_time": "2021-12-14T19:43:40.259Z"
   },
   {
    "duration": 46,
    "start_time": "2021-12-14T19:43:41.692Z"
   },
   {
    "duration": 21,
    "start_time": "2021-12-14T19:43:41.741Z"
   },
   {
    "duration": 16,
    "start_time": "2021-12-14T19:43:41.765Z"
   },
   {
    "duration": 69,
    "start_time": "2021-12-14T19:43:41.784Z"
   },
   {
    "duration": 6,
    "start_time": "2021-12-14T19:43:41.856Z"
   },
   {
    "duration": 68,
    "start_time": "2021-12-14T19:43:41.865Z"
   },
   {
    "duration": 7,
    "start_time": "2021-12-14T19:43:41.936Z"
   },
   {
    "duration": 6,
    "start_time": "2021-12-14T19:43:41.949Z"
   },
   {
    "duration": 11,
    "start_time": "2021-12-14T19:43:41.958Z"
   },
   {
    "duration": 61,
    "start_time": "2021-12-14T19:43:41.972Z"
   },
   {
    "duration": 19,
    "start_time": "2021-12-14T19:43:42.036Z"
   },
   {
    "duration": 20,
    "start_time": "2021-12-14T19:43:42.058Z"
   },
   {
    "duration": 39,
    "start_time": "2021-12-14T19:43:42.080Z"
   },
   {
    "duration": 13,
    "start_time": "2021-12-14T19:43:42.121Z"
   },
   {
    "duration": 17,
    "start_time": "2021-12-14T19:43:42.137Z"
   },
   {
    "duration": 22,
    "start_time": "2021-12-14T19:43:42.157Z"
   },
   {
    "duration": 343,
    "start_time": "2021-12-14T19:43:42.182Z"
   },
   {
    "duration": 315,
    "start_time": "2021-12-14T19:43:42.528Z"
   },
   {
    "duration": 73,
    "start_time": "2021-12-14T19:43:42.845Z"
   },
   {
    "duration": 699,
    "start_time": "2021-12-14T19:43:42.921Z"
   },
   {
    "duration": 19,
    "start_time": "2021-12-14T19:43:43.622Z"
   },
   {
    "duration": 257,
    "start_time": "2021-12-14T19:43:43.644Z"
   },
   {
    "duration": 248,
    "start_time": "2021-12-14T19:43:43.904Z"
   },
   {
    "duration": 314,
    "start_time": "2021-12-14T19:43:44.155Z"
   },
   {
    "duration": 1132,
    "start_time": "2021-12-14T19:43:44.471Z"
   },
   {
    "duration": 1233,
    "start_time": "2021-12-14T19:43:45.619Z"
   },
   {
    "duration": 310,
    "start_time": "2021-12-14T19:43:46.855Z"
   },
   {
    "duration": 9,
    "start_time": "2021-12-14T19:43:47.167Z"
   },
   {
    "duration": 439,
    "start_time": "2021-12-14T19:43:47.178Z"
   },
   {
    "duration": 6,
    "start_time": "2021-12-14T19:43:47.620Z"
   },
   {
    "duration": 411,
    "start_time": "2021-12-14T19:43:47.628Z"
   },
   {
    "duration": 5,
    "start_time": "2021-12-14T19:43:48.042Z"
   },
   {
    "duration": 415,
    "start_time": "2021-12-14T19:43:48.050Z"
   },
   {
    "duration": 6,
    "start_time": "2021-12-14T19:43:48.467Z"
   },
   {
    "duration": 564,
    "start_time": "2021-12-14T19:43:48.475Z"
   },
   {
    "duration": 6,
    "start_time": "2021-12-14T19:43:49.041Z"
   },
   {
    "duration": 10,
    "start_time": "2021-12-14T19:43:49.050Z"
   },
   {
    "duration": 441,
    "start_time": "2021-12-14T19:43:49.062Z"
   },
   {
    "duration": 15,
    "start_time": "2021-12-14T19:43:49.506Z"
   },
   {
    "duration": 405,
    "start_time": "2021-12-14T19:43:49.523Z"
   },
   {
    "duration": 6,
    "start_time": "2021-12-14T19:43:49.931Z"
   },
   {
    "duration": 13,
    "start_time": "2021-12-14T19:43:49.940Z"
   },
   {
    "duration": 417,
    "start_time": "2021-12-14T19:43:49.956Z"
   },
   {
    "duration": 7,
    "start_time": "2021-12-14T19:43:50.375Z"
   },
   {
    "duration": 446,
    "start_time": "2021-12-14T19:43:50.385Z"
   },
   {
    "duration": 6,
    "start_time": "2021-12-14T19:43:50.833Z"
   },
   {
    "duration": 23,
    "start_time": "2021-12-14T19:43:50.842Z"
   },
   {
    "duration": 21,
    "start_time": "2021-12-14T19:43:50.867Z"
   },
   {
    "duration": 58,
    "start_time": "2021-12-14T19:43:50.891Z"
   },
   {
    "duration": 33,
    "start_time": "2021-12-14T19:43:50.952Z"
   },
   {
    "duration": 35,
    "start_time": "2021-12-14T19:43:50.988Z"
   },
   {
    "duration": 28,
    "start_time": "2021-12-14T19:43:51.025Z"
   },
   {
    "duration": 17,
    "start_time": "2021-12-14T19:43:51.056Z"
   },
   {
    "duration": 40,
    "start_time": "2021-12-14T19:43:51.076Z"
   },
   {
    "duration": 17,
    "start_time": "2021-12-14T19:43:51.119Z"
   },
   {
    "duration": 17,
    "start_time": "2021-12-14T19:43:51.139Z"
   },
   {
    "duration": 57,
    "start_time": "2021-12-14T19:43:51.159Z"
   },
   {
    "duration": 14,
    "start_time": "2021-12-14T19:43:51.219Z"
   },
   {
    "duration": 20,
    "start_time": "2021-12-14T19:43:51.236Z"
   },
   {
    "duration": 15,
    "start_time": "2021-12-14T19:43:51.259Z"
   },
   {
    "duration": 54,
    "start_time": "2021-12-14T19:43:51.276Z"
   },
   {
    "duration": 10,
    "start_time": "2021-12-14T19:43:51.332Z"
   },
   {
    "duration": 8,
    "start_time": "2021-12-14T19:43:51.344Z"
   },
   {
    "duration": 10,
    "start_time": "2021-12-14T19:43:51.355Z"
   },
   {
    "duration": 50,
    "start_time": "2021-12-14T19:43:51.368Z"
   },
   {
    "duration": 1084,
    "start_time": "2021-12-14T19:44:37.487Z"
   },
   {
    "duration": 4,
    "start_time": "2021-12-14T19:44:54.798Z"
   },
   {
    "duration": 641,
    "start_time": "2021-12-14T19:46:29.939Z"
   },
   {
    "duration": 1154,
    "start_time": "2021-12-14T19:46:56.647Z"
   },
   {
    "duration": 663,
    "start_time": "2021-12-14T19:47:52.221Z"
   },
   {
    "duration": 210,
    "start_time": "2021-12-14T19:49:11.461Z"
   },
   {
    "duration": 378,
    "start_time": "2021-12-14T19:50:00.080Z"
   },
   {
    "duration": 609,
    "start_time": "2021-12-14T19:52:20.216Z"
   },
   {
    "duration": 619,
    "start_time": "2021-12-14T19:53:14.274Z"
   },
   {
    "duration": 776,
    "start_time": "2021-12-14T19:53:21.007Z"
   },
   {
    "duration": 873,
    "start_time": "2021-12-14T19:56:27.467Z"
   },
   {
    "duration": 856,
    "start_time": "2021-12-14T19:58:27.824Z"
   },
   {
    "duration": 915,
    "start_time": "2021-12-14T19:58:38.323Z"
   },
   {
    "duration": 969,
    "start_time": "2021-12-14T19:58:52.584Z"
   },
   {
    "duration": 864,
    "start_time": "2021-12-14T19:59:14.393Z"
   },
   {
    "duration": 854,
    "start_time": "2021-12-14T19:59:39.666Z"
   },
   {
    "duration": 795,
    "start_time": "2021-12-14T20:00:34.601Z"
   },
   {
    "duration": 614,
    "start_time": "2021-12-14T20:00:45.992Z"
   },
   {
    "duration": 669,
    "start_time": "2021-12-14T20:44:50.517Z"
   },
   {
    "duration": 5,
    "start_time": "2021-12-14T20:45:04.685Z"
   },
   {
    "duration": 7,
    "start_time": "2021-12-14T20:45:18.685Z"
   },
   {
    "duration": 643,
    "start_time": "2021-12-14T20:45:39.801Z"
   },
   {
    "duration": 850,
    "start_time": "2021-12-14T20:48:30.247Z"
   },
   {
    "duration": 619,
    "start_time": "2021-12-14T20:49:38.308Z"
   },
   {
    "duration": 735,
    "start_time": "2021-12-14T20:49:55.031Z"
   },
   {
    "duration": 648,
    "start_time": "2021-12-14T20:50:08.706Z"
   },
   {
    "duration": 869,
    "start_time": "2021-12-14T20:50:51.968Z"
   },
   {
    "duration": 929,
    "start_time": "2021-12-14T20:50:56.449Z"
   },
   {
    "duration": 644,
    "start_time": "2021-12-14T20:51:45.704Z"
   },
   {
    "duration": 625,
    "start_time": "2021-12-14T20:52:29.873Z"
   },
   {
    "duration": 733,
    "start_time": "2021-12-14T20:52:41.985Z"
   },
   {
    "duration": 722,
    "start_time": "2021-12-14T20:52:47.800Z"
   },
   {
    "duration": 639,
    "start_time": "2021-12-14T20:53:17.902Z"
   },
   {
    "duration": 667,
    "start_time": "2021-12-14T20:53:37.191Z"
   },
   {
    "duration": 74,
    "start_time": "2021-12-14T20:55:45.827Z"
   },
   {
    "duration": 102,
    "start_time": "2021-12-14T20:56:28.975Z"
   },
   {
    "duration": 685,
    "start_time": "2021-12-14T20:58:47.155Z"
   },
   {
    "duration": 803,
    "start_time": "2021-12-14T20:59:51.887Z"
   },
   {
    "duration": 1477,
    "start_time": "2021-12-14T21:04:12.052Z"
   },
   {
    "duration": 45,
    "start_time": "2021-12-14T21:04:13.532Z"
   },
   {
    "duration": 22,
    "start_time": "2021-12-14T21:04:13.580Z"
   },
   {
    "duration": 14,
    "start_time": "2021-12-14T21:04:13.618Z"
   },
   {
    "duration": 44,
    "start_time": "2021-12-14T21:04:13.635Z"
   },
   {
    "duration": 38,
    "start_time": "2021-12-14T21:04:13.682Z"
   },
   {
    "duration": 30,
    "start_time": "2021-12-14T21:04:13.723Z"
   },
   {
    "duration": 5,
    "start_time": "2021-12-14T21:04:13.757Z"
   },
   {
    "duration": 51,
    "start_time": "2021-12-14T21:04:13.766Z"
   },
   {
    "duration": 12,
    "start_time": "2021-12-14T21:04:13.819Z"
   },
   {
    "duration": 27,
    "start_time": "2021-12-14T21:04:13.834Z"
   },
   {
    "duration": 62,
    "start_time": "2021-12-14T21:04:13.864Z"
   },
   {
    "duration": 20,
    "start_time": "2021-12-14T21:04:13.929Z"
   },
   {
    "duration": 7,
    "start_time": "2021-12-14T21:04:13.952Z"
   },
   {
    "duration": 56,
    "start_time": "2021-12-14T21:04:13.961Z"
   },
   {
    "duration": 16,
    "start_time": "2021-12-14T21:04:14.020Z"
   },
   {
    "duration": 23,
    "start_time": "2021-12-14T21:04:14.038Z"
   },
   {
    "duration": 406,
    "start_time": "2021-12-14T21:04:14.064Z"
   },
   {
    "duration": 322,
    "start_time": "2021-12-14T21:04:14.473Z"
   },
   {
    "duration": 67,
    "start_time": "2021-12-14T21:04:14.797Z"
   },
   {
    "duration": 706,
    "start_time": "2021-12-14T21:04:14.866Z"
   },
   {
    "duration": 18,
    "start_time": "2021-12-14T21:04:15.574Z"
   },
   {
    "duration": 254,
    "start_time": "2021-12-14T21:04:15.598Z"
   },
   {
    "duration": 265,
    "start_time": "2021-12-14T21:04:15.856Z"
   },
   {
    "duration": 319,
    "start_time": "2021-12-14T21:04:16.123Z"
   },
   {
    "duration": 675,
    "start_time": "2021-12-14T21:04:16.445Z"
   },
   {
    "duration": 319,
    "start_time": "2021-12-14T21:04:17.122Z"
   },
   {
    "duration": 11,
    "start_time": "2021-12-14T21:04:17.443Z"
   },
   {
    "duration": 453,
    "start_time": "2021-12-14T21:04:17.457Z"
   },
   {
    "duration": 8,
    "start_time": "2021-12-14T21:04:17.912Z"
   },
   {
    "duration": 416,
    "start_time": "2021-12-14T21:04:17.923Z"
   },
   {
    "duration": 6,
    "start_time": "2021-12-14T21:04:18.341Z"
   },
   {
    "duration": 406,
    "start_time": "2021-12-14T21:04:18.349Z"
   },
   {
    "duration": 6,
    "start_time": "2021-12-14T21:04:18.758Z"
   },
   {
    "duration": 452,
    "start_time": "2021-12-14T21:04:18.767Z"
   },
   {
    "duration": 6,
    "start_time": "2021-12-14T21:04:19.221Z"
   },
   {
    "duration": 23,
    "start_time": "2021-12-14T21:04:19.229Z"
   },
   {
    "duration": 392,
    "start_time": "2021-12-14T21:04:19.254Z"
   },
   {
    "duration": 7,
    "start_time": "2021-12-14T21:04:19.648Z"
   },
   {
    "duration": 446,
    "start_time": "2021-12-14T21:04:19.657Z"
   },
   {
    "duration": 14,
    "start_time": "2021-12-14T21:04:20.106Z"
   },
   {
    "duration": 18,
    "start_time": "2021-12-14T21:04:20.122Z"
   },
   {
    "duration": 416,
    "start_time": "2021-12-14T21:04:20.142Z"
   },
   {
    "duration": 7,
    "start_time": "2021-12-14T21:04:20.560Z"
   },
   {
    "duration": 510,
    "start_time": "2021-12-14T21:04:20.569Z"
   },
   {
    "duration": 6,
    "start_time": "2021-12-14T21:04:21.082Z"
   },
   {
    "duration": 41,
    "start_time": "2021-12-14T21:04:21.090Z"
   },
   {
    "duration": 19,
    "start_time": "2021-12-14T21:04:21.133Z"
   },
   {
    "duration": 64,
    "start_time": "2021-12-14T21:04:21.154Z"
   },
   {
    "duration": 15,
    "start_time": "2021-12-14T21:04:21.221Z"
   },
   {
    "duration": 22,
    "start_time": "2021-12-14T21:04:21.238Z"
   },
   {
    "duration": 16,
    "start_time": "2021-12-14T21:04:21.262Z"
   },
   {
    "duration": 15,
    "start_time": "2021-12-14T21:04:21.317Z"
   },
   {
    "duration": 15,
    "start_time": "2021-12-14T21:04:21.334Z"
   },
   {
    "duration": 15,
    "start_time": "2021-12-14T21:04:21.351Z"
   },
   {
    "duration": 60,
    "start_time": "2021-12-14T21:04:21.369Z"
   },
   {
    "duration": 16,
    "start_time": "2021-12-14T21:04:21.431Z"
   },
   {
    "duration": 14,
    "start_time": "2021-12-14T21:04:21.449Z"
   },
   {
    "duration": 60,
    "start_time": "2021-12-14T21:04:21.465Z"
   },
   {
    "duration": 17,
    "start_time": "2021-12-14T21:04:21.527Z"
   },
   {
    "duration": 15,
    "start_time": "2021-12-14T21:04:21.546Z"
   },
   {
    "duration": 10,
    "start_time": "2021-12-14T21:04:21.563Z"
   },
   {
    "duration": 7,
    "start_time": "2021-12-14T21:04:21.618Z"
   },
   {
    "duration": 11,
    "start_time": "2021-12-14T21:04:21.627Z"
   },
   {
    "duration": 8,
    "start_time": "2021-12-14T21:04:21.640Z"
   }
  ],
  "kernelspec": {
   "display_name": "Python 3 (ipykernel)",
   "language": "python",
   "name": "python3"
  },
  "language_info": {
   "codemirror_mode": {
    "name": "ipython",
    "version": 3
   },
   "file_extension": ".py",
   "mimetype": "text/x-python",
   "name": "python",
   "nbconvert_exporter": "python",
   "pygments_lexer": "ipython3",
   "version": "3.9.7"
  },
  "toc": {
   "base_numbering": 1,
   "nav_menu": {},
   "number_sections": true,
   "sideBar": true,
   "skip_h1_title": true,
   "title_cell": "Table of Contents",
   "title_sidebar": "Contents",
   "toc_cell": false,
   "toc_position": {},
   "toc_section_display": true,
   "toc_window_display": false
  }
 },
 "nbformat": 4,
 "nbformat_minor": 2
}
